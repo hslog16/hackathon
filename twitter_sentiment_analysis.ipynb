{
  "nbformat": 4,
  "nbformat_minor": 0,
  "metadata": {
    "colab": {
      "name": "twitter sentiment analysis.ipynb",
      "version": "0.3.2",
      "provenance": [],
      "collapsed_sections": [],
      "include_colab_link": true
    },
    "kernelspec": {
      "name": "python3",
      "display_name": "Python 3"
    }
  },
  "cells": [
    {
      "cell_type": "markdown",
      "metadata": {
        "id": "view-in-github",
        "colab_type": "text"
      },
      "source": [
        "<a href=\"https://colab.research.google.com/github/hslog16/hackathon/blob/master/twitter_sentiment_analysis.ipynb\" target=\"_parent\"><img src=\"https://colab.research.google.com/assets/colab-badge.svg\" alt=\"Open In Colab\"/></a>"
      ]
    },
    {
      "cell_type": "code",
      "metadata": {
        "id": "7AnkGtHxKokq",
        "colab_type": "code",
        "colab": {}
      },
      "source": [
        "from google.colab import files\n",
        "files.upload()"
      ],
      "execution_count": 0,
      "outputs": []
    },
    {
      "cell_type": "code",
      "metadata": {
        "id": "44zrYvUpJjK_",
        "colab_type": "code",
        "outputId": "0b51240d-5b47-4693-d3a6-e710a98216fe",
        "colab": {
          "base_uri": "https://localhost:8080/",
          "height": 34
        }
      },
      "source": [
        "!ls"
      ],
      "execution_count": 0,
      "outputs": [
        {
          "output_type": "stream",
          "text": [
            "datalab  nltk_data  res.csv  test.csv  train.csv\r\n"
          ],
          "name": "stdout"
        }
      ]
    },
    {
      "cell_type": "code",
      "metadata": {
        "id": "dRfCk1vXP12f",
        "colab_type": "code",
        "colab": {}
      },
      "source": [
        "!mv 0000000000002747_test_twitter_x_test.csv test.csv"
      ],
      "execution_count": 0,
      "outputs": []
    },
    {
      "cell_type": "code",
      "metadata": {
        "id": "plLVRiWrP6o5",
        "colab_type": "code",
        "colab": {}
      },
      "source": [
        "!mv 0000000000002747_training_twitter_x_y_train.csv  train.csv"
      ],
      "execution_count": 0,
      "outputs": []
    },
    {
      "cell_type": "code",
      "metadata": {
        "id": "7H6F-y6jJk50",
        "colab_type": "code",
        "colab": {}
      },
      "source": [
        "import pandas as pd\n",
        "df = pd.read_csv(\"train.csv\")"
      ],
      "execution_count": 0,
      "outputs": []
    },
    {
      "cell_type": "code",
      "metadata": {
        "id": "Hba7BspLQUXn",
        "colab_type": "code",
        "colab": {}
      },
      "source": [
        "y = pd.DataFrame()"
      ],
      "execution_count": 0,
      "outputs": []
    },
    {
      "cell_type": "code",
      "metadata": {
        "id": "JOACjCgbQBXY",
        "colab_type": "code",
        "colab": {}
      },
      "source": [
        "y['input'] = df['text']"
      ],
      "execution_count": 0,
      "outputs": []
    },
    {
      "cell_type": "code",
      "metadata": {
        "id": "Kp7jiBjuQTCX",
        "colab_type": "code",
        "colab": {}
      },
      "source": [
        "y['out'] = df['airline_sentiment']"
      ],
      "execution_count": 0,
      "outputs": []
    },
    {
      "cell_type": "code",
      "metadata": {
        "id": "ohuH1Tv8RYd0",
        "colab_type": "code",
        "colab": {}
      },
      "source": [
        "from nltk.tokenize import sent_tokenize , word_tokenize\n",
        "import numpy as np"
      ],
      "execution_count": 0,
      "outputs": []
    },
    {
      "cell_type": "code",
      "metadata": {
        "id": "JkUE4dGMSWiP",
        "colab_type": "code",
        "colab": {}
      },
      "source": [
        "from random import shuffle"
      ],
      "execution_count": 0,
      "outputs": []
    },
    {
      "cell_type": "code",
      "metadata": {
        "id": "qg52hJkLSkl6",
        "colab_type": "code",
        "colab": {}
      },
      "source": [
        "sentiment = np.array(y)"
      ],
      "execution_count": 0,
      "outputs": []
    },
    {
      "cell_type": "code",
      "metadata": {
        "id": "VZ7j02wKXG87",
        "colab_type": "code",
        "colab": {}
      },
      "source": [
        "senti = [(word_tokenize(word) , cat) for word , cat in sentiment]"
      ],
      "execution_count": 0,
      "outputs": []
    },
    {
      "cell_type": "code",
      "metadata": {
        "id": "bkzfWJe3Wq9s",
        "colab_type": "code",
        "colab": {}
      },
      "source": [
        "shuffle(senti)"
      ],
      "execution_count": 0,
      "outputs": []
    },
    {
      "cell_type": "code",
      "metadata": {
        "id": "CRgpM7mQYs00",
        "colab_type": "code",
        "colab": {}
      },
      "source": [
        "from nltk import pos_tag"
      ],
      "execution_count": 0,
      "outputs": []
    },
    {
      "cell_type": "code",
      "metadata": {
        "id": "J6Asl_zEaJIU",
        "colab_type": "code",
        "colab": {}
      },
      "source": [
        "from nltk.corpus import wordnet"
      ],
      "execution_count": 0,
      "outputs": []
    },
    {
      "cell_type": "code",
      "metadata": {
        "id": "VsQAWF6ZZDnH",
        "colab_type": "code",
        "colab": {}
      },
      "source": [
        "def simple_pos(word):\n",
        "  if word.startswith('J'):\n",
        "    return wordnet.ADJ\n",
        "  elif word.startswith('V'):\n",
        "    return wordnet.VERB\n",
        "  elif word.startswith('N'):\n",
        "    return wordnet.NOUN\n",
        "  elif word.startswith('R'):\n",
        "    return wordnet.ADV\n",
        "  else:\n",
        "    return wordnet.NOUN"
      ],
      "execution_count": 0,
      "outputs": []
    },
    {
      "cell_type": "code",
      "metadata": {
        "id": "rYJEYvHwbVUh",
        "colab_type": "code",
        "colab": {}
      },
      "source": [
        "from nltk.corpus import stopwords\n",
        "import string\n",
        "stop = list(set(stopwords.words('english')))\n",
        "stop += list(string.punctuation)"
      ],
      "execution_count": 0,
      "outputs": []
    },
    {
      "cell_type": "code",
      "metadata": {
        "id": "69LttWhJdrvd",
        "colab_type": "code",
        "colab": {}
      },
      "source": [
        "from nltk.stem import WordNetLemmatizer as lemme\n",
        "lemma = lemme()"
      ],
      "execution_count": 0,
      "outputs": []
    },
    {
      "cell_type": "code",
      "metadata": {
        "id": "ww0qKvQFa-zd",
        "colab_type": "code",
        "colab": {}
      },
      "source": [
        "def clean(words):\n",
        "  output = []\n",
        "  for w in words:\n",
        "    if w.lower() not in stop:\n",
        "      pos = pos_tag([w])\n",
        "      clean_word = lemma.lemmatize(w , pos = simple_pos(pos[0][1]))\n",
        "      output.append(clean_word.lower())\n",
        "  return output"
      ],
      "execution_count": 0,
      "outputs": []
    },
    {
      "cell_type": "code",
      "metadata": {
        "id": "KM9CzSp1fk57",
        "colab_type": "code",
        "colab": {}
      },
      "source": [
        "finale = [ (clean(docs),cat)  for docs , cat in senti ]"
      ],
      "execution_count": 0,
      "outputs": []
    },
    {
      "cell_type": "code",
      "metadata": {
        "id": "1FfAcyrnf5gv",
        "colab_type": "code",
        "colab": {}
      },
      "source": [
        "shuffle(finale)"
      ],
      "execution_count": 0,
      "outputs": []
    },
    {
      "cell_type": "code",
      "metadata": {
        "id": "Si1nBuRpWSHe",
        "colab_type": "code",
        "colab": {}
      },
      "source": [
        "train = finale"
      ],
      "execution_count": 0,
      "outputs": []
    },
    {
      "cell_type": "code",
      "metadata": {
        "id": "JFsCeY_jSv4b",
        "colab_type": "code",
        "colab": {}
      },
      "source": [
        "words=[]\n",
        "for w in train:\n",
        "  words+=w[0]"
      ],
      "execution_count": 0,
      "outputs": []
    },
    {
      "cell_type": "code",
      "metadata": {
        "id": "nFo1UVCgX2QX",
        "colab_type": "code",
        "colab": {}
      },
      "source": [
        "import nltk\n",
        "init_features = nltk.FreqDist(words)"
      ],
      "execution_count": 0,
      "outputs": []
    },
    {
      "cell_type": "code",
      "metadata": {
        "id": "ir7qaai0o93Q",
        "colab_type": "code",
        "outputId": "694d26fe-f6f9-4f4f-dedc-b905c3ee60b4",
        "colab": {
          "base_uri": "https://localhost:8080/",
          "height": 54
        }
      },
      "source": [
        "init_features.keys()"
      ],
      "execution_count": 0,
      "outputs": [
        {
          "output_type": "execute_result",
          "data": {
            "text/plain": [
              "dict_keys(['usairways', 'stuck', 'ramp', 'dca', 'us', 'air', 'computer', 'system', 'crashed', '...', 'everywhere', 'united', 'would', 'like', '2', 'speak', 'vp', 'custexp', 'jimmy', 'samartzis', 'sent', 'survey/email', 'awful', 'flight', 'exp', 'http', '//t.co/otfz7cyguq', 'scm1133', 'hate', 'delay', 'try', '//t.co/7stktjxan1', 'although', \"'re\", 'sure', 'timbit', 'southwestair', 'wife', 'need', 'help', 'strand', 'chicago', 'ca', \"n't\", 'get', 'monday', 'wo', 'find', 'bag', 'volume', 'high', 'frustrate', 'checked', 'logan', 'give', 'luggage', 'ticket', 'lose', 'amp', 'ownership', 'jetblue', 'june', 'yet', '😊', 'americanair', 'thank', 'bumping', 'people', 'ten', 'minute', 'takeoff', 'overbooked', 'fail', 'delayed', 'cabcelled', 'virginamerica', 'watch', 'best', 'student', 'film', 'country', '35,000', 'foot', 'cmfat35000feet', '//t.co/kek5pdmgif', 'possible', 'call', 'swa', 'phone', 'put', 'hold', 'hour', 'cut', 'dmed', 'detail', 'cool', 'announce', '``', \"''\", 'everyone', 'check', '4', 'bdl-dca', 'staff', 'offering', 'shannonbloom', \"'s\", 'dm', 'voucher', 'pay', '70', 'cab', '50', 'car', 'back', 'jfk', 'tomorrow', '45', 'martysg', '*know*', 'love', 'jb', 'honestly', 'complex', 'feedback', 'pull-down', 'sub-option', 'forms=maddening', 'really', 'even', 'look', 'see', 'happened/what', 'could', 'well', 'next', 'time', 'thanks', 'know', 'route', 'currently', 'newark', 'wonder', 'new', 'one', 'horizon', 'middle', 'seat', '//t.co/dzegapfqw1', 'fly', 'mess', 'iad', 'san', 'diego', '//t.co/tlpbaupik5', 'another', 'go', 'sit', 'snow', 'seriously', '//t.co/fupf0uayir', 'prove', 'worst', 'customer', 'service', 'ever', 'u', 'guy', 'suck', \"'ll\", 'never', 'ur', 'supervisor', 'yes', 'terra', 'blue', 'chip', 'favorite', 'future', 'first', 'agent', 'hung', 'pet', 'travel', 'line', 'hell', \"'m\", 'shut', 'data', 'want', 'response', 'land', 'estimate', 'dep', '10am', 'understand', '3', 'hr', 'ago', 'poor', 'think', 'befor', 'booking', 'problems', 'run', '10', 'min', 'sat', 'plane', '830', 'clt', 'phl', '1st', 'list.someone', 'else', 'spot', 'rude', 'employee', 'coach', 'wouldt', 'id', 'said', 'cute', 'red', 'head', 'yall', 'still', 'cold', 'right', 'miami', 'airline', 'tonight', 'houston', 'till', 'bad', 'weather', 'move', 'already', 'vomit', 'halfway', 'brd', 'now.frustrated', 'buf', 'roc.if', 'tld', 'flt', 'gng', '2b', 'held', 'earlier', 'mess.cng', 'bk', 'unable', 'due', 'overbk', 'absolutely', 'false', 'stmt', 'comedy', 'error', 'incl', 'catering', 'etc', 'getyouracttogether', 'appreciate', 'direct', 'pitt', 'official', 'terminal', '5', 'york…', '//t.co/qygxgmd3sn', 'board', 'au1066', 'early', 'keep', 'tell', 'late', 'flightr', 'disconnect', 'talk', 'someone', 'long', 'take', 'credit', 'aa', 'account', 'traveled', 'jan', 'leg', 'report', 'asked', 'ok', 'start', 'brands', 'stop', 'shit', 'rt', 'fleet', 'fleek', '//t.co/skebqktxvx', 'thing', 'confuse', 'priority', 'boarding', 'mileage', 'plus', 'card', 'member', '😔', 'folk', 'use', 'matter', 'complain', 'brutal', 'today', 'unfold', 'twitter', 'proud', 'policy-', 'say', 'soon', 'enough', 'change', 'notice', 'sooner', 'charge', 'oversize', 'overweight', 'wonderful', 'job', 'got', 'daughter', 'pgh', 'orlando', 'departure', 'update', 'possibly', 'trip', 'anymore', 'terrible', 'disappointed', 'request', 'refund', 'twice', 'place', 'understandable', 'every', 'single', 'domestic', 'inbound', \"int'l\", 'crazy', 'number', 'list', 'friday', 'real', 'live', 'person', '//t.co/8tjuum22dd', 'sunday', 'wait', 'clever', '😃', '//t.co/qn5odugfqk', 'wear', 'truebluecolors', '3days', 'anyone', 'pick', 'ph', 'til', '130', 'insane', 'ty', 'consideration', 'force', 'baby', 'complains', 'much', 'baby..', 'meal', 'might', 'membership', 'golf', 'club', 'oversized', 'case', 'confirmation', 'dead', '//t.co/g4o6yx7tmj', 'email', 'address/username', 'sign-on', 'available', 'cancelled', 'flighted', 'miss', 'chance', '1/2', '2nd', 'day', 'gate', 'anything', 'memory', 'neveragain', 'connection', 'good', 'reflight', 'last', '42', 'average', '30', 'maybe', 'understaffed', 'upgrade', 'class', 'open', 'valuable', 'item', 'replace', 'upset', 'room', 'row', 'fill', 'bin', 'pls', '//t.co/2ny5tuxfqf', 'connect', 'makes', 'straight', 'extra', 'co', 'longer', 'accept', '1', 'way', 'nyc', 'silence', 'oh', 'certainly', 'two', '275', 'pending', 'transaction', 'bank', 'happy', 'double', 'address', 'reach', 'whole', 'level', 'baggage', 'evidently', 'mean', 'come', 'courrier', 'care', '1891', 'though', 'k', 'ow', 'cause', 'failure', 'basically', '//t.co/in24bpb7dw', 'pummel', 'dfwairport', 'lucky', 'slcairport', 'austinairport', 'noltnancy', 'may', 'learn', 'famous', 'apology', 'social', 'medium', 'marketing', 'asset', 'jet', 'phd_mama_', 'hire', 'half', 'music', 'fix', 'certain', 'track', 'loud', 'button', 'mash', 'tone', 'them.estimated', 'trouble', 'news', 'raise', 'bar', 'legroom', '//t.co/nmbhngnmki', 'announced', 'perfect', 'lgjw7b', 'voluntarily', 'rerouted', 'journey', 'economy', 'suppose', '8b', 'res', \"'d\", 'reserve', '4-6', 'week', 'mileageplus', 'premier', 'stillwaiting', 'doesntfeellikestatusyet', 'select', 'online', 'dfw', 'iah', \"'ve\", 'completely', 'ruin', 'pro', 'athlete', 'ability', 'prepare', 'race', 'bike', 'dr', 'hope', 'dont', 'please', 'fuck', 'girlfriend', '-_-', 'website', 'three', 'boot', 'umpteen', 'reason', 'vacation', 'realize', 'figure', 'steal', 'security', 'camera', 'flightled', 'stupidly', 'rebooked', 'reservation', 'cross', 'morning', 'food', 'badservice', 'going', 'drive', '6', 'spent', 'hour+', 'military', 'pas', 'awesome', 'library', 'told', 'support', 'nobody', 'igiveup', 'wtf', '1:30', 'dc', 'bos', 'leave', 'runway', 'total', 'bs', 'home', 'rebook', 'ahhhh', 'sorry', 'follow', 'thankful', 'orf', 'crew', 'ground', 'sick', 'kid', 'flew', 'francisco', 'fort', 'lauderdale', 'year', 'fantastic', 'denver', 'dope', '👌', 'horrific', 'experience', 'make', 'airplane', '1219', 'frustration', 'boil', 'deal', 'attendant', 'attitude', 'ridiculous', 'status', 'ua1532', 'team', 'thankfully', 'submit', 'complaint', 'resolution', 'amaze', 'rep', 'plans', 'include', 'austin', 'dallas', 'topnews', 'arab', 'emirates', '//t.co/aqzwecokk2', 'write', 'physical', 'letter', 'fraud', 'department', 'telephone', 'pregnant', 'twin', 'abandon', 'overnight', 'airport', 'hotel', 'fault', 'word', 'option', 'work', 'clue', 'a4', 'b16', 'svc', 'handle', '24hrs', 'flightlation', 'policy', 'booked', 'yesterday', 'exactly', 'hang', 'hook', '//t.co/zhxok07aqa', 'reddit', 'site', 'hey', 'dre', 'seatac', 'stat', 'dude', 'feel', 'value', '👍', '’', '“', 'depends', '”', 'vibe', 'fair', 'rudeness', 'requirement', '28hrs', 'plane😡', 'deny', 'problem', 'approach', 'anniversary', 'hard', 'believe', '15', 'young', '3yr-old-twins', '2hrs', 'nothing', 'tuesday', 'nerdbird', 'jose', 'listen', 'clearly', 'fit', 'sizer', 'many', 'ourprincess', 'freyasfund', 'usa', 'bandie', 'looking', 'help😍', '💗🇬🇧💗🇺🇸💗', '🎀🌏🎀', '//t.co/ujfs9zi6kd', 'nightmare', 'continue', '//t.co/tsvgbrl15f', 'arent', 'calling', 'thru', 'doesnt', 'automate', 'stuff', 'worse', 'laguardia', 'tray', 'table', 'size', 'mouse', 'pad', 'overhead', 'pocket', 'spare', 'none', 'sample', 'itinerary', 'actually', 'book', '//t.co/mf7rabgn8a', 'invalid', \"o'hare\", 'stl', 'southbendinwhere', '🙏', '//t.co/qgwk10dewv', 'passenger', 'left', 'end', 'night', 'hou', '//t.co/zfqmpgxvs6', '9:50am', 'dallas..next', 'afternoon', 'stranded', 'getmeouttahere', 'southwestsucks', 'customerservice', 'flyer', 'switch', 'yeah', 'great', 'mexico', 'instead', 'burden', 'flying', 'philly', 'charlotte', 'lynchburg', 'saw', 'advisory', 'wld', 'orl', 'char', 'view', 'mi', 'name', 'ridic', 'cant', 'transfer', '400', 'youre', '200', 'flightling', 'atleast', 'let', 'damn', 'answer', 'claim', 'ref', '1-2990176298', '1-3001885409', 'accordingly', 'without', 'play', 'va', 'citizen', 'constantly', 'offend', 'derrick', 'bussey', 'im', 'cry', '7', 'pm', 'bag..', 'jetway', 'biz', 'traveler', 'rate', 'travelocity', 'cost', '167', 'train', 'cmon', 'tire', 'ua1127', 'arrive', '55', 'representative', 'guess', 'respond', 'compliment', 'finally', 'las-fll-sju', 'letsgo', 'msg', 'invoice', 'dry', 'cleaning', 'able', 'wet', 'clothes', 'clean', '337', 'thx', '800', 'pleasant', 'less', 'helpful', 'sol', 'consistent', 'cx', 'dunno', 'information..', 'define', 'sincerely', 'action', 'reflect', 'attempt', 'redeem', 'picked', 'soak', 'bagawim', '//t.co/ngxal9oml6', 'mom', 'kindle', '1544', 'burgundy', 'light', '27d', 'lol', 'k.', '//t.co/iux94rgc83', 'inaccurate/misleading', 'info', 'seem', 'hopethegearmakesitintact', 'correct', '1242', 'random', '1729', 'alarm', 'delta', 'ask', 'trying', 'locate', 'heathrowairport', 'ua938', 'assist', 'custom', 'carousel', 'nail', 'coffin', 'kind', 'receive', 'ladan', 'nice', 'imagine', 'dragon', 'contest', 'choice', 'meelan', 'uk', 'contact', 'center', 'escalate', 'also', 'promise', 'do', 'complete', 'lack', 'faith', 'company', 'shame', 'challenge', 'question', '😁', 'group', 'prev', 'bumped', 'alone', 'least', 'pretty', 'drove', 'mhtt', '3/13-17', 'lb', 'slc', 'grand', 'tried', 'app', 'web', 'glad', 'ive', 'resolve', 'birthday', 'celebration', 'worry', 'swamp', 'dmd', '^kp', 'mention', 'quiche', 'breakfast', 'tandoori', 'chicken', 'dinner', 'entree', 'accompaniment', 'truly', 'treatment', 'nasty', 'lady', 'senior', 'management', 'illness', 'forfeit', 'mile', 'death', 'far', 'round', 'begin', 'medical', 'practice', 'frequent', 'reply', 'form', 'attention', 'literally', 'sell', 'silverairways', '//t.co/onhxhco6bk', 'ua', 'silver', 'leaving', '6:15', 'reschedule', 'expect', 'via', 'ugh', 'csfail', 'gold', 'few', 'worth', 'hometown', 'den', 'others', 'broken', 'file', 'found', 'sched', 'delivery', 'stay', '24h', 'an', 'sleep', 'floor', 'staralliance', 'reinstate', 'void', 'unitedfail', 'hi', 'friend', 'moment', 'quick', 'auciello', 'hear', 'transpire', '^jh', 'standby', 'storm', 'hit', 'iowa', 'auto', '--', 'alternate', 'loc', 'situation-', 'stacey', 'details-no', 'tsa', '1534', '.how', 'companion', 'joke', 'compare', 'flown', 'peanut', 'allow', 'aircanada', 'okay', 'since', 'buy', 'unhelpful', '//t.co/n5o43svl8i', 'several', 'together', 'reimburse', 'portion', 'american', 'tweet', 'weekend/', 'close', 'relation', 'process', 'nbr', 'dept', '5+', 'behind', 'beyond', 'unacceptable', 'beware', 'barklays', 'cust', 'badly', 'english', 'around', 'meeting', '700', 'dollar', 'toilet', 'deem', 'dark', 'kciairport', '😊😀😃😄', 'ktn', 'combine', 'usair', 'accts', 'unfortunately', 'initial', 'usually', 'involve', 'remove', 'perk', 'hmmm', 'exist', 'create', 'usairsucks', 'trust', 'problemss', 'confirm', 'purchase', 'fact', 'act', 'malfunction', '..', '//t.co/ftv2nwwqf1', 're-routed', 'impossible', 'super', 'bum', 'neveryamind', 'paid', '450', '250', 'easy', 'business', '//t.co/vn3jjia53o', 'full', 'issue', 'nickel', 'dime', 'enjoy', 'tkt', '4:50', 'today..', 'living', 'dfw..', 'hub..', 'ireland', 'almost', 'suggest', '1220', 'uhuh.group', 'nashville', 'preemptive', '//t.co/ybv0xaowkv', 'contd..', 'flite', 'tonite', 'reference', '261093929756', '3rd', 'bot', 'haha', 'always', 'lie', 'bankrupt', 'inflation', '120', 'fee', 'outrageous', '4110', 'mco', 'isp', 'premium', 'across', 'offer', 'sad', 'face', 'resume', 'schedule', 'outside', 'temp', 'currentlysittingontarmac', 'bwi', 'yep—used', 'assign', 'again-get', 'screen', 'thought', 'lot', 'impression', 'count..', 'cash', 'past', '5.5', 'youredoingitwrong', '25', 'whats', 'holdup', '.still', 'inch', '//t.co/lulgnweffh', 'deliver', 'gah', 'disorganise', 'flighting', 'usairwaysfail', 'fully', 'aware', 'rule', 'harsh', 'toward', 'client', 'especially', 'resell', 'truthh4', 'wifi', 'password', 'smh', 'phoenix', 'quickly', 'vegas', 'mine', 'sadly..', 'yea', 'fi', 'stand', '1970', 'fingers', 'perhaps', '//t.co/8vnckgzxl1', 'automatically', 'wish', 'lounge', '4569', 'flightlations', 'happen', '25+', 'painful', 'narrowly', 'snag', 'any1', 'rly', 'goin', '8:30a', '9a', '9:30a', '10a', '11a', '11:30a', '12', '20', 'dis-service', 'provide', '100+', 'flightfail', 'hour20delay', 'add', 'elevate', '//t.co/px8hqoks3r', 'walk', 'desk', '//t.co/p6ucbvlv5e', 'chicago-lax-phx', 'lax', 'phx', '75', '40', 'rather', 'stonewall', 'sister', 'zero', 'type', 'warn', 'willing', 'americanairsucks', 'hiremorepoeple', 'checkout', 'fine', 'seems', 'vx413', 'sec', 'gon', 'na', 'midnight', '2/3', 'otis', 'ord', 'upgraded', 'running', 'tryin', '2days', 'lines', 'busy', 'plse', 'die', '6am', 're-booked', 'las', 'aus', 'heyyyy', 'guyyyys..', 'link', 'clarify', 'happens', 'airways', \"'various\", 'commercial', 'relationship', 'lufthansa', 'capa_aviation', '//t.co/vgqoihtrkh', '❤️', 'fattuesday', 'celebrate', 'mardigras', 'atlanta', 'nut', '//t.co/8wbzorrn3c', 'rdu', 'logistics', 'happily', 'order', 'pgatour', 'ntrustopen', 'dot', 'court', 'anti-consumer', 'ep', '~45', 'public', 'transit', 'expensive', 'promises', 'rachel', 'wong', 'marisol', 'pimentel', 'world', 'chaos', 'big', '.thank', 'eventually', 'flight353', 'baltimore', '//t.co/vlci2kv1ip', 'outlet', 'preflight', 'different', 'equipment', 'month', '++', 'bahamas', 'northeast', 'history', 'garbage', 'maintenance', 'undetermined', 'amount', 'mechanic', 'profile', 'forever', '266', 'lgb', 'sunny', 'cal', '//t.co/v015pk7dsi', 'redemption', 'warehouse', '3/3', 'fare', 'something', 'idea', 'aa3181', 'everything', '*bops', 'newspaper*', 'maatkare67', 'bae', 'tatianaking', 'thewayoftheid', 'acceptable', 'neither', 'onholdwith', 'read', 'nope', 'snowy', 'caught', 'w/', 'promotion', 'kudos', 'field', 'lift', 'spirit', 'ua6357', 'de-icing', 'turn', 'telling', 'kthxbai', 'sprint', \"'kewl\", '0_0', 'deplorable', 'disgust', 'ignorant', '5:30', 'birmingham', '777.70', 'a1', 'wasted', 'trash', 'af', 'quote', '//t.co/gguig3t28z', 'fehqne', '21feb15', 'dca-rsw', '..you', 'portland', 'perth', 'australia', 'true', 'point', 'hilo', '2hr30min', 'software', '8hrs', 'nothin', 'jt', '1156', 'sf', '60', 'second', 'pordes', 'katie', 'c47', 'international', '2516', '2244', 'date/time', 'exact', 'atl-hou', '165', '574', 'math', 'discount', 'award', 'holder', 'chart', 'special', 'dilemma', 'times', '//t.co/osox9h7fwy', 'waive', 'fee-you', 'f5r3zz', 'swu', 'typo', 'post', 'space', 'aa199', 'mxp-jfk', 'feb', '28th', 'flightly', 'old', 'send', 'la', 'destinationdragons', 'rock😎', 'giants', 'virgin', 'america', 'match', 'heaven', 'worthy', 'alert', 'useles', 'slow', 'internet', 'incorrectly', 'brother', 'hot', 'nightlife', '2-3', 'collectively', 'aa953', '24', 'hundred', 'ba', 'inferior', 'nationalize', 'third', 'nation', 'affected', 'money', '9', 'rent', 'accurate', 'safety', 'guide', 'show', 'mp3', 'player', 'usage', '//t.co/nvk3irg4kp', 'first-class', 'cockup', '//t.co/oh7cfv7dhr', 'must', 'plan', 'occurs', 'consistently', 'yyj', 'daily', 'centricity', 'anamarketers', 'free', 'mimosa', 'compensate', 'lasairport', 'block', 'depart', 'lead', '30-60', 'refreshment', 'disappoint', 'sitting', 'ua3728', '3.5hrs', 'albany', 'bother', 'survey', 'note', 'suggestion', '211/ord', 'prevent', 'onboard', 'reasonable', '17', 'horrible', 'ewr', 'cmh', '30min', 'news.flt', 'count', 'towards', 'airlines', 'changing', 'program', 'winners', 'losers', '//t.co/f1yvaio9ul', '//t.co/vglx6ykwqg', '136', 'circle', 'divert', 'upstate', 'ny', 'communication', '2222', 'phl-dfw', 'assistance', 'dale', 'office', 'page', '1946', 'stellar', 'notafanofyourmerger', '805', 'hello', 'dal-mdw', '4053', 'forward', 'comfortable', 'fight', 'took', 'fron', 'tpa-dfw-aus', 'iah-dfw', 'date', 'destination', 'son', 'saturday', 'those😂', '2133', '2pm', 'compensation', 'w/you', 'relevant', 'ritz', 'pr', 'idiot', 'ramada', 'priceless', 'reappear', 'condition', 'arrival', 'city', 'uh', 'easily', '2hr', 'improve', '//t.co/1m36ntptr8', 'syracuse', 'rout', 'set', 'dublin', 'kphl', 'shot', 'incident', '65', '2/22', 'gf', 'despite', 'fell', 'whiskey', 'normally', 'flightst', 'tv', 'properly', 'sway', '//t.co/tqc96tkci9', 'w/u', 'however', 'kiosk', 'syr', 'woman', 'counter..', 'fyi', 'undrstnd', 'wasnt', '-but', 'wlcm', 'onbrd', 'n', 'touch', 'grade', 'timeliness', '👎✈️', 'flightations', '👎😬', '👎😡', '😊👏', 'indication', 'marie', 'cali', 'bound', 'sweet', 'angel', 'bless', 'lame', '8', '1997', 'jetbluecheeps', 'bought', 'dissapointed', 'complimentary', 'accommodation', 'curious', 'sound', '💙💙💙💙', 'ahead', 'cabin', 'en', 'lhr', 'beating', 'apron', 'lookin', 'fc', 'fa', '2062', 'pre', 'dawn', 'hilarious', 'sweetingr', 'finish', 'errored', 'step', 'pull', 'phlairport', '2155', 'arrives', 'e11', 'penguin', 'actual', 'advise', 'waiver', 'stopped', 'yr', 'bc', 'aggressive', 'carryon', 'bdl', 'pssngrs', 'chk', 'preboard', 'notcomingback', '218', 'facepalm', 'rock', '//t.co/zfroinpszi', 'lt', 'child', 'inspire', 'limit', 'bring', 'internationally', 'isnt', 'first-time-flying-w-a-16mo', 'likelihood', 'addtl', '2nt', 'ios', '8.1.3', 'chief', 'cousin', 'alex', 'espinosa', '//t.co/0hxlnvzknp', 'again..', 'yourphonesystemsucks', 'repeat', 'explain', 'conversation', 'missed', '2/13', 'wow', '30+', 'heard', 'whisper', 'probably', 'power', 'felt', 'threaten', 'unsafe', 'angry', 'reiterate', 'deplane', 'husband', 'comically', 'return', 'ase', 'adjacent', 'clear', 'access', 'alright', 'gary', 'serve', 'fll', 'counter', 'delayedl', 'fun', 'curvygirltravels', 'sign', 'usairways-', 'incompetence', 'overwhelm', '😠😠', 'elite', 'loyalty', 'customer..ca', 'prefer', 'bummed..', 'story', 'simply', 'minor', 'mechanical', 'term', 'jetbluefail', 'obviously', 'darn', '//t.co/ph8qjzapkx', 'personnel', 'combative', 'hury', 'emergency', '24-48', \"y'all\", 'south', 'border', 'equal', 'low', 'price', 'blanket', 'reagan', 'int', 'rarely', 'annoyed', 'relate', 'flightd…incompetence', 'snack', 'in1st', 'cheap', '8-10', 'unrealistic', 'child.ridiculous', 'patient', 'originally', '11:51', '4:41', 'time-have', 'freak', 'engine', 'longday', '50th', 'april', '10th', 'sweethearts', 'companions', 'lifetime', 'sons', 'families', 'reminder', '2/28', '//t.co/mfmnkmvotr', '4ward', 'blame', '1hr+', 'concept', 'zone', 'continuous', 'code', '90', 'upgrade-', 'approve', 'little', 'stamp', 'wreck', '//t.co/0prgysvurm', 'sending', 'bestairline', 'partial', 'capture', 'uvf', '//t.co/lj2zxzn8kg', '4649', 'traveling', 'ft.', 'louisville', '✈️✈️', '5:05', 'mdw', 'drink', 'coupon', 'mobile', 'desktop', 'canadians', 'phl-mia', '20years', 'eventprof', 'signal', 'toronto', 'regard', 'tea', 'kinda', 'anyway', 'figured', 'refuse', 'hateful', 'tech', 'conference', 'roll', 'luv', 'sb5551', 'um', 'knew', 'useless', 'hail', 'mary', 'joplin', 'jln', '14', 'describe', 'hopefully', 'expedia', 'usaw', 'responsive.thoughts', 'goes…', 'looks', 'tailwind', '4232', 'waiting', 'ah', 'particularly', 'distressed', 'startle', '3867', 'orangecounty', 'pilot', 'invite', 'cockpit', 'additional', '19..', 'tix', '195', 'pounds', '304', '19', 'badcustomerservice', 'ernie_vigil', 'f', 'sickcrew', 'record', 'concourse', 'prior', 'gettin', 'shuttle', 'location', 'terribly', 'confirmed', 'solution', 'full..', '3-4', 'odd', '//t.co/hsmpbsf4uf', 'juan', 'ticket/hotel', 'reimbursement', 'delayed/over', 'dominican', 'sev', 'ppl', '2k', 'ff', 'apologize', 'nothing..', 'payed', '//t.co/sba0aricyq', 'family', 'diff', 'skyscanner', 'agency', 'aa973', 'tx', 'accurately', 'formally', 'lbairport', 'longbeachcity', 'establish', 'facility', '//t.co/jbyvmsod29', 'b737-700', 'columbus', 'oakland', '8aug', 'avgeek', 'mad', 'inaccurate', 'informative', 'property', '1/28', 'prerecorded', 'human', 'fl', \"'direct\", 'logic', 'fiasco', 'outward', 'qantas', 'lax-syd', 'maddie_flood', 'outstanding', 'feed', 'extremely', 'useful', '25,000', 'unitedairlines', 'alliance', 'jilt', 'moneyelsewhere', 'seguinej', 'noservice', 'luck', 'baldordash', 'inflight', 'entertainment', 'discover', 'bill', '300', 'push', '1.5', 'counting', 'honeymoon', 'message', 'knoxville', 'fav', 'used', 'initiative', 'rebecca', 'levi', 'intentionally', 'enforce', 'procedure', '27', 'aa106', 'shortage', 'weather✈️', 'b737-800w', 'small', 'dad', 'tiny', 'bathroom', 'ad', 'disspointed', 'premier1k', 'accommodate', 'extend', 'credit.whats', 'notahappytraveler', '800-number', 'went', '777', 'a320', 'part', 'stall', '1535', 'sna', 'met', 'band', 'sooo', 'win', 'earnings', 'checkin', 'tarmac', 'load', 'pray', 'alive', 'disaster', 'travelingwithsmallkids', 'incoming', '10:30', 'st.', 'louis', 'laptop', 'entire', 'notification', 'airway', 'lly144', 'ua1516', 'cell', 'battery', 'platinum', 'expire', 'secondly', 'aircraft', 'present', 'thus', 'tysvm', 'rate/policy', 'bags', 'bom', 'miles', 'copay', 'photo', 'e-book', 'tips', '//t.co/7dm2j8h97m', '//t.co/xedeckgmw5', '//t.co/frghglmkqf', '1k', 'thurs', 'ship', 'local', 'stillbagless', 'tag', 'sayin', 'greenville', 'raleigh', 'kidding', 'vinyl', 'prize', 'up-', 'inform', 'chartering', 'bus', 'planebroken', 'neverontime', 'paymytab', 'coffee', 'juice', 'ok.', 'getphilz', 'sfo', '//t.co/sg7iqqfvso', 'mia', 'virtual', '//t.co/upaz1ef3dl', 'okaaaaay', 'away', 'remember', 'onto', 'forgot', 'iceland', 'notify', 'locator', '1,750', 'bonus', '1800flowers', '2/14/15', 'product', 'herbal', 'black', 'caffeine', 'drinker', 'screw', 'family/friends', '4369.', 'w/buses', 'flightspots', 'mobileboarding', 'imaginedragons', 'test', 'tomoro', 'concentrate😭😭', 'corporate', 'naomi_cooper', 'mind', 'acct', '140', 'character', 'washington', 'd.c.', 'voucher/confirmation', 'enter', '6:44', 'wheel', 'reality', 'dare', 'veers', 'icy', '//t.co/dw6vdvqxbb', 'life', 'disgusting', 'c_istudios', 'warm', 'youdidit', 'notcool', 'offensive', '.twice', 'occasion', 'nlrphoto', 'beautiful', 'interested', 'buying', 'know..', 'orleans', 'md', 'anderson', 'chi', 'ride', 'mke', 'tho', 'relieve', 'neighbor', 'bitch', 'hts', 'large', 'majority', 'trap', 'ice', '7am', 'swair-', 'torture', '1971', 'chathes', 'belfast', 'hug', 'unmissable', 'bushug', 'format', 'impact', 'busads', 'thinkbus', 'belfastairport', '//t.co/avbdstjujs', 'cowardly', 'eye', 'massive', 'practical', 'appear', 'thin', 'reno', 'okc', 'empty', 'epicfail', 'poorplanning', 'huge', 'prop', 'parizad', 'sacramento', 'gt', 'non', 'permanently', 'anytime', 'communicate', 'w', 'bay', 'area', '3hr', '26min', 'renting', 'mci', 'heavy', 'predict', 'follow/dm', 'quit', 'nonsense', 'colossal', 'infringement', 'extension', 'veryloyalcustomer', 'doubt', '35x', 'cluster', 'encounter', 'outright', '226', 'beverage', 'ny-ers', 'smooth', '👍👍', 'happytweet', 'unhappy', 'nrhodes85', 'loose', 'costumer', 'amazing', '🙏🙏🙏😢😢😢🙏🙏🙏', '919', 'newyork', 'viracopos', 'americanairlines', '//t.co/3fhes0lpmu', 'horrid', 'earn', 'merger', 'erickofiejones', 'billing', 'cycle', 'self', 'training', 'paycheck', 'asap', '12b', '41g', 'flights', '.tells', 'catch', 'yyz', 'pathetic', 'conection', 'tn', 'unpleasant', 'unbelieavle', 'unaccpetable', 'failback', 'w/miles', '50m', '1tix', 'c26', '2day', 'whine', 'foreign', 'competition', 'coincidence', 'openskies', 'bummer', 'short', 'b/c', 'modification', '3hrs', 'state', 'online=useless', 'interview', '930', 'bwi..', '3458', '314505529', 'effort', 'ogg', 'msn', 'lost', 'rx', 'eyeglass', 'thick', 'admiral', '1-the', 'lavatory', 'freeze', '2-', 'nitrogen', '3-a', 'inflate', 'aa2444', 'progress', 'askpaypal', 'movie', 'broke', 'organization', '623', 'dia', 'ontario', 'taxi', 'username', '2morrow', 'oil', 'kill', 'comp', 'southwest', 'worthless', 'regular', 'bunch', 'skype…well', '.50', 'recommend', 'bingo', 'noah', '^mr', 'cuz', 'pjs', 'connectin', 'pj', 'nyfw', 'spoke', 'cs', 'amateur', 'mistake', 'tarmack', '1hr', '100', 'waste', 'badwebsite', 'execution', 'annnnddddd', 'shuffle', 'worried', 'private', 'bora', 'oprah', '//t.co/jpd7nsgrt7', 'carrier', 'text', 'funny', 'consider', '//t.co/loluwfci11', 'slowly', 'ua1481', 'stt', 'multiple', '1-2', 'ya', '894', 'officer', 'unreal', '//t.co/hp9rppcvhx', 'horror', 'passbook', 'serious', 'fire', 'hnl', 'wheelchair', 'loan', '//t.co/bt37kyrbyj', 'major', 'mech', 'transport', 'rental', '😡', 'merge', 'pout', 'attitudeissues', 'too..', '4047', 'online-', 'instruct', 'agent-', 'syastem', 'tripitpro', '2hours', 'definitely', 'winter', 'jump', 'dallas-austin', 'market', 'dallas_news', '//t.co/ewwgi97gdx', 'ala', 'entertain', 'witty', 'repartee', 'w/computer', 'inside', 'sigh', 'heavily', 'unbelievable', 'btw', 'manage', 'destination-', '9year', 'section', 'chrome', 'wan', 'endlessly', '10pm', 'atrocious', 'disrupt', 'daytona', '500', 'breathing', 'monthly', 'asshole', '428-4322', 'avail', 'course', '1820', '2rsw', 'courtsey', '2min', 'r', 'hangar', '1533', 'sham', 'kay', 'manager', 'threatens', 'swagglikebean', 'fan', 'hub', 'anywhere', 'rectify', 'aka', 'carry', 'weight', 'shoulder', 'surgery', 'ath', 'pdx', 'coordinate', 'tail', 'n598jb', 'n615jb', 'boston', 'sox', 'livery', 'share', 'weekend', 'aa3370', '2/25/15', 'handled', 'wipe', 'displeased', 'suitcase', 'repair', '//t.co/zouowgv3q6', 'bluemanity', 'brought', 'tear', 'commitment', 'crewmembers', 'community', 'aww', 'lovely', 'soft', '//t.co/cnctl7g1ef', \"dm'ed\", 'shortly', 'explorer', 'ceo', 'weighs', 'profit', 'chronicleherald', 'registration', '//t.co/l2n0eghdgn', 'spread', 'grandpa', 'ash', 'naples', 'italy', 'usnavy', 'flyitforward', 'ahold', 'conf', 'complainer', 'in-person', 'robyn', 'f.', 'manch', 'release', 'improvement', 'retains', 'crappy', 'advantage', 'gosh', \"ma'am\", 'visit', 'deep', 'tacky', 'passenegers', 'corporation', 'insider', 'trading', 'hill', '//t.co/vvzksmfkvw', '//t.co/b5ttno68xu', '🙈', '1+', 'atl', '🙅🙅🙅', 'buffalo', 'michaelbcoleman', 'january', 'china', 'result', 'flightd', 'front-end', 'design', 'back-end', 'secure', 'contain', '😄', 'reaccommodation', 'mumble', 'folks', 'anxious', 'seattle', 'outdated', '757s', 'btwn', 'port', 'personal', 'rant', 'mvp', '//t.co/jwl26g6lrw', 'yep', 'saidi', 'embarrass', 'pass', 'crash', '26f', 'windy', '70f', 'vega', '//t.co/2ir7ynmbdu', 'violation', 'aerocivilcol', 'van', 'gogh', 'fans', 'europe', '//t.co/e1eofthgaj', 'accidents', 'guarantee', '😭😭', 'e-mail', 'facebook', 'wating', 'will1531', 'pty', 'pit', 'b4', 'de-ice', 'likely', 'teen', 'flight5182', 'bwi-sjd', 'seasonal', 'called', 'intl', 'sept', 'expires', 'common', 'things', '3768', '2522', 'host', 'theacademy', 'party', 'peanutsonaplatter', 'situation', '10:30pm', 'concern', 'service✌️', '16', 'shouldnt', '//t.co/wdaktmr7mj', 'reactivate', 'deaf', 'video', 'hah.not', 'ftw', 'oversold', 'appreciates', '1300', 'nohotel', 'information', 'philadelphia', 'prepared', 'hand', 'us2146', 'aa2924', '249', '^gj', 'agree', '7+', '435', 'operator', '2034', '834', 'thre', 'freddie', 'east', 'sibling', 'preparedness', 'snowball', 'kindness', 'extenuate', 'circumstance', 'rayja9', 'announcement', 'abc', 'nexttime', 'andthewinneris', 'q', 'hawaii', 'flight-march', 'acquire', 'base', 'distance', 'shrinerack', 'wifey', 'duffle', 'vday', 'keeper', 'holla', '//t.co/jloiblnair', 'whichever', 'unused', 'penalty', 'curiosity', 'arrange', 'pilots', 'jumped', '5350', 'chariot', 'angle', '787', '//t.co/3zzkqwwbjz', '7403607771', 'classiq', 'greetingz', 're', 'kick', 'toddler', 'heat', 'itscold', 'restriction', \"'we\", 'stbernard', 'insist', 'previous', 'comm', 'sbn', '8:20', 'bit', 'insult', 'injury', 'seven', 'lipstick', 'pig', 'sju', 'chair', 'mins+', 'receipt', 'presidential', 'incompetent/rude', 'untd', 'preference', 'failing', 'lesson', 'treat', 'moodlighting', 'calm', '💜✈', 'moodlitmonday', 'apostrophe', 'surname', 'apostrophefail', 'on-hold', 'valentines', 'gift', 'sounds', 'headache', 'publish', 'indicates', 'redsox', '❤️ny', 'side', 'catsanddogslivingtogether', '//t.co/kfuyyokufv', 'tailfin', '//t.co/qxv45mv0ug', 'often', 'intact', 'unveils', \"'bluemanity\", '//t.co/ueggkn79za', 'control', 'damage', 'outfit', '✈️', '11th', 'february', 'acknowledgment', 'recieved', 'gregwallace66', 'cent', '45min', 'de-iced', 'tulsa.not', 'service.looks', 'thats', 'weak', '👋', 'worstcustomerserviceever', 'age', 'madbee95', 'battle', 'appease', 'wall', 'street', 'waterbury', 'republican', '//t.co/ur60un86gy', 'stranger', 'arrived', '6:00am', '//t.co/bttgmyn0a0', 'flight/chng', 'affiliate', 'afiliates', 'frm', '2401', '6:50am', '2586', 'fat', '1359', 'helpaa', 'ski', 'contains', 'pair', 'pole', 'lsusoftball', 'lsuquinlanduhon', '16-0', 'shout', '4386', 'thankyou', 'chalk', 'loss', '//t.co/bcwckwtnle', 'bloody', '13', 'naval', 'command', 'dance', 'stevie', 'aadvantage', '2littlebirds', 'brittany', 'cloud', 'consecutive', 'uncaring', 'frozen', 'print', 'bdng', 'empathy', 'poisonpill76', 'boat..', '8am', 'jacksonville', 'prompt', 'rain/sleet', '1581', 'annricord', 'it😊', 'airfarewatchdog', '..united', 'max', 'epicfailunited', 'passengerbillofrights', '//t.co/gxvfumn3iz', 'mon', '//t.co/uy28d1uegx', '//t.co/vjfv7ksgcq', 'magic', 'eight', 'ball', 'steer', 'wrong', 'gogo', 'iphone', 'boat-style', 'swivel', 'cup', 'dietcoke', 'happyflier', '💩💩💩💩', 'inoperable', 'fails', 'listening', '1:10', 'hostage', 'brand', 'jh', 'entirely', 'med', 'diaper', 'basketball', 'game', 'terribleservice', 'wheresmyrefund', 'armrest', 'remote', 'rest', 'elbow', 'mix', 'seatmate', 'channel', 'blasting', 'slept', 'night-_-', 'lap', 'anybody', 'getittogether', 'ua688', '2015', 'ps', 'intro', 'ha', 'recently', '.united', 'cracker', 'nabisco', 'pepperidge', 'farms', 'bitty', 'recent', 'w/out', '2464', 'couple', 'gave', 'shannonwoodward', 'oscar', 'nerd', 'geek', 'dress', 'apparently', '1542', 'employees✌️', 'marsha', 'm.', 'myrtle', 'beach', 'deserves', 'respect', 'praise', 'thankyouforeverything', 'ees', 'k20', '430', 'chking', 'schd', 'unlikely', 'slightly', 'difference', 'planning', 'suggestions', 'normal', '475', '-doing', 'lousy', 'zip', 'cultural', 'appropriation', 'elevator', '533', 'tpa', 'better', 'safe', '💙', 'lovejetblue', 'onlyblue', 'jetblueforever', 'ua1297', 'customerexperience', 'ids', '45+', 'typical', 'waiting..', 'witness', 'covert', 'tactic', 'virginatlantic', 'atlantic', 'benefit', 're-book', '3121', 'shameful', 'booze', 'bach', 'msy', 'either', 'fllairport', 'nine', '25mn', 'ohare', 'sna2ord', '1644', 'bwood', 'joni', '5653', 'venezuela', 'seanvrose', 'sean', '3+', 'general', 'enquires', 'david', '1917', 'pos', 'buddy', 'unitedsucksdick', 'fb', 'forget', 'log', 'alsonodrinkcartcomingaround', 'recourse', 'explanation', 'incentive', 'structure', 'dramatically', 'diminishes', 'cert', '86', 'lax-iad', 'cleaned', 'gross', 'tissue', '3198', 'aex', 'save', 'grace', '1951', 'evenlate', 'pure', 'anarchy', '555', 'packed', 'arm', 'chg', 'online/app', 'faster', 'hubby', 'whoever', 'stole', 'wronganswer', 'totally', 'droppeditoffyet', 'companionpass', 'aa1103', 'technical', '//t.co/ocqk0jfxua', 'inappropriate', 'board..', '730pm', '150am', 'unsure', 'advance', 'dm..', 'backpack', 'lane', 'kept', \"'error\", 'jerk', '🐳', 'function', 'turnaround', 'operation', 'mgr', 'dozen', 'individual', 'performance', 'goodbye', 'up…', 'entry', 'event', 'boyfriend', '2009', 'flightation', 'amybruni', 'directtv', 'bestdressed', 'bluecarpet', 'strip', 'ua1121', '150', 'march', 'kc', '.thanks', 'higgs', 'boson', 'loyal', 'a-list', 'reward', 'superyan', 'w/flights', 'changes', 'directly', '20min', 'stood', 'drop', 'existent', 'needed.why', 'hide', 'logo', 'tcf', 'patience', 'shall', '130am', 'love_dragonss', 'holy', 'fuckinf', 'inability', 'b', 'epic', '4158', 'bringin', '😥', '_justdippin_', 'upcoming', 'project', 'thetakeover', 'produce', 'yponthebeat', '//t.co/ikqbdza7tn', 'sending/posting', 'surround', 'ashamed', 'brandmance', 'upwherewebelong', '//t.co/ktawbiuuro', 'road', 'logical', 'flyfi', 'ondemand', 'leatherseats', 'hipunis', 'boy', 'prince', 'ressie', 'thursday', '//t.co/gsb2j3c4gm', 'fran', 'media', '10:55', 'prepares', 'reduce', 'distress', '6th', 'specific', 'r/scheduling', 'solve', 'contd', 'ua90', '1750', 'tel', 'aviv', 'hassle', 'professional', 'friendly', 'take-off', 'wheelsup', 'jetbluesofly', '//t.co/9xkiy0kq2j', 'jua', \"'just\", 'incredibly', 'emphasize', 'vape', 'smoking', '1099', 'redirect', 'abysmal', 'sky', 'keepusguessing', 'isthisyourfirsttry', 'lawyer', 'wrath', 'bright', 'vibrant', 'habitrails', 'bulkhead', 'c', 'earlybird', 'disneyprincesshalfmarathon', 'girlsweekend', 'bffs', 'color', 'eat', 'ua6259', 'per', 'flightaware', 'ua5525', 'concerned', 'cincy', 'w/o', 'yousuck', 'position', \"6'4\", 'bna', 'fund', '//t.co/07xhcacjax', 'october', 'december', 'patient..', 'landed', 'ind', '40+', '1338', 'providenciales', '1651', 'sea', 'yesterday.rubber', 'slime', 'back.fas', 'parking', 'garage', '10mins', 'nonrefundable', 'hence', 'sense', 'nothanks', '5348', 'motion', 'luved', 'sjc', '23', '372', 'dal', 'represent', 'speed', 'az', 'omaha', 'muh', '//t.co/g12sn5qsqz', 'integration', 'streamline', 'commute', '😊☕📲✈', 'shv', 'feb.', 'dr.', 'appointment', 'views', 'duh', 'whereabouts', 'unknown', 'greeeaat', '3/10', 'cramped', 'teach', 'tool', 'hanger', 'tryng', 'rsrv', 'roc', 'substitute', 'sympathy', 'f623', 'impressive', 'attndt', 'havoc', 'smugsmirk', 'norush', 'delays', 'reeks', '5639', 'outta', 'mold', 'us3825', 'filthyplane', 'hopeidonotgetsick', '//t.co/zik2uoxgnw', '616', 'comfortably', 'civilize', 'sometime', 'persist', 'park', 'filmjobnoequipment', 'nowarmclothes', 'reserv', 'suicide', 'among', '10-24', 'pit-', 'clicked', '//t.co/xmaqcucwzl', 'lostinlove', 'w/our', '//t.co/bzwgp7adve', 'wemosaictogether', 'mint', '3056', 'alist', 'pref', 'wifiless', '1701', 'formed', 'bet', 'honest', 'chge', '40min', 'reconsider', 'sadly', 'presentation', 'strike', 'leisure', 'highly', 'uniform', 'jack_kairys', '2/2', 'stephenrodrick', 'themagicalstranger', 'leaf', 'wedding', 'vt', 'grateful', 'btv', 'abuse', 'overcharge', 'privilege', '//t.co/sdylukr7pt', 'robthecameraman', 'bug', 'clown', 'shoe', '11', 'cont', '//t.co/enh1keuutd', 'within', 'f6dk04', 'xzmscw', 'worst2unitedflightsever', '236', '2/24', 'wtfodds', 'stars', 'bars', 'airlineguys', 'airlinegeeks', '//t.co/mwsoguc33p', 'executive', '2.5', 'ua1523', 'manner', 'decency', 'content', 'destroyed', 'outbound', 'lastnight', 'careless', '7:44', 'negotiate', 'lord', 'johnnosta', 'sm', 'oscars', 'devastate', '-/', 'forth', 'savannah', '20,748', '33', 'inactivity', '5396', 'water', 'rapids', 'apart', 'traffic', 'beer', 'nah', 'l', 'near', 'vouchers…any', 'flight..never', 'didnt', '//t.co/utfdhxa8pu', 'doorstep', '//t.co/0hmmqczkcf', 'peep', '1159', 'becomes', 'apple', '//t.co/czor4nyh9n', 'larry', 'fedora', '//t.co/qqlzk2jkzr', 'smart', 'mt', 'partner', 'wsj', 'digital', '//t.co/0liwecasoe', 'patience..', 'front', 'anyone40min', 'jsumiyasu', 'colleague', 'glenn', 'coles', 'buffalo-niagara', 'top', 'notch', 'reverse', 'subpar', 'runaround', 'dmoukdarath', 'leak', 'nothappy', 'research', 'context', 'necessity', 'wiil', 'victoria', 'condescend', '4439', 'decide', 'thenewamerican', 'ready', 'closest', 'exit', 'cincinnati', 'tomorrow..', 'plain', 'version', 'reluctant', 'thaiairways', 'thai', 'parent', 'stl2atl', '2nite', '5am', 'esp', 'heathrow', 'stupid', 'split', 'payment', 'method', 'example', 'debit', 'billmelate', 'tvs', 'unavailable', 'ipad', 'paris', 'locally', 'cmh-oak', 'daydream', 'ohioprobz', '//t.co/2edgc6tbls', 'sorta', '.we', 'aquadilla', 'nj', 'clueless', 'rez', 'agnt', '4me', 'midnite', 'funeral', 'unload', '699', '2488', 'shock', 'absolute', 'joker', 'reputation', 'omg', 'callback', 'awake', 'paying', 'logout', 'deserve', 'seats', 'fab', 'myers', 'excellent', '//t.co/ufyxxkisa3', 'proactive', 'howhardcanthatreallybe', '1591', 'wi-fi', 'outage', '1618', 'f/', '//t.co/axryeiwzh0', 'vuelo24.es', 'vuelos24.es', 'mad-nyc', 'scam', 'oops', 'discomfort', 'h', 'dming', 'four', 'ladygaga', 'carrieunderwood', 'beat', 'classic', 'help.thanks', 'forgets', 'ricky', 'j', '//t.co/bbm6pabort', 'fuckin', '😂', 'sweetmel', '1320', 'thoughts', '5903', 'uncomfortable', 'kats', 'precheck', 'avoid', 'findurgrip', 'prime', 'opportunity', 'men', 'hats', 'parody', '//t.co/mwpg7grezp', 'tim', 'mcgraw', 'hayden/steamboat', 'avios', 'ua4935', 'galley', 'cart', 'pax', 'temperature', 'tower', 'insubstantial', 'sun', 'si', 'aa362', 'incompetent', '930pm', 'tablet', 'attach', 'picture', 'filmcrew', 'nbc', 'cnn', '//t.co/uq2oopjpwg', 'national', '8:05am', 'basket', 'cater', 'coathanging', 'preferred', 'gif', 'strong', 'surprise', 'govt', 'contract', 'timieyancey', '//t.co/tkvcmhbpim', 'belt', 'rough', '85', 'degree', 'nantucket', 'journal', '//t.co/ebxc94kfjd', 'deedee', 'lynn', 's.', 'richard', 'p.', 'jedediahbila', 'vote', 'title', 'jedediah', 'tampa', 'hours', 'korea', 'idiotic', 'mayweatherpacquiao', '95', 'approx', 'disappointment', 'making', 'arrangement', 'madden', 'lpalumbo', 'separate', '3yr', 'mother', 'check-in', 'recover', 'laugh', 'barbados', 'cuba', 'costa', 'rica', '6+', 'missing', 'festivity', '😞', 'delacy', 'p', 'compassionate', '🌟🌟', '604', '2:15', 'ishouldhavedriven', 'july', 'shanghai', '858', '5hrs', 'sfo-sea', 'bird', 'buzz', 'can', 'five', 'ua761', '480', '-lga-ord', '711', 'argument', 'layover', '72', '.could', 'dividend', 'delete', 'officially', 'done', 'byebyejetblue', '1773', 'foodnetwork', 'sobewff', 'limited', 'tummy', 'restroom', 'irritated', 'aa-', '//t.co/oxsa8btvtb', 'oscars2015', 'ar', 'holiday', '8.51/ticket', 'and/or', 'addr', 'signin', 'login', '395', 'rolling', '3x', 'ricoh', 'smith', 'oust', 'list..', 'awww', 'b6', 'made', 'operating', '606', '2maro', 'clarification', 'rapid', 'rewards', 'monitor', 'current', 'belabor', 'roller', '457', 'beneficial', 'thirty_lives', '24th', 'dragons', '//t.co/xmrvr4lgeg', '//t.co/wjoc9f14su', 'tori_leggieri', 'toolong', 'yest', '12am.today', 'txt/email', 'customer.relations', 'aa.com', 'travelproblems', 'eta', 'nicer', 'connetion', 'firstclass', \"'the\", 'bail', 'cod', 'downgrade', 'ripoff', 'comment', 'rebook-', '//t.co/4g0k0z2rei', 'scratch', 'ignore', 'worstthingever', 'fedexed', 'somewhere', 'pie', 'responds', 'wedontcarebecauseyoupaidalready', '+-10pm', 'eastern', 'crjs', 'airstairs', 'valet', '10:20pm', 'spending', 'cxl', '//t.co/iyuzm2puvs', 'tbt', 'rosetta', '6457', 'dan', 'wasappreciated', 'vincenzolandino', '//t.co/eigajyzcw2', 'hime', 'adds', 'charter', 'wires', 'blog', '//t.co/swb1gr57cc', 'scavenger', 'hunt', '//t.co/vhgkitzsaw', 'airfare', 'ta', '900', '440', 'billion', 'throw', 'crap', 'hurt', 'urgently', 'hop', 'a/c', '1171', 'flts', '719', 'backup', '4th', 'woo-hoo', 'laguardiaair', 'infant', 'carseat', 'reissue', 'enzo', 'setorii', 'pooch', 'dog', '//t.co/dlh9138hbg', 'cheaper', 'off😂😂😂', 'despicable', 'opening', 'occur', 'mkwlkr', 'unsmiling', 'rep.', 'breezy', 'aa3230', '3hr30min', 'sight', 'spring', 'tides', 'tide', 'century', 'drawing', 'tourist', 'french', 'u.k', 'coast', '//t.co/gxdqortss0', 'rush', '-6', 'dim', 'follow-up', 'standbye', 'potential', 'saga', 'continues..', 'irresponsible', 'fedup', 'disastrous', 'auh', 'retrieve', 'safely', 'culture', 'drunk', 'itfits', '//t.co/aurn07pwd4', 'plough', 'lone', 'furrow', 'middleeast', '//t.co/dcobokn7ee', 'thenationaluae', 'ua3774', 'norfolk', 'estellevw', 'auto-applied', '877', 'amsterdam', '02.27.2015', '737-300', 'trueblue', '//t.co/iimtjxcvlg', 'male', 'al', 'nc', 'neverflyusairways', '👿', 'feature', 'onhold', 'wed', 'dissatisfied', 'square', 'man', '2+', 'dca-bos', 'congrats', 'stone9956', 'dislike', 'lazy', 'duty', '//t.co/ar0vaylmfc', 'lmao', 'monkey', 'mdw2mci', 'homeandreadyfornexttrip', '//t.co/2xjvun66zz', 'technically', 'driver', 'hospital', 'badmgmt', 'misunderstood', 'aa3031so', 'spend', 'exceptional', 'misplace', 'alavera', 'ricardo', 'olavarria', 'fixed', 'greatservice', 'disrespect', '1249', '3:30', 'courtesy', 'phn', \"'tough\", 'break', 'hartford', 'ct', 'theworst', 'professorpaul15', 'el', 'paso', 'aa504', 'aa200', '6344,6373', 'sfo-dfw', '1576', 'sfo-ord', 'stray', 'sw', 'happiness', 'clothes/suit', 'abi', 'unfriendlyskies', 'momsgoodeats', 'mandarinjourney', 'sunset', 'john', 'usvi', '//t.co/dndoepqukz', '51', '108', 'maine', '👎😡✈️', 'notahappycustomer', 'leavingtomm', 'havent', '//t.co/l7lwjazioa', 'dualcam', 'redreserve', '4200', '3:35', 'subterfuge', 'increase', '//t.co/lyqrb4hcyu', 'unfortunate', 'tumitravel', 'xmas', 'razor', 'ripped', '15mins', 'frustrated', 'rating', '-9', 'scale', 'retire', 'md80', 'resend', 'captain', '1712', 'phx-phl', '3:55', 'greetings', 'pointy', 'bbbne_sd_ks_ia', 'listens', '10d', 'folder', 'important', 'jamaica', 'defective', 'sweepstakes', '7:30', 'cathy', 'reading', 'nytimes', '//t.co/lvirtdtqly', 'irmafromdallas', 'cake', 'josephtreis', '1357', 'unitedappeals', 'gg8929', 'hypocrisy', 'exchange', 'correctly', 'scent', 'tht', 'quite', 'finger', 'dnt', 'ringling', 'brothers', 'barnum', 'bailey', 'eyes', 'peeled', 'navy', '2470', 'cancld', 'discnct.any', 'replacement', 'wakinginmemphis', 'texas', 'seek', 'reps.', 'flight.told', 'nonexistent', 'sale', 'august', 'september', 'pa', 'accepted', 'carry-on', '//t.co/u390czplhl', 'investor', 'toledo', 'blade', '//t.co/r4xjxqrx1z', 'vent', 'vx358', 'noair', 'worstflightever', 'roast', 'sfotobos', '39', 'lax-las', 'bergstrom', 'cancun', '737', 'annnndddd', 'devaluation', 'kylejudah', 'principle', 'stroller', 'whenever', '2wks', 'laurasbrown5', 'device', 'refreshes', 'browser', 'checkout.error', '358', 'dounotwantmybusiness', 'trial', 'looong', 'crave', 'pretzel', 'thanks.are', 'groups', '3-5', 'rid', 'hip', 'station', 'sirius', 'xm', '90mins', 'texarkana', 'shouldhavedriven', 'emailed', 'mommy', 'daddy', 'fallow', 'helacohlc', 'activities.prevention', 'programs', 'health', 'condom-rito', 'family.we', '501', '1h', '10m', '1h40m', '9:30am', 'worstcustomerservice', '..he', 'oscar😄💝💝💝', 'jason', 'assistance.', 'nvr', 'con', 'coffeemaker', 'ft1892', 'father', 'be4', 'coma', 'umm', \"'extra\", 'wont', 'upc', 'vacation-', 'swimsuit', 'hah', 'hahahah', 'period', 'top-down', 'decision', 'flierfriendly', 'warning', 'shitty', '3:30am', 'starve', 'exhaust', 'doctor', 'lawsuit', 'secondary', 'screening', 'piece', 'remain', 'yummy', '🙏🙏🙏🙏🙏🙏🙏🙏🙏🙏🙏🙏🙏🙏🙏🙏🙏🙏', 'perfectly', 'dealing', 'stubborn', 'demanding', 'unwilling', 'takes', 'likeagirl', 'smm', '//t.co/ntgl2wnqvm', 'disappear', 'irrlcd', 'definition', 'vastly', 'maint', '8a', 'along', 'sort', 'house', '-30', 'wind', 'chill', 'philacarservice', 'aa1675', '479', 'cover', 'tcunningham10', 'wine', 'removal', '22', 'cessna', 'become', '747', '//t.co/oumc1lrxdn', '//t.co/7im9rhivyr', 'plz', '4524', 'deadhead', '1235/ord-lga', 'converse', 'faa', 'njv4bp', '750', '750.', 'nvm', '45mins', 'jammed', 'plenty', 'narita', 'tokyo', 'motel', 'fast', 'chiberia', 'acnewsguy', 'acarl4', 'hotmail.com', 'thks', '1786', '2/19', 'overall', 'college', 'wing', '//t.co/5b2agfd8c4', 'bro', 'bosnia', 'pic', '//t.co/m9nywr5kbs', 'hm', '//t.co/le4h2gtzxz', 'robertdwyer', 'origin', 'remains', 'previously', 'associate', 'overflight', 'ffstatusdontmatter', 'thenewaa', 'clients', '32', 'career', 'possible.2', 'thousand', 'italian', 'clothing', 'robbed', 'summer', 'stopover', 'hon', 'dispute', 'aha', '430am', '8pm', 'dca48810m', 'slog', 'negligent', 'rum', 'coke', 'cushy', 'stink', 'usairwayssucks', 'assume', 'words', 'actions', 'eom', 'pt', 'de', 'insure', 'fricken', 'responsibility', 'canadian', 'friendlyskies', 'mid-travel', 'ua507', 'relative', 'nearby', 'television', 'commercials', 'feltthelove', 'in-law', 'reccewife', 'exception', 'heh', 'somebody', 'horrendous', 'kirkwoodtiger', 'caribbean', '//t.co/aay5avg99b', '^ld', 'waited', 'cu', 'tues', 'sdf', 'ne', '//t.co/ngg3n0wiar', 'belligerent', '1230', 'sue', 'hoot', 'earthquake', 'haiti', 'rebuild', 'flyingitforward', 'visa', 'boost', 'conversion', 'etailwest', 'dec', 'okie', 'doke', 'knowing', 'lots', 'allowable', 'length', 'robotic', 'love-doll', 'reminded', 'pattonoswalt', 'them-hence', 'excuse', 'huxleyesque', '//t.co/lqjt2jvoys', 'marathon', 'tmrw', 'charity', '2a', '4487', 'dumb', 'sas', 'c38', 'lga', 'us626', '//t.co/vbfieo2qjc', 'kevin', 'f38ish', 'recovery', '2600', '//t.co/qkkjdfobos', 'illogical', 're-route', 'ual', 'iiiii', 'oversleep', 'uncontrollable', 'irregularity', 'eligible', 'user', '😢', 'pleasehelp', 'itinerary/confirmation', 'bed', 'kidnap', 'furious', 'reject', 'stressful', 'arose', '174', '6:47', 'publicly', 'makeup', 'inconvenience', '777-200', 'ord-pvg', 'trade', 'sunkist', 'webbernaturals', '//t.co/1l9scwphph', 'fidifamilies', 'hotline', 'cling', 'immediately', 'redcarpet', 'rubbish', 'meaningful', 'incase', '//t.co/nyvv1x3d67', '😉', 'north', 'carolina', '3739', 'manually', 'everyones', 'song', '//t.co/fraqdpkyga', 'hellobrittney_', 'jetbluesucks', 'mce', 'door-close', 'drinks/snacks', 'self-upgraded', 'kate', 'appleton', 'wrap', 'leadership', '11:15', 'night-deplaned', '12:40', 'inexcusable', 'brag', '👎', 'policy/fees', 'rethink', 'unprofessional', 'sends', 'outrage', '//t.co/kkwiwi97a4', 'voucher/compensation', '4567', 'memphis', 'sunglass', 'parryaftab', 'thnx', 'us1562', 'ric2dfw', '6-10pm', 'est', '9pm', 'ua22', 'jam', '//t.co/tsvibtvt8h', '2:30', '💔', '//t.co/wgyztnjcxm', 'comenity', 'constant', 'ua3782', 'idlovetoask', '//t.co/dpx3yogtej', 'accord', 'wtop', 'nicely', '404', 'toss', 'hair', 'ipad.do', 'faithful', '1700', 'wheels', 'housing', 'significant', 'wednesday', 'hearing', 'dial', 'bearable', 'indeed', 'andrewfallis', 'to-', 'stillnotonmyflight', 'somehow', 'brokenpromises', 'notnice', 'tellyourstory', '€67', 'rudely', 'midway', 'fllight', '11:59', 'pst', 'rev', 'ystday', 'appreciated', 'fax', '80', 'tweeting', 'coat', '453', 'reported', '12a', '2792125083854', '1/3', 'christine', '//t.co/1xzrk66wvq', '740pm', 'vm', 'satisfactory', '//t.co/aqjn4hwnac', 'ua4646', '2/23', 'tap', 'reader', 'emv', 'compliant', 'ua5029', 'ric', 'ua423', '-all', 'non-weather', 'batting', '1.000', 'yer', 'style', 'night..', '//t.co/avrtowtyzk', 'foreverrrrrr', '728', 'mel', 'sticker', 'gmail', \"'promotions\", 'regularly', 'opal', 'ali', 'woven', 'murder', 'philippines', '//t.co/ltwhmol1dr', 'muscle', 'frown', 'smile', 'flyin', 'd9', 'dal-aus', '//t.co/xcvqxykg49', 'eager', 'vision', 'ccicanine', 'deeply', 'promo', 'apply', 'mere', \"a'dam\", 'evv', 'copy', 'paste', 'integrate', 'leeannhealey', 'multibillion', '3336', 'stewardess', 'notourfaultyoudontuseyourgatesright', 'nhlbruins', 'repping', 'bruins', 'cleveland', 'hof', 'christmas', 'jetbluebruins', '//t.co/jknwugj778', 'macario2', '❤️❤️❤️', 'yup', 'ideal', 'sittin', 'franchise02', 'trivialize', 'w/in', 'mo3tvida', 'srq', '5080', 'severe', 'specialist', 'stahhppp', '//t.co/vhfjgneozo', 'bake', 'usairwaysssuck', 'revenue', 'charlote', 'lexington', 'istead', 'lmuschel', 'sep', 'f3kxb8', 'sarahzou', 'translation', 'reinvest', 'mammoth', \"'cause\", 'ua3576', 'b1', 'ray', '736', '917', 'outsource', 'boise', 'staff/cust', 'landonschott', '💩', 'ots', 'pant', 'cranky', 'on-time', '.i', 'confident', '1899', 'cr', 'poorservice', 'gma', 'cbsnews', '4:17pm', '//t.co/emrubu4wzd', 'infuriate', 'flysw', 'robotweeting', '8.5', 'gfc', '//t.co/mkpognntyc', 'crucial', 'gotten', 'original', 'spell', 'volkswagen', 'disgruntle', 'whatacluster', 'ashleykatherton', 'debacle', 'wewanttoknow', 'goodcustomerservice', '//t.co/2z3hgqprsg', 'seriousness', 'expense', 'amy', 'lloyd', 'zurich', 'meet', 'ua5097', '//t.co/6kpyhcka9l', 'retain', 'comfort', 'profitability', 'enroll', 'mission', 'lasalle', 'pvd', '☕✈👍', 'cheat', 'horribly', 'refundprocedurenottoopainful', '4994', 'jackson', 'wyoming', 'pilots..', 'toilets..', 'deplaned', '2ndary', 'fail..', 'aggravate', 'wallet', '1007', 'bogota', 'filled', 'stun', '1.75', 'nonstop', 'brandi', 'zabsonre', 'delight', 'ups', '//t.co/tk3aopdtsq', 'faced', 'apology=', 'florida', 'disorganization', 'police', 'attend', 'ba_usa', '20mins', '//t.co/mhhs9ruplv', 'hardly', '10,000', '1,000+', 'edge', '1/10', 'switching', 'reboarding', 'a49', 'nov', 'kin', 'bruh', 'bool', 'niggaz', 'worker', 'imma', 'satesq', 'there', 'phl-crw', 'graphic', 'minimal', 'iconography', 'modify', 'tpallini', '//t.co/odlall5edh', 'similar', '//t.co/n9vge2npib', 'sensitive', 'warrant', 'compassion', 'kindly', 'ua1469', 'cityandsand', 'hand-off', 'nutella', 'veryimportantproject', 'hoping', 'charm', 'waivethefee', 'poorcustomerservice', 'neptune', 'friendlyfriday', 'awesomeness', 'paw', 'machine', 'door', '//t.co/2b4bdtldx2', 'flightedflight', 'yvonne', 'anthony', 'happyfriday', '1898', '5957', 'medallion', 'probablynot', 'rely', 'heads', '//t.co/dplq3mhqgd', 'orthodoc', 'on-call', 'in-flight', '416', '514', '5559', 'yyc', 'lightbulb', 'w/2', 'meant', '3/19', 'wallstslumlord', 'pkg49', '1826', 'rescue', 'sundown', 'antonio', '//t.co/rqbpmwettq', 'origin/destination/dates', 'saver', '//t.co/413gial0yl', 'isabelle', 'gramp', 'await', '18', 'experienced', 'yes..not', 'aflame', 'rumors', '1:36', 'ton', 'gracias', 'rico', 'announces', 'dallaslovefield', '//t.co/qxnoaqtyn8', '//t.co/jk7qmdfqgf', '//t.co/3ltx7jkbo9', 'connector', 'wander', 'txting', 'crooked', 'shouldwearmasks', 'rsw', 'grr', 'srsly', 'c14', '1791', '771', '2/18', 'den-bna', '3130', '7:20', 'pbi-', 'c-42', 'assure', '4h2m', '5h2m', 'timezones', 'accuratetraveltimes', '3rdtimethishashappened', '//t.co/e0c9bi09cf', 'jimdaytv', 'cayman_islands', 'ferry', 'vieques', 'prbound', 'discuss', '4x', 'pleeeeeeeease', 'provider', 'livvyports16', 'bcuz', 'czamkoff', 'greed', 'thenatek', 'dec.', 'jan.', 'steward', 'advice', '2022', 'phil', 'girl', 'albuquerque', '//t.co/rfxlv1kgdh', 'ua5184', 'wpg', 'spiritairlines', 'continental', '622', 'nassau', 'frank', 'postsecret.com', 'fresh', 'grab', 'bite', 'day..not', 'alaskaair', '5203', 'upgrd', 'kit', 'kat', 'tasty', 'sandwich', 'customerservicefail', 'blatimore', 'straighten', 'star', '//t.co/u1vieuidf5', 'edition', 'hemisphere', 'magazine', 'flylaxairport', 'global/fc', 'selects', 'w/upgrade', 'worked', 'charleston', '7:50pm', 'lga-fll..poor', '9:45', '1547', 'balls-turn', 'change/massive', 'layovers/', 'crackers/', 'h2o', '2oz', 'heck', '408', '-1st', 'x', 'advisory-now', 'bhm', 'go-help', '2go', 'sob', 'plastic', 'early/on', 'bookofnegroes', 'guideline', 'nearly', 'beg', 'earth', 'us5235', 'sanfrancisco', '//t.co/ypo7nyprzl', 'biztravel', 'dontchangeathing', 'undelayed', 'enjoyable', 'except', '😕', 'aa104', 'standard', 'bereavement', 'grandfather', 'obtain', 'asleep', 'gr8', 'beauty', 'dc-10', '//t.co/ns1acfqcdq', 'odds', '2dayslate', 'palm', 'springs', 'non-profit', 'arc', 'extraction', 'abduct', 'ua6318', '728/feb', '21', 'kim', 'enters', 'deteriorate', 'assurance', 'howdy', 'erroring', 'oscarnight', 'steam', 'pile', 'red-headed', '3389', 'chs', '7:10', 'mrrenevendez', '//t.co/gn30p75kqb', 'zkatcher', 'bretharold', '//t.co/vyuanh4iqr', 'div', 'unless', 'anyhelp', 'martin', '1510', 'multi-city', '1of', '+2nd', 'ump', 'discus', '6hour', 'flydeltanexttime', '882', 'dear', 'industry', 'attempted', 'non-english', '12+', 'nervous', 'acknowledgement', 'ife', '3260', 'mht', 'grandkids', 'jack', '//t.co/bhooiyt6zq', 'bottom', 'airlinequality', 'skytrax', '//t.co/tu9jx2jazn', 'camp', 'gear', 'resources/ratings', 'quality', '8th', '//t.co/dewithpew2', 'options', 'firevan', 'ttinac11', 'patriarc', '//t.co/bduauzfhw2', 'assault', 'overheat', 'sauna', 'blood', 'appt', '18009174929', '//t.co/6uxwpadugs', 'stl-bos', 'resched', '672', '305', '//t.co/bbzijwfdl3', 'whatever', 'remedy', 'orbitz', 'ctg', 'choose', '9hour', 'pqd', '^ha', 'urgent', 'ny_njairports', 'mostly', 'excite', 'safer', 'alicia', 'exceptionalservice', '276', 'cabo', 'lucas', '1-3001408092', 'ivr', 'proceed', 'cjdjpdx', 'valid', 'multinational', 'corp', 'whose', 'measure', 'understaffing', 'cudtomers', 'hits', '52-week', '17.58', 'jblu', 'sleekmoney', '//t.co/zdkxn4ktou', 'final', '2/11/15', 'bums', 'biggest', 'meanwhile', 'swing', 'fairway', 'overlook', '17th', 'hole..', '618', 'scene', 'exec', '//t.co/5db9esbnzg', 'offload', 'galaxy', 's4', 'zoom', 'scroll', 'weigh', 'conveyor', 'impend', '462', 'dependable', 'western', 'belong', 'skyteam', 'ecom', 'dontflythem', '80-90', 'entrance', 'before/after', 'pre-check', 'whereas', 'ahah😃💕🎵', 'sw✈❗', '^^', '❤', 'alternatively', 'gladly', 'tremendous', 'stress', 'sardine', 'belief', 'thinking', 'marketwatch', '//t.co/yi4wguk5tr', 'duct-taped', 'ohboy', 'shouldigetoutandpush', 'flying…', '//t.co/r9zsvzurlw', 'sammi_jon3s', 'condo', 'noanswer', 'op', 'vacatinn', 'devalue', 'lit', 'weird', 'tolerable', 'negative', 'gratitude', '🇺🇸✈️', 'dms', 'apt', '10hrs', 'jetblueblues', 'fwhei6', 'derekc21', 'register', 'hopeful', 'lets', 'aa291', '*cough*', 'awkward', 'qlyss8', '^jt', 'sentiment', '180', 'impatience', 'untruthful', 'proper', 'annettenaif', 'shoutout', 'roberto', 'words.', '619', 'satellite', 'aa951', 'são', 'paulo', 'podium', 'funflightattendants', 'flt635', 'sundayfunday', 'carlw1980', 'doom', 'sauce', 'potato', 'vile', '//t.co/m2phoavrxc', 'terry', 'hero', 'cellphone', '85832', 'makeovertime', 'customerserviceplease', 'keepitmovin', 'oreos', 'midght', 'fkn', 'kybilc', 'y.o', 'isle', 'psych', '790', 'sfo/lax', 'fl1289', 'sfo/ewr', 'clincher', 'megelizabeth631', 'sexually', 'treated', 'poorly', 'noluv', 'swadiversity', '//t.co/s3esw5agum', '//t.co/a3ycflalxv', 'pat', '9:05', 'aa138', 'missingtheoscars', '2bestfriends', 'partnership', 'express', '//t.co/whufmi2ytd', '//t.co/fbtemfwrsp', 'chairman', '740', '2/26/14', '1000', 'certificate', 'slapintheface', 'doctors', 'issues-', 'pleased', 'pns', 'accidentally', 'populate', \"'til\", 'newamericanstinks', 'narrower', 'bloat', '//t.co/v1radykep2', '//t.co/crfrwpc1sx', '😂😂😂', 'flight..', 'inconsiderate', 'jax', 'barely', 'functional', 'aim', 'obsess', 'setup', 'empathizes', '1stclass', 'w/nonworking', 'entertainmnt', '//t.co/loeco4gmvd', 'truth', 'unfriendly', 'astound', '//t.co/72rmpkogwu', '2daysofhell', 'wager', 'isitsummeryet', 'metal', 'asks', 'multi-x', 'ems', 'arkansas', 'alaska', '😒', 'aa76', 'precious', 'gem', 'guitar', 'us1937', 'otherwise', 'surprised', 'talent', 'flyswa', '💕💕', 'raeann', '2498', 'hooked', 'clubs', 'tore', 'hid', 'badge', 'kieranmahan', 'target', 'bene', 'honor', 'recap', 'travel.purchased', 'huh', '//t.co/xltv5z6st1', 'disney', 'workhard', 'playsoon', 'tkts', 'pto', 'getaway', 'package', 'refuel', 'hurry', 'retard', '686', '599', 'reroute', '😓😭', '504', 'yvr', 'efficient', 'dream', '//t.co/q37pown6uv', 'cowboycerrone', 'nothing.and', '.it', 'simple', 'thing.will', 'ypu', 'e-ticket', '0162389030167', '16866853', '8465981', 'intention', 'vegecomgirl', '6/15', 'store', '//t.co/gcwvfuopl2', 'jayvig', 'roxydigital', '^_^', 'realtime', 'appreciation', 'rockingthetweets', 'jvmchat', 'uhmmm', 'jcolenc', 'tour', '😫😫😫', 'outline', 'scenario', 'impossibly', '1lesscustomer', 'functionality', 'satisfaction', '-17mph', 'now..', 'waitin', 'stuck.on', 'cakairport', 'jacked', 'miscounting', 'thehaileytate', 'blatant', 'pittsburgh', 'click', 'complicate', 'cat', 'pissed/very', 'evil', 'soul', 'i6ep18', \"'it\", 'works', 'capt', 'joe', '633', 'tabitha', 'icloud', '703', '1472', 'coworker', 'conflict', 'erase', 'cc', 'dadboner', 'boldflavors', 'bourbon', 'bold', 'flavor', 'ingredient', 'din', 'jms2802', 'verbally', 'cuss', 'global', 'menu', '//t.co/egkvfokogj', 'redirects', 'hhagerty', 'settle', 'bf', 'tequila', '//t.co/a0yosjhzmc', 'movement', 'butt', 'naelah', 'beautifully', 'filthy', 'tfw1', 'jimcramer', 'aarp', 'ty-spent', '59', 'one-way', '//t.co/rpdbpx3wnd', 'cheapflights', 'farecompare', 'wmn4life', 'pennypincher', 'owe', '2,000', 'lusaka', 'shot..', 'using', 'welcome', 'quickie', 'lil', 'heart', 'desire', '//t.co/wmx12f33zc', 'considering', 'clog', 'already-crowded', 'vegetarianproblems', 'nosedive', 'newamerican', '//t.co/56essfoowt', 'occupy', 'escape', 'raft', '//t.co/dtheyofxrb', 'allgood', 'limbo', 'professor', 'skiplagged', 'aviation', 'innovation', 'startup', 'allegianttravel', '250k', '1800', '2x/day', '+1', 'rat', 'goodenufmother', '^ey', 'nrosenb1', 'misunderstand', '1080', 'maxfitgirl29', '3thparty', 'itproblems', 'vx', '413', 'urgency', 'focus', 'aisle', 'evermoreroom', 'jetbluebos', 'counting…just', '//t.co/5siczx1oez', 'will', '2hr30', 'loser', '//t.co/wjiigztiwg', 'fiancée', 'shavon', 'evn', 'day.reward', 'decent', 'admit', 'equip', 'ruth', 're-routing', 'punta', 'cana', 'dulles', 'reps-', 'explore', '1839', 'balance', 'theellenshow', '😍', 'brighter', 'carpet', '101', 'disrespectfully', 'strive', '//t.co/sbehi46bmk', '1-3', 'cruel', '496', '90+', 'desperately', '952', '5:40pm', 'chi-mid', '11:00', 'basic', '600', '1way', 'usuck', '6.5', 'greedy', 'foolish', '1528', '909', 'lostluggage', 'needtobehonest', 'anxiety', 'activity', '644', 'disabled', '//t.co/4rl0p5jchb', 'ottawa', 'ac', 're-purchased', 'been..', 'aruba', 'bestplanesever', 'bestflightever', 'debate', 'maxabrahms', '*if*', 'scooby', 'doo', 'aafail', 'adam', 'b12', 'ohk', 'inexpensive', 'measles', 'outbreak', 'screenshot', '//t.co/soiqrn19aj', '//t.co/ibvvtzls4e', 'b11', 'window', '10f', 'frustratingly', 'cheers', '320', 'inquiring', 'souljacoy', 'utterly', 'dang', 'span', '..none', 'un', 'f-in', 'believable', '//t.co/tzzjhuibch', 'welllllll', '//t.co/dhhomg2kix', 'nick', '742', 'scan', '2416', 'school', 'notbabysitters', 'whrsthecoach', 'sdq', '//t.co/7gb0hgw51t', 'interest', '3.5', '//t.co/znsujp86bv', 'dulles_airport', 'diligent', 'driven', 'quicker', 'hungary', 'difficult', 'todays', 'ensure', 'utilize', 'werenot', '2chng', 'going2', 'whch', 'trvl', 'advsry', '1449', 'pbi', 'stow', 'aggravation', 'frankfurt', \"'preciate\", '5015', 'destinationdragon', '1388', '5:15', 'furryfiesta', 'tok', 'unaccompanied', 'forelock', '💜', 'whitterbug', 'reservations', 'sabre', 'thread', '38e', 'twtr', 'eco', '//t.co/ncrmqibiwo', '^cb', 'vegas-chicago', '3397', '0', 'join', '//t.co/nbpcjcpew9', 'ill', 'bestairlineever', 'beantownmatty', 'guys', '203-382-3312', 'designate', 'pasengers', 'call-centre', 'l8r', 'unreachable', 'callbacks', '//t.co/vpdrplxj5a', 'grabbed', 'panamerican', 'championship', 'columbia', 'reliable..', '463', 'touchdown', '25th', 'sleep.but', 'wake', '3am', 'ebokeers', 'dynamite', 'dallasairport.i', '2208', 'cle.would', 'starbucks', 'a20', 'iah-mnl', '3/31/15', '4/17/15', 'advertising', '1051', 'buisness', 'disgusted', 'wrongfully', '65,000', 'gsp', 'americanview', 'paint', 'scheme', '//t.co/gt6umhbh43', 'rtn', '22nd', 'no.worse', 'stillmakingmepoorthough', 'elaborate', 'cha', 'toughtomakeplans', 'upinairclaire', 'ordeal', 'airbus321seat14fproblems', '//t.co/zkoe6clgiu', '8473573', 'requested', '2/5', '7-10', '8:30', '-help', 'inconvenienced', 'flightledflight', 'nicest', 'chicago.thanks', 'deane', 'norma', 'sedholm', '✈️✈️✈️✈️✈️✈️✈️', '806', 'copilot', 'disappointing', 'liar', 'precipitation', '47', 'pacify', 'fool', '.thats', 'usual', 'mojave', 'desert', 'pressurecooker', 'heattrap', '11:30pm', 'cinnabon', 'cinnabons', 'bonsinthesky', 'fritz', 'flight-checked', 'oak-', 'thor', 'exciting', '😁🎉', 'yo', 'required', 'not-', 'w/mom', '2559', '8:55', '210pm', 'main', '//t.co/j6iclv8dts', \"we'e\", 'baking', '3415', 'resource', 'diane', 'eyw', 'disregard', '😡😡', 'w/someone', 'bostongarden', 'program..horrible', 'westpalmbeach', 'flybetter', 'nexttimeiwillflysouthwest', 'insensitive', 'foodallergies', 'life-threatening', 'unsolicited', 'uneducated', 'opinion', 'reckless', 'dangerous', 'in…', 'mins…', 'require', 'receives', 'coverage', 'analysts', 'legacy', '//t.co/doruxbqla1', 'upon', 'pnr', 'tree', 'optout', '//t.co/cxrzhcdtvz', 'therealaviation', 'instagram', 'jeopardy', 'protect', 'pop', 'overseas', 'predictable', 'bbb_media', 'donotflywiththem', '2373', 'chi-buf', 'doll', '😘😑', '359', 'nerve', 'checkin/bag', 'blue/blackish', 'flex', '445pm', 'legitimate', 'systemwide', 'vs.', 'localize', 'unrelate', 'copy/paste', 'aeroport', '26', 'mty', 'mex', 'drain', 'fear', '235', 'competitor', 'joanne', 'phenomenal', 'flightnightmare', 'smell', '35', 'unlike', 'nyjets', 'gopatriots', 'awaiting', '714', 'changed', 'woke', 'notification-', 'lindsey', 'speedy', 'luvagent', '//t.co/qdebyahqfm', 'reliable', 'heyo', '1836', '597', 'handy', 'dandy', '//t.co/fvlxirh1f1', 'lookforwardtoflywithaa', '150219-000114', 'prebook', '40th', 'bday', 'dawn_davis', '901', 'rio', 'participate', 'rcm_oficial', 'cisnerosmedia', 'yourstoryhere', '3999', 'unplanned', 'pressurization', 'pain', '11:23', 'bos-sju', '5-12', '5-19', 'using.this.word', '//t.co/fd2tnyctrb', 'proof', 'rcvd', 'comms', 'deck', '5-6', 'mardi', 'gras', 'stuckinmemphis', 'texasisclosed', \"i'vebeen\", 'waa', 'thetroubadour', 'crying', '/dying', 'rn', 'ripme', 'johnwayneair', '1838', 'wendi', '127', '2/17', 'positive', 'nola', 'musician', 'j_beatz247', 'non-existent', 'essence', 'nburnside26', 'fiousairways', '💁', '4491', '787s', 'operate', 'luckily', 'pity', 'unusual', 'expected', 'article', 'itin', '//t.co/79wajk7eyt', 'burning', 'illegal', '//t.co/b2xi4yg5t8', '7.99', 'preventative', 'united-rebooked', 'oma', 'spotty', 'stressor', 'inconceivable', '//t.co/q9n6nzyspk', '//t.co/p3n2w8jfps', 'hrs', '4:30', 'plainly', 'comp/mech', 'donkey', 'dick', 'nothing..hoping', '5pm', 'headline', '4pm', 'liveonfox17', 'februaryfreezefox17', 'tt', 'inline', 'disgutedindenver', '2:00', 'fr', 'undefined', 'working.family', 'cgroup', '799', '8hr+', 'unsuitable', 'wayne', 'allegiantair', 'sarcasm', '4028', 'god', 'medically', 'b767-300er', 'zrh_airport', 'b767-400er', '6may-23sep', '23oct', '//t.co/bgtjfmneot', '9+hours', 'jenniferwalshpr', '2d', '3d', 'emboss', 'patch', 'superior', '//t.co/3fq3xelbon', 'wx', 'kax', 'tnx', 'incedentals', 'noworstairline', 'hv', 'wound', 'vet', 'heal', '//t.co/mzzfgqfhu2', 'worstairline', 'filed', 'received', '9:05pm', 'ua3462', 'token', '75.00', 'goodwill', 'mark', '27,000', 'california', 'nolove', 'noexcuses', '//t.co/kumtbger03', 'oscar-worthy', '//t.co/10tmthvfdc', 'keepitclassy', '3935', 'excuses', 'ballin', 'deck..', 'audition', 'imjustsaying', '😔😔😔', '//t.co/t6fyybhjhl', 'numerical', 'document', 'm.robinson', 'spite', 'crazybitch', 'caller', 'brooklyn', 'continentalair1', 'daycare', 'clusterfucks', '769', 'kleinerin', 'pastor', 'homeschool', 'spirited', \"'em\", 'prefundia', '//t.co/jrbzlhrw7y', 'bear', 'justsaying', 'unnecessary', 'guys…see', 'malaysia', '0011', '800-55558000', 'kuala', 'lumpur', 'kul', 'historically', 'lifeline', 'world-hungry', 'moderate', '😣', 'timco', 'knack', 'substandard', 'feeling', 'fella', 'happy4them', 'built', 'cross-browser', 'compatible', 'newly', 'married', 'preexist', 'ignores', 'impressed', 'bravo', 'msp', '2023', '60th', 'trip.never', 'thoughtful', 'prob', 'stingiest', 'model', 'ptfo', 'bastard', 'stingy', 'hpn', '2168', 'dealt', 'overflow', 'plumber', '12th', 'february-i', 'omgee', 'onfleek', '😭😁😆😵', 'sanity', 'sunshine', 'bliss', 'indenial', 'whatfrozenpipes', '//t.co/6ttzejv3hy', 'corporate-paid', 'severely', 'dented/missing', 'miranda', 'awheelchair', 'cldnt', 'happier', 'pin', '494', '//t.co/cbv7f3kbkx', 'octaviannightmare', '4+', 'stick', 'flights/refunds', '//t.co/rkvczbpdce', 'sincere', 'aggiemensgolf', '12thman', '//t.co/g8dka3edhf', '//t.co/49flbgzzkd', 'unnecessarily', 'chaotic', 'swfan', 'forecast', 'whoooo', 'hooooo', '25,367', 'pace', '152,202', 'fresno', 'shiver', 'forevercold', 'fly2ohare', 'flypdx', 'helpimstuck', 'gruber', 'weary', 'german', 'deplanes', 'jealous', 'auf', 'wiedersehen', 'borderline', 'scotch', 'stndby', 'madness', 'west', 'memgrizz', 'warrior', 'spur', 'okcthunder', 'super-fast', 'cgjase', '614', 'rr', 'gain', 'lost/stolen', '2/21', '2x', 'ky', 'va370', 'retweets', 'bump', 'ohno', 'bundleup', 'leastthebeverageswillbecold', '//t.co/ysqbvq6mgb', 'fp9m6y', 'jennifer.cascino', 'gmail.com', 'island', '4411', 'karinslee', 'chinese', 'actualy', 'situations.your', 'hostel', 'fake.snow', 'shaquille', 'dultch97', 'horse', 'radish', '😤🐴', 'chat', '2:35pm', 'aa1657', 'emerg', 'grouping', 'expose', 'cus', 'serv', '-me', 'stayed', 'lifesaver', 'engagement', 'tar-mat', 'reagan_airport', 'shake', 'rage', 'amazingly', 'bos-fll', 'tara', 'g', '//t.co/k7ubotmr1r', '10:00p', '10:07p', 'smoothoperation', 'flyus', 'cvg', 'par', 'admirals', 'slide', 'flier', 'incredible', 'enhance', 'availability', 'deed', 'smash', '😂💁', '//t.co/ifespcbztm', 'incur', 'invitation', 'e-rewards', 'legit', '6.55pm', '1.50', '3.30', 'andrew_wasila', 'andrew', 'sma', 'jasonwhitely', '947', 'emer', 'albuquer', 'maverick', 'miserable', 'justify', 'poc', 'nonprofit', 'saysorrychris', '^sw', 'cutest', 'salt', 'pepper', 'shaker', '//t.co/vc6keulg2j', 'twitter/email/web', 'stunning', 'reallytallchris', '//t.co/zv2pt6trk9', 'inclusion', 'guest', 'promptly', '11:30', 'a.m.', '1903', 'c19', 'distribution', 'avatar', 'kitty', 'disproportionate', '//t.co/aptzpurop4', '1627', 'round-trip', 'auction', 'post-masters', 'invitational', '//t.co/mrfbjtepef', 'tennetexan', '1136', 'besides', 'ewr-fll', '3-8', 'okayyyy', 'iron', 'shenanigan', '//t.co/rlwbj80ma5', 'authoritative', 'vital', 'expedient', 'penalize', 'pack', 'lightly', 'luxury', 'mystery', 'trick', 'popular', 'wellplayed', 'jokesonus', 'proactively', 'que', '=we', '~tom', 'played', 'bizarre', '//t.co/hlm2oks6xl', 'catfoodbeerglue', '//t.co/2thc9rkurt', 'duke', 'hat', '1761', 'mason', 'glitch', 'notfair', '//t.co/fvudmh27pf', 'tonne', 'closing', 'callmestanley7', 'discontinue', '3710', 'collide', 'lostbags', 'greet', 'gum', '//t.co/n9hmcrjchb', 'forgive', 'tropic', 'pedro', 'belize', 'elect', 'appoint', 'hack', '//t.co/kkedjnrtwo', 'pandu', 'vanished', 'chgd', 'acoustic', '//t.co/se57dmjhiw', '☀️🌴✈️🍸🎲', 'behalf', 'follower', 'soc', 'dontflyusairways', '30k', 'fuel', 'skymall', 'ripskymall', 'grouchy', 'nap', 'ratchet', 'bougth', 'fligths', 'grk', 'lex', '💯💯💯', '//t.co/srm13qbrzd', 'mac', '14th', 'owner.', 'honesty', 'malcome', 'replicate', 'flight2031', 'u.s', 'agt', 'pascucci', '//t.co/yiwlhqhzgp', 'bounce', '10+', 'chairmans', 'wth', 'nephew', 'midland', 'crabby', 'spvsr', 'sally', '.not', 'names', 'sj', 'alamo', 'tatiana', '//t.co/22ipgeicsm', '820pm', 'ua1416', 'departs', 'failagain', 'oppose', 'legal', 'agents', '4478', 'frustrating', 'sweetheart', 'altonbrownlive', 'sohappy', 'stowaway', 'understood', '1491', 'considerably', 'wn4287', '9:35pm', '636', 'complimentarybeveragesneeded', '//t.co/pd7r1ll6re', 'premiere', 'harder', 'expedite', 'ban', 'allergic', 'p-nut', 'dust', 'hipster', 'texting', '4am', 'servicedog', 'continued', 'fml', 'telleveryone', 'hands', '//t.co/ghjbp5gg67', '..and', 'stuffy', 'ooh', 'speaking', 'miamore', 'iadore', '//t.co/fwzclbvug4', 'loving', 'lovesongfriday', '1815', 'n747uw', 'flytpa', '//t.co/ttlwzgiyag', 'excited', 'position-', 'goal', 'diverge', 'burlington', 'vermont', 'whilst', 'highway', '//t.co/tynchoelac', 'printer', 'response.tough', 'marked', 'reposted', 'tisk', 'suit', 'android', 'press', 'staffer', '15th', \"'blumanity\", '//t.co/lfgr0nifut', 'shitshow', 'destination=rude', '1800iflyswa', 'mde', 'mths', 'stretch', 'trublue', 'num', 'answering..do', 'november-december', 'lauren', 'exceptionally', 'uncourteous', 'jhughes1025', 'grrrrrrrr', '//t.co/6kqlhvap7g', 'canx', 'noon', '1512', 'n924an', 'enroute', '//t.co/j0mhmkdivl', '9news', 'fly-away', '9newsbusiness', '//t.co/o3wlainimy', 'breach', 'welldone', 'goodflight', 'friendlysky', 'loganairports', 'guaranteed', 'fastest', 'responding', 'q2', 'q3', '2014', 'reativation', 'deice', '12:15', '10:10', '1:05', 'consolation', 'impediment', '5302', '5:51', '6:20', 'schedule/contact', 'vail/eagle', 'freq', 'servicefail', 'memorize', 'five-word', 'phrase', 'six', 'million', 'snit', 'winner', 'quiet', 'sheesh', '^ml', ':3:15', '96', 'adapt', 'cushion', '1226', 'ord-ewr', 'excellence', 'government', 'approval', 'deltaassist', 'feces', 'sprinkle', 'definitive', 'providence', '1503', 'frigid', 'icyflight', 'whoa', 'brave', '34', 'meantime', 'yuma', '2702', '2696', 'montereyregionalairport', '75yo', 'audience', 'transf', 'grandma', 'ua1750', 'exists', '//t.co/nsjwvttjgo', 'cdg', 'spoil', 'lisa', 'pafe', 'southern', 'joanna', 'lock', 'us651621', 'hayleymad', 'udub', 'cameron__roe', '//t.co/kbhym5gkap', 'ai', '5163', '6..so', '3751', 'strut', 'nozzle', 'calibrate', '//t.co/hyrao7a4uu', 'hitawall', '850', 'airline..have', '//t.co/eczhcmm5vi', 'retrain', '3837', 'verify', 'nofun', 'nocustomerservice', '//t.co/m7mmq2f5fa', 'segment', '4/4', 'gnv', 'ctl', 'stream', '1999', '2011', 'women', 'finals', 'throwback', '//t.co/ivgpzsjtkw', 'tough', 'olympic', '617-653-3040', 'leverage', 'bullshit', 'delays.handling', '4435', '1316', '890', '5136', 'connection…', 'kelsey', 'bellagio', 'bridge', 'jetblues', '//t.co/ncb2oncs9i', 'bagage', 'airbus', '//t.co/dbcvepn5qc', 'corevalues', 'passion', 'aerojobmarket', 'hitch', 'hike', 'passengersarepeople', '53', 'run-around', 'outlook', 'reuters', '//t.co/jeu7od3eyj', 'skipper', 'walk-around', 'shower', 'overheard', '-jfk', 'eternity', '5ammisery', 'terrific', 'ground..😡', 'darquenloveli', 'regret', '^kn', 'argue', 'planestrainsandautomobiles', 'fortunately', 'go…', '//t.co/fwkj49b1le', 'says', '//t.co/kcvubuyexc', 'request..', 'workin', 'tinaisback', 'fudgers', 'white', 'eu', 'law', '€600', 'ua936', 'cooky', 'appropriate', 'review', 'nada', 'donation', 'the_uso', 'liable', 'youretheworst', 'bgr', 'orig', 'supp', 'neverflyvirginforbusiness', 'evr', '1796', 'chl', 'ensue', 'marcos', 'concierge', 'key', 'gru', 'commend', 'board.', 'funnycaptain', 'royal', 'commission', 'paperwork', 'call/email', 'central', 'redeye', 'addair', 're-flight', '^cp', 'terrible.been', 'brushing', 'ua230', '7d', 'carryons', 'americanair.if', 'swear', 'it.', 'a380s', 'kp', 'scoop', 'princess', 'glassslipperchallenge', 'wdw', 'ex-eu', 'haul', 'intra-eu', '4:36', '6:30', 'flyerfriendly', 'mail', 'verification', '//t.co/r1oqaveo7i', 'bragging', 'js', 'refers', '1-800', 'auto-rebooked', 'skin', 'teeth', 'reflection', 'extinct', 'inevitable', 'spends', 'randomactsofcorporategreed', '666', 'burned', 'loses', 'hotelstonight', 'startingbloc', 'jlhalldc', 'relations', 'mosiac', 'paytontaylor129', 'payton', 'taylor', 'ksml', 'dedicate', '24/7', 'manchester', 'chosen', '20.', 'ua276', 'sked', 'unnoticed', 'prechk', 'annoy', 'lh7631', '21/2/15', 'mercy', 'playlist', 'unloads', 'badbusiness', 'compound', 'jetbluemess', 'us1799', 'clt-', \"'cuz\", 'inadequate', 'hardcase', 'golfbags', 'instrument', 'inconvenient', 'convenient', 'inefficient', 'doyourjob', 'determine', 'swap', 'belonging', 'horrible.went', 'flight-no', 'button-4that.called', '.800', 'hungupnohelp', '46', '788', '188', 'b/f', 't-24', 'reboot', 'dispatch', 'pivotalcf', '837', 'decisions', '//t.co/xbqqqbrgvf', 'perfectomobile', 'func', 'map', 'austrian', 'codeshare', 'incls', 'allows', 'yay', 'sfo-', '😜😎', 'maltese', 'puppy', 'alot', '4-5', 'simonroesner', 'concrete', 'bench', '1other', 'giving', '☀️', 'reciprocate', 'kta', '//t.co/qjlzrywfj2', '1254', 'pen', 'collection', 'x__x', '//t.co/xxppzo88j1', 'downnnnn', 'backing', 'retract', 'charger', 'lens', 'mtg', 'tom', 'personalize', 'cannedtweet', 'autoresponse', 'bobwesson', 'everybody', 'slight', 'fabulous', 'idontwanttocallback', 'concert', 'reservation..', 'canld', 'resch', '1:30.if', 'opt', 'cng', '16,000+', 'embody', 'thanksdave', '//t.co/innp0kkyby', '//t.co/kmanldqbh4', 'restate', 'fcuk', 'outoftouchwithreality', 'jtrexsocial', 'midght..', 'application', '/3', 'flamethrower', 'plow', 'lhrt2', 'remotely', 'g8cvwj', 'kailua', '1416', '2/20', 'slammed', 'continually', 'painfully', 'inexperienced', 'hiremorepeople', '//t.co/g97habyep5', '15yr', 'mr', 'parker', 'crisis', 'avert', 'beers', 'specifically', 'discourage', '37d', 'expires.why', 'mightmismybrosgraduation', 'in-', '//t.co/7e5bxwg16t', 'thng', '//t.co/ml1jacpmch', 'flightattendant', 'dreampath', '-g', 'tjycqh', 'nite.not', 'pu', 'unt', 'aft', 'shld', '9:58', 'w/lil', 'ua863', 'flysfo', 'sydneyairport', 'though-', '411', '989', 'nexus', 'passport', '4828', 'marshall', 'bitch-slapped', 'juliasinton948', 'smarter', 'mooks', 'godelta', '//t.co/xdjzkc34gb', 'tywinter', 'irritate', 'triflight', 'dividendrewards', '50k', 'fulfil', 'reqs', 'bensonhenderson', 'agent..then', 'csrs', 'fridge…that', 'dorm', 'genius', 'flight16', 'lpdstock', 'dreading', \"king'scollegelondon\", 'jailbreak', 'rag', 'drag', '6:00', \"cx'ed\", 'nev', 'additionally', 'moms', 'teleportation', 'ua514', 'mdw-fll', 'capacity', 'chillpill', 'retweet', '441', 'wc', 'reopen', '1285', 'grow', 'backlog', 'incomprehensible', '424', '//t.co/kacy2awdbw', 'cspkcats', 'provo', 'crossed', '//t.co/w8mtmsp2ry', '//t.co/k0mhzrjf6e', 'oneworld', 'endless', '7:15', '1:15', 'waitingagain', '//t.co/agpb45v8wt', 'roundtrip', 'appalled', '💝too', '3ticketsforjax', 'expand', '//t.co/kk6eixifp5', 'busiest', 'traffic/fuel', 'regional', 'on-line', 'holding', 'karen', 'riedel', 'miracle', 'stain', 'aboard', '—', '//t.co/hf8ajz4ffl', '2390', 'hmm', 'u.k.', 'spoken', 'wide', 'saianel', 'versus', 'convenience', '2:00pm', 'oct.', 'informed', 'instructed', '//t.co/c7kzbvf8h8', 'go-to', 'weather….call', 'outofbusiness', 'calgary', 'aircraft..', '800-428-4322', 'vegan', 'creative', 'noodle', 'pea', 'zukes', 'non-vegan', 'yogurt', 'aw', 'cld', 'mk', 'btr', 'me😭😭😭', '277', 'tke', \"'thank\", 'reminds', 'same-day', 'cpap', 'apnea', '7pm', 'maryella_green', '40mins', '//t.co/6zj6l2ztua', 'revert', '5-minute', 'dump', 'w/no', 'tue', '2513', '1555', 'ua994', 'hiccup', '89ish', 'lima', 'cuzco', 'favor', '🙏❤️', 'greenfield', 'reporter', '//t.co/lm3opxkxch', '3-yr-old', 'great-granny', '103', 'flip', 'google', '^lol', '1247', 'acknowledge', 'jeff', 'wernicke', '330', 'mundane', 'mayweather', 'pacquiao', 'gather', 'preoccupy', 'flag', 'observer', 'behavior', 'flight850', 'hillaconlin', 'solar', 'amazon', 'changer', 'plug', 'usb', 'flyunited', 'guatemala', 'ambivalence', 'flights/delays', 'helps', 'costarica', 'penny', 'vacatime', '✈️💺', 'flat', '1000cost-', 'careyon', 'aa..dfw', 'am..so', '..btw', 'a.a', 'trv..love', 'hospitality', 'helpfulness', 'lastella', '👏👏👏✈️', 'def', 'sometimes', 'apollochplayers', 'permission', 'ph6rps', 'computers', 'humour', '//t.co/jnqnbk7hut', 'beamske', 'retweeted', 'numerous', '9am', 'elsewhere', 'protocol', 'sfo-fll', 'dontdothistome', 'sw.', 'humor', 'boom', '//t.co/pzgc6jch7n', 're-upgrade', 'xna', 'spade', 'bottle', 'spice', '1918', 'passed', 'html5', 'flyfrontier', 'scramble', 'iced', 'tired', '1702', 'dfpietra', 'shaking', 'tsk', 'better-from', 'thrilled', 'aunt', 'gracious', 'toby', 'est.platinumeventually', 'as', 'noexcusesaccepted', '170', 'chase', 'referral', '//t.co/btvpxtzju0', 'garywerk', 'pricey', '//t.co/214i0rtih4', 'hilton', 'hotels', 'tul-dal', '1:00pm', 'united1k', 'gagent', 'danny', 'b.', 'us628', 'dfw-clt', 'irrops', 'phantom', 'apeared', 'b3', '1299', 'm13', 'swiss', 'lx009', '2/15/15', '713', 'buf-clt', 'ran', 'realise', 'utah', 'nh', 'mhtforlife', 'misery', 'lawyerup', 'ams', 'today-', 'downright', 'hostile', '8+', 'pandora', 'le2v9d', 'numbered', 'iatanbul', 'hdn', 'hdndl11785', 'mine..now', 'fuckinlame', 'naia_miaa', 'purpose', '😭', 'dildo', 'denairport', '500-mile', 'bgm', 'julie', 'andrews', 'processing', 'jetway—why', 'repeatedly', 'defibrillator', 'vicky', 'thomas', '1500', 'convey', 'emailmailto', 'usairways.com', 'unmonitored', 'den-cle', '1ker', 'profitable', 'venture', 'isitthegarykellyway', '0769', '82°', 'exclusive', 'you..', '4663', 'worstairlineever', 'planet', 'applaud', 'environment', 'lindaswc', '//t.co/hisc4ndmgz', 'lofty', 'silverstatus', '//t.co/f4tp0dawbd', 'cbsphilly', '31', 'bus/first', 'milesaaver', 'cun', 'whyfly', 'member😒', '5545', 'b18', '*alliance', '1world', 'desparately', 'bna-', 'tul', 'annebevi', 'paulbev1', 'mikeabramson', 'postcode', 'mini', 'mon-fr', 'advertise', 'chuckhole', '1/1', '1114', 'isolate', 'neglect', 'hoop', 'overprice', 'sub', 'abt', 'stagnant', '1735', 'conditioning', 'interupt', 'staduim', 'series', 'nhlonnbcsports', 'csr', 'kiosks', 'etihad', '1514', 'puj', '02/20/15', 'plane..', 'ua3388', 'winterweather', 'glove', 'maria', 'beanie', '//t.co/aneqxzr4bp', 'headed', 'lbc', 'oak', '12:00', 'the15hours', 'mosaic', 'lifeisgood', 'satisfied', 'happycustomer', 'manilla', 'claimed', 'flight-', 'fucking', 'san68059m', 'getmeoutofhere', '338', 'faanews', 'days/plans', 'aa3490', 'delay/pending', 'fedex', 'extreme', 'aa304', 'iusedtoloveu', '//t.co/tefhpuwmdj', 'cherry', 'top-flight', '880', 'difficulty', 'qualification', 'emerging', 'leader', 'development', 'program-', '//t.co/jlhm0x7ukb', '//t.co/bm9o2k5x5j', 'brochure', 'tout', '//t.co/by3vdiosua', 'genuinely', 'comparable', 'noc', 'dmb41shows', 'refer', '58', '13th', 'annual', 'martha', 'vineyard', 'african', 'festival', '10-15', 'attendee', 'mv', 'airborne', '2396', '4179', 'apparent', 'detailed', 'longing', 'firstlove', 'homeless', 'letdown', '10:20', '3pm', 'sfo2lax', '12pm', '1030pm', 'impaired', 'jetblueanyone', 'sos', '☺️', 'vouchers', 'apologise', 'blameshiftoverload', 'allergy', '8oz', 'benadryl', 'epipens', '36', 'hawaiian', 'hawaiianair', 'panam', 'betsy', 'besty', 'most..but', 'homewardbound', 'flight293', 'unannounced', 'mouth', '4553', 'pwm', '1f', 'clockwork', 'scareways', 'neverfails', 'aumilo1', 'a9', 'stationary', 'pairing', 'redwineisbetter', 'fly2midway', 'takemeback', '//t.co/oqz7wc4lla', 'nm4agoodlife', 'synergy', 'reposting', 'imateacher', 'couldnt', 'notmyfault', '2086', 'cnxns', 'impress', '//t.co/cih1qnllcm', 'bundle', 'latimes', 'chicagotribune', '436', 'zcc82u', '16h', 'fra', 'recruiting', 'fall', 'internships', '2/23/15', '5-', '6pm', 'jindalcmc', 'davidson', 'auditorium', '1.118', 'jsom', 'utdallas', 'ua1459', 'threehourslate', '//t.co/acebo6elpa', 'aa223', 'digit', 'dmangen', 'visualclubconcepts.com', 'smoooothest', 'southwestsmoothie', '//t.co/vr9k180lai', '//t.co/atd2sm8hf4', 'brilliant', 'everytime', '1071', 'uncool', 'firstworldproblems', 'roger', 'wilco', 'sjc-', 'fourth', 'ckin', 'redesign', '1133', 'n353jb', '//t.co/swzm2fx3nu', '30timesenough', 'companionpasses', 'reside', '//t.co/mdn5ed58ze', 'savings', 'hve', 'flght', 'nw', 'insight', 'semester', '🙏🙏🙏✌️✌️✌️🙏🙏🙏', 'scotthroth', 'scott', '1k+', '89', 'vincesviews', '//t.co/ui9m8ypzh2', 'vice', 'president', 'deltapoints', 'consistency', 'contacted', '10x', 'shout-out', '823', '3075-', 'ege', 'cxld', 'understatement', '//t.co/pulp4i0w96', 'paigeworthy', 'rare', 'fake', 'safari', 'alison', 'bobbi', 'b8', 'lile', '8h', '3883', '4011', 'handler', 'markie_post', 'markie', 'lake', 'wylie', '//t.co/jgor0vdi3s', '^lo', '/pbi', 'th', '1851', '1769', 'download', 'jeokoo', 'employee=faceless', 'starts', 'miler', 'jfk-', 'inventory', 'plat', 'aa45', '3a➡️8c', 'frequency', 'nelsjeff', 'interaction', \"'ing\", 'ua4753', 'tpa-dfw-lax', 'courtney', 'accrue', '//t.co/yokkhhqcmp', '//t.co/2uaicfjrms', 'adjustment', 'returning', 'mod', '4322', 'liftin', 'higherandhigher', '//t.co/xgfs6tjtmo', '//t.co/ixm3t5mizc', 'twelve', '2hourwaitsucks', '//t.co/d1ergpdwsj', 'huntsville', '🙅', 'gent', 'headphone', 'interesting', 'boeing', '27l', '//t.co/owmaxoyehz', 'pbpinftworth', '64gb', 'overwhelmed', 'fortunemagazine', 'w/my', 'infant/toddler', 'props', 'michele', 'communication/details', 'guys.i', '2/25', 'rno-dfw', 'tomorrow.plane', 'am.should', 'fê-route', '767', 'tax', '//t.co/upocmmulun', '240minute', 'aa4285', '60+', 'yell', 'seating..', 'internal', 'skill', 'ionlyflyblue', '6533', 'us2065', 'voice', '//t.co/31cfhtk60r', 'pointless', 'cho', 'evaluate', 'inspect', 'routine', 'nyt', '//t.co/bngpli8jt6', 'hog', 'cle', 'lacma', 'fairfax', 'pattern', 'jobs/lose', 'transition', '2119', 'bos-dca', 'flighted/rescheduled', 'diabetic', 'insulin', \"o'head\", '26+', '1366', '1552', 'bostonlogan', 'ocean', 'fed', '56', 'kansas', 'kci', 'nothelpful', 'ftlauderdale', 'emxlyy', 'jetblue…', 'just…', '//t.co/mb3ipgs8zq', '6f', '1818', 'planned', 'cavs', 'nooooo', '//t.co/826pkiq5hi', 'generally', 'in/baggage', 'unhelpfulness', 'too👍', 'icing', 'courteous', 'helpful..', 'ua1429', 'daniel', '1557', 'restrm', 'row7', 'myself/others', 'left..', '915', 'boo', 'destroy', 'w/them', '21st', 'parameter', 'wit', '👀👀', 'seats/tray', 'sanitize', 'purifier', '😷😱', '//t.co/xx5qscjll1', 'brandssayingbae', 'freberg15', 'directv', '//t.co/hqdtk6atue', 'selling', 'stock', 'beats', 'eps', '//t.co/flwmgdahxu', '1183', '2258', 'alternative', 'us3645', 'marks', '//t.co/e5naxbue4s', '//t.co/klxivnbcyh', 'amex', '50.000', 'everglades', 'faint', 'sunburn', 'reservation-', '1625', 'blew', 'four-yr-old', \"cap'n\", '//t.co/c8mqezxvdh', 'travelling', 'cstmr', 'srvc', 'ctr', '//t.co/ucveu2hurz', 'velour', 'show-entered', 'aspen', 'snowstorm', 'dca-', '577', 'unscheduled', '😂😂', '3267', 'n659sw', 'mitchellairport', '//t.co/lj2ydkor8q', 'tinder', 'tindertips', 'tinderchamp', '//t.co/jbmvvha63a', 'shoddy', 'whatsoever', 'unitedairline', 'ua49', 'missedflight', 'slew', 'confuses', '6in', 'technology', '3744', 'n284wn', 'phxskyharbor', '//t.co/bd5tvr3gcy', 'sydney', 'asia', 'pac', '…', 'finnair', '//t.co/pd3nbaakxh', 'multimedia', 'possiable', 'schiphol', 'cnxn', 'atc', '1384', '1583', 'tys', 'wanted', 'investigation', '♥️', 'sht', 'assignment', 'mislead', 'jal', 'cathay', 'pacific', '-really', 'followback', 'us1765', '60-90', 'sympathetic', 'questions', 'unanswered', '38a', 'assumed', '8e', 'gas', 'unrivalled', 'u.s.', 'one-stop', 'year-round', '20k', 'ardent', 'poughkeepsie', '//t.co/zsdgzydnde', 'plague', 'draw', 'crowd', 'us5268', '4050', '2:55', 'gjqx6j', 'a587cw', 'points', '5721', 'pit/iad', 'engadget', 'theverge', 'wired', 'transformative', 'prayer', '.disappointed', 'mishap', 'lotttttttt', 'piss', 'intern', 'throughout', '//t.co/gml7ot3imh', 'lung', '//t.co/ipaamzt7z2', 'statement', 'stockhouse', '//t.co/obf9jbpc6a', 'search', 'altitude', 'sharp', 'bnasnow', 'unreliable', 'us624', '556', '561', '62', 'keepingit100', 'weaktea', 'doug', '//t.co/fgjbex480d', 'of40.i', '10:39', 'wudda', '2.5yrs', 'tulsa', 'southwestluvsweeps', '1679', 'n76200', '//t.co/xbkvcraokn', 'strange', 'inquired', 'sauvignon', 'blanc', 'pronounce', 'matthewebel', 'aug.', '10:05am', 'misjudge', 'deliberate', 'strategy', 'seen', 'expens', '//t.co/lo6lghpcdu', 'generic', 'o', 'verizonwireless', '//t.co/t1rypzebc8', 'resolved', 'reset', 'response/service', 'unfollow', 'surely', 'afford', 'sc', 'fitbit', '1463', 'battles', 'passengers', '//t.co/frrfxccw7z', '//t.co/nklw9ssvrq', 'dirty', 'miles😡', 'wasteoftime', '2/15', '5/17', 'disconnection', 'glass', 'thebachelor', 'wah', 'satisfy', 'nano-smattering', '1161', 'tune', '//t.co/vdfdodqvgx', '1777', 'clearance', '838', 'lodge', 'st', '4628', 'disappoints', 'morn', 'flysouthwest', 'fm', 'x2', 'centre', 'lesliewolfson', '37', 'ltr', 'politely', 'efficiently', '//t.co/qd2lyuxazg', 'wen', '5418', '4609', 'geeks', 'server', '639', 'fave', 'w/40', 'earnedmybusiness', '4/19', 'it.this', 'cruise', 'nght', 'flighted-mech.probs', 'flighted-snow', 'cl', '5:50', '1a', '415', 'bucket', 'promote', 'noneother', '//t.co/tfanxbh1cf', '1706', '4500', '403', 'system-wide', '630', 'ontime', 'sail', 'reopens', 'closer', 'acy', 'donut', 'designer', 'me..', 'abq', '336', '//t.co/ooej4d4jop', 'defer', 'separately', '6hr', '108639', 'southwestairlines', 'stellarservice', '1408', 'instruction', '11pm', 'inop', 'safetyfirst', 'employ', 'whyareyouyelling', 'onboard.alerted', 'socket.you', 'placing', 'tad', 'assured', '1-4am', 'combat', '1612', '117.', 'travis', 'skis', 'insanity', '1875', 'stats', '//t.co/xzbajmiekx', 'changes/deval', 'tier', '350', 'desition', 'nade', 'doubtful', 'danger', 'takingthistothetop', 'struggle', '//t.co/hqdb5iruvg', '4-10', '//t.co/4kh92mkotz', 'rear', 'ua5025', 'erj145', '325', 'absurd', '//t.co/e09kej9bv1', 'disgrace', '4420', 'resole', '//t.co/eniqg0buzj', 'hello..are', '376', '1874get', 'fate', '🌴', 'airlinesecurity', 'hardest', 'owes', 'dvt', '//t.co/xc6jq70r7b', '1:34.', '//t.co/pgwukrpmox', '49', '//t.co/9vkj9s7jrm', 'probs', 'owner', 'multi', 'apps', 'sits', 'throne', '//t.co/iwoigrlhxb', 'iove', 'lineup', 'barrettkarabis', '41min', 'reboard', '20+', '//t.co/eerekdf9fq', '1222', 'e190', 'itenary', 'broken/stolen', 'wave', 'services', '.something', 'burger', 'butnot', 'albanyairport', 'boarded', 'customers.time', 'airliner', 't5', '24//', 'bringbacktheluvtordu', 'directflights', 'geography', 'gainesville', '5137', '5547', '7:30am', 'ineedcoffee', '😩😂😂😂😂', '//t.co/yco9dikpt9', 'transportation', 'offender', 'conversational', 'aa919', 'react', 'cattle', 'surreal', 'squash', 'managed', 'provided..', 'wore', 'protection', 'luxclark', 'laura', 'female', 'w/reso', '2160', 'e', 'coughed', 'fjbfsc', '776.20', '656.xx', 'spanish', 'goes', 'eyyyy', 'ed', 'soooo', 'seatbelt', 'turbulence', 'clinicpolly', '8uxzj2', 'negatively', 'affect', 'integrity', 'cement', 'pillow', 'ua1724', '//t.co/ndtlj15zpu', 'attempting', 'purchasing', 'texted', 'lied', 'unitedsucks', '2046', 'bos-clt', 'narrow', '//t.co/hj5kq82chn', 'control—the', 'displayed', 'paper', 'arizona', '184', '//t.co/finq5fh6ue', '😊😊😊✈️✈️✈️', '5129', 'thy', '.left', '297', 'packingayak', 'brianregancomic', 'cockroach', 'crawl', 'visible', 'woase2015', 'helsinkiairport', 'winterops', 'obscene', 'nomorecheckedbags', '603', '2705', 'psp', 'disrespectful', 'surgeryhelp', '910', 'poop', 'brian', 'cheer', 'pre-paid', 'employer', 'mia-sfo', 'nonewplanes', '//t.co/twetpxuppn', 'americanairbr', 'fernheinig18', 'accountability', 'patrick', 'casimir', 'f-a-n-t-a-s-t-i-c', '3586', 'inner', 'metro', 'lowstandards', '//t.co/m67wnbglxq', 'differently', 'bitchy', 'ua252', 'wastedtime', '9:56', 'awhile', 'norm', 'dialogue', '12:13pm', 'platinums', 'huh..', '348', 'sittingonthetarmac', '730a', 'socialtantrum', 'patricia', '//t.co/mmcwkqp2gy', 'nudgenudge', 'slot', '//t.co/ji2pg4gom9', '9:15', 'cdt', '15minutes', '⤵', '//t.co/q5sb0davuy', 'er', 'curtesy', 'checkpoint', 'prof', 'takers.we', 'mvmt', '489', '589', 'zfv', 'baggagelost', 'israel', 'well-priced', 'oahu', 'flights/year', 'offline', 'anni', '//t.co/bape6rumne', '1707', 'formal', 'selfie', 'goingtovegas', 'percentage', 'yout', '//t.co/i7ut2zvhco', 'la-ish', 'coachgs', 'cheap1', 'woo', '953', 'fligth', 'somthing', 'herb', 'gopro', 'interrupt', 'rizzilient', 'ridicule', '1907', 'plants', 'productivity', 'luvswa', 'healthbenefitsofplants', 'gardening', '//t.co/bvfaxdubaq', 'ssal', 'legally', 'blind', '16+', 'amt', 'aside', 'manifest', 'fly-fi', '437', 'ab', 'temorris2010', 'intend', 'to..very', '4,000', 'sucks', 'matter-', '8hh4p2', 'sentierimelinda', 'barzegar', 'euro', 'tent', 'village', '//t.co/igsvzvrbbn', 'fliers', 'zacks_com', '//t.co/gouzrdt7zf', 'incidentally', 'sheila', 'collect', 'survive', 'xxx', 'sfo-pdx', '69', 'reassign', 'pulse', 'sop', '👊', 'a+', 'glasgow', 'ewr-sti', 'season', '35a', '8yr', 'bos-phl', '//t.co/4ojrsdwpkk', 'nyc-', '0162431184663', 'joke.boston', '//t.co/dh2rfuijyp', 'hasty', 'unwise', 'pushback', 'vary', 'gassing', 'recline', 'soreback', 'mellie', 'cae', 'tammy', 'extralight', '3444', 'albertbreer', 'airnzusa', '//t.co/6hjucp694l', 'blackhistorymonth', 'smoothly', 'mc', 'disturb', 'dl', '//t.co/nh2i9zlzmk', '2063', '2:50pm', '18feb', 'herba', 'melaniespring', 'pho-mia', '6:40', 'passing', 'buck', 'natt', 'neverflyvirgin', 'increment', 'pricing', 'refresh', '1239', '//t.co/diufep8n2q', 'cnnmoney', 'antitrust', 'preboarding', 'margo', 'bush', 'intercontinental', 'gangway', 'massage', 'robbogart', 'fib', 'virginamerica.com', 'emails', 'printed', 'takeresponsibility', '✈️🌞', '//t.co/djhxvjt201', 'scold', 'bos-las', 'vabeatsjblue', 'scvpools', '310-795-2210', 'flattering', '//t.co/7br5t5qcxk', 'parachuteguy', 'helpline', 'captive', 'ohio', '//t.co/grkbj7bxlk', 'tug', 'supply', 'definately', 'united13', 'yeehaw', 'threat', 'defend', 'flightled/delayed', 'lubbock', 'indicate', '//t.co/9tbsjquw41', 'scream', 'volunteer', 'ri', 'underway', 'query', 'scrum', 'anticipate', 'weather-relate', 'pres', 'eqm', 'customerloyalty', 'em', '11:55am', 'rno', 'kosher', 'fancy', 'lieflat', 'saxonandparole', 'lobstermac', 'bloodymary', 'jetsetter', '//t.co/zf5wjgtxzt', 'hi-my', '1814', 'jb..i', 'squish', 'fashion', 'velourlive', 'cheese', 'platter', 'abundance', '//t.co/4mqfmxebxt', 'ti2469', 'shiz', 'barrier', 'electric', 'skateboard', '747-400s', 'seat-back', 'tokyo-narita', '1,223.22', 'unusable', 'usairwaysfailscustomers', 'padresst', 'blown', 'custserv', '//t.co/jorescfb4x', 'affordable', 'happycamper', 'decided', 'boarding..', 'toilets', 'strongly', 'funited', 'publicity', 'motto', 'seam', 'bust', 'zipper', '//t.co/lhwfbkfyni', 'robin', 'hayes', 'uschamber', 'summit', 'ought', 'generate', 'aa5/ba1506', '3611', '5:10pm', '7:34pm', '863-', 'pleasure-', '//t.co/trqlpeinzw', 'disunite', 'info-', 'email-', 'lines-', 'advan', 'mem', 'london', 'londonfashionweek', 'lfw15', '👠🇬🇧👠🇬🇧👠🇬🇧', 'overbook', 'rearrange', 'mismanagement', 'hutchinsjim', 'workout', 'salisbury', 'sporadically', 'uncharacteristic', '//t.co/txhyj40llg', '77min', 'sorrynotsorry', 'manuel_c', 'platitude', 'vinylvegas', 'donedeal', 'talktoahuman', 'console', '//t.co/c9p2iosphm', '20l', 'delivered', 'unforeseeable', 'operational', 'thirty', 'soooooo', 'sleepy', 'noplacelikehome', 'eventhoughits2degreesathome', 'reschedules', '2hr15min', 'donate', '356', '44', 'lay', 'bedofroses', '//t.co/3qyezhjgsb', 'sarcastically', 'taking', '✌️out', 'queue', 'validity', '9:19', 'a=', 'cheapoair', 'applicable', 'insufficient', 'peace', '//t.co/tnkixxrxhb', '8:23', '//t.co/xatoxbnsfa', 'unimpressed', 'travisamex', 'duck', 'brandloveaffair', 'soulandinspiration', '//t.co/igkogywksr', 'umosaicmecrazy', '1086', 'begging', 'ua57', 'sheer', 'reign', 'gd', 'woohoo', 'existence', 'stacy', 'tucson', 'p.m.can', 'milan', 'inclement', '//t.co/eqepkkpsxm', 'comped', '//t.co/1aavvoreph', 'courtsnod', 'answering', 'firm', 'ga', 'pleeeease', 'finleybklyncfs', 'video.', 'bff', 'hockey', '//t.co/ppva4rch9f', '😢😢😢', 'offering..at', '-0.06', 'wallstreet', 'scope', '//t.co/ofw4a8b5ws', 'flightr..', 'rec', 'driving', 'overhaul', 'wendell', 'holton', 'senseless', 'ord-lhr', 'ben', 'mi-boston', 'icelandair', 'hkg', 'onion', 'ring', 'vindictive_tk', 'miriam', 'harass', 'mistakefurious', '6yo', 'scar', 'guesstimate', 'accident', 'us728', 'box', 'hrl', 'layout', 'kiosks/bag', 'timely', '//t.co/x6syw3mdvu', 'dallas/fort', '5320', 'jax2bna', 'notokay', 'neverchange', 'lastly', 'personally', 'lasttweetaboutthis', 'us/aa', '4443.we', '2:12', 'apx', 'bowl', '😩', \"'passenger\", 'excitement', 'peak', 'caucasity', '//t.co/csnrpvy9b9', '4-4', 'wantcharge', 'southwestair-', '3500pts', 'partnerrewards', '729', '⌚️', 'alwayslate', 'rikrik__', '^jp', 'inconvience*', 'nogate', 'fucken', '❤️you', 'turned', 'actingoutmgmnt', 'pipe', 'xd', 'cont…', 'meaning', 'contingency', 'birth', 'k13', 'corner', 'jumping', 'gun', 'karaax', 'mitchell', 'neuer', 'input', 'known', 'hfjkto', 'enormous', '//t.co/ffanixjhwh', 'tux', '//t.co/hap4gbostu', 'refurbish', 'cheapoairchat', 'prn', 'harbor', 'counting..', 'badbussiness', 'theft', '//t.co/63zaq2lt8f', 'success', 'evoucher', 'jetbae', 'horribleservice', 'areyounew', 'no800number', 'feeltheheat', 'ua1641', 'ewr-mco', 'inbox', 'us4623', '4:08', 'travelzoo', 'deals', '//t.co/kj1iljaebv', '94lxa62', 'e2kvm4', 'thansk', '😊✈️', '1am', '30th', 'dontmakemebeg', 'applepay', 'curfew', 'diversion', 'aa1237', 'nutsaboutsouthwest', 'javascript', 'stylesheets', 'shivadelrahim', 'no-', 'boarding-', 'traveller', 'unitedfails', 'worsttripofmylife', 'thanx', 'rodeo', 'getting', 'avis', 'remind', '746', 'rim', 'randomly', 'repeatably', '7th', 'dmv', 'noshadetothedmv', 'jfk-las', 'grasshopper', 'twitterz', 'kung', 'fu', '//t.co/8mwitri9kf', '2692', 'sombrons', 'airside', 'cho-clt', 'denied', '2xdaily', '👸', 'freyabevan_fund', 'in🇺🇸2y', 'battling', 'cancer', '💗', 'helpful.i', 'assistance..you', '💯', 'ons', 'travelhelp', '1584', 'steve', 'connolly', '//t.co/frhuxib8ii', 'apologizes', 'handicapped', '4443', 'youcouldntmakethis', 'brokenwheel', 'jkf', '7c', 'portfolio', '//t.co/qrxz0bgbtq', 'gesture', 'aa91', 'lhr-ord', '2/16', 'disappears', 'quietly', 'irate', 'ninadavuluri', '😃cool', 'motor', 'cvgairport', 'flightdelay', 'craft', 'nocompensation', '400/ticket', '2of2', 'unacceptable..', 'bout', 'surfer', 'noloveforsurfers', 'pretend', 'consequence', 'shopping', 'youareonyourown', 'understands', 'srv', 'lunch', 'electronics', 'aa215', '//t.co/hcnn0wxqqr', 'afterall', '//t.co/swwhyhen76', 'cheesy', '80sweresomuchfun', '43', '⛄️☀️', 'southworst', 'involuntarily', 'disinfectant', 'mysterious', '2312', 'responsible', 'dtw', 'tus', 'als', '//t.co/m1yywafkfi', 'kevinswan_', 'alstdi', 'a_life_story_', 'amagrino', 'reuse', 'do-but', 'time-that', 'sjo', '1797', 'gotcha', 'notmadeofmoney', 'misfortune', '1687', 'mdw-san', 'ap', 'b91', 'santa', 'fe', 'ashley', '2007', '2/24-2/27', 'flightn', 'fend', 'education', 'tb', '1109', '👀', 'intuit', 'jhamilton2007', 'intuitlife', 'leanin', '//t.co/2qjbcv5jzq', 'sfo-yyj', 'fluctuate', 'back.ended', 'world-8', 'tmadcle', 'meh', 'secret', 'trbl', 'terriblecommunication', '😜', 'revue', 'omg😍😍', 'virgin✨😱✈️', '//t.co/8hh0c63tie', 'luvin', 'paypal', 'suprise', 'vanity', '😀', '//t.co/fa7nygn1ux', 'childrens', 'iata', 'relief', 'ua7985', 'coshared', 'ana', '3913', 'indy', 'behaves', 'disgraceful', '2008', 'former', 'fo', 'keepingtraditionsalive', '🙌', 'statusmatchpaidoff', '//t.co/atfrkp6goy', '12h30am', 'overzealous', 'worstflight', 'diamond', 'bevy', 'alcohol', 'ann', 'excellentcustomerservice', '610-362-7498', '99', 'trivia', '//t.co/aucsykfuhd', 'wsjplus', 'qualify', 'rocks', '//t.co/q8vsffrd1u', 'customers', 'airways..', 'now.3', '//t.co/x7ilzqdwe2', 'inflexible', 'loner', 'regulation', '💕✈️💺', 'truebluepoints', 'jetbluemember', 'license', 'despise', 'thee', 'youve', 'f8neqm', 'barbara', 'pleasure', 'you😊', '//t.co/kmquly9g5e', 'attentiveness', 'conveyer', 'belt..i', 'yard', 'arriving', 'durango', 'farmington', 'slope', 'cesspool', 'germ', 'c25', '959', 'ua3364', '1389', '1108', 'dhepburn', 'curb', '-going', 'downgraded', 'smiles1307', 'kelly', 'fares', 'gopuregrenada', 'discovergrenada', '//t.co/mbcehcszx3', 'caribbejan', 'islandexpert', '//t.co/2zm4jkalzl', '//t.co/nj5ga1gds5', 'us558', 'crew.i', 'flyknoxville', 'noclothesnoinfo', 'infuriating', 'pillows', 'lie-flat', 'arms', '//t.co/rgywjbbhm4', 'coin', '2413', 'a3zz0f', 'waitlisted', '134', 'early-bird', 'flythroughs', '206', 'canthurtasking', 'cakendeath', 'behave', '802', \"'out\", 'sync', 'army', 'encourage', 'lmfaooo', '//t.co/1g9rnmyuqe', 'it..', 'renew', '1672.', '//t.co/5sdlyn9mss', 'schoolgirl', 'no-enertainment-on-6-hour-flights', '//t.co/hi76boavxy', 'brownsville', 'shhhh', 'deal😉', 'prospective', 'graduate', 'gis2015', '//t.co/oardjjgrrd', '211pilot', 'spill', 'radio', 'drift', '0xjared', 'ais', '//t.co/ajm3bhjvaa', 'foh', '680', 'yvonneokaka', 'forgotten', 'flights😔', 'fam', 'awe474', '20th', 'minneapolis', 'hour.never', '12-month', 'wkrb', '//t.co/xvbjczlmda', 'dub-jac', '29/9', 'jac-lax', '8/10', 'lax-dub', '13/10', '*g.', 'allowance', 'v-mail', 'snow/ice', 'tu', 'pm-we', 'leeway', 'waiting..can', 'greyed', 'lease', 'somewhat', 'empathetic', 'monika', 'mwa', 'lmk', 'gig', 'econ', 'kurt', 'ua1745', 'nit', '723', 'nh10', '5713', '3277', 'debbie', 'baldwin', 'rockstar', 'demo', 'vx919', 'las2sfo', 'bestcrew', 'sherocks', '//t.co/o5sifhp4rt', '654', '1202', 'anhour', 'sxm', 'ft', 'wa', '02/28/2015', '03/03/2015', '0736', '2:10pm', \"'call\", 'breakdown', 'surcharge', 'koa-lax', 'approximately', '2000', 'forsyth_factor', 'disorganize', 'surly', '2339', 'truu_tall', 'n366sw', '//t.co/wqzztiemx0', 'dy', 'ebola', '//t.co/hxvvis0vww', 'onlywaytofly', '4606', 'breath', 'scareair', 'rhonda', 'c.', 'gunna', '3367', 'untrained', '//t.co/r7ibqr4cyd', 'hi.i', 'ridiculous.or', 'refund.please', 'wht', 'ms', 'leinenkugels', 'craftbeer', 'norfolk…', '//t.co/tgsljjn6g0', 'platinummember', 'gorgeous', 'building', '3:15', 'mate', 'cb', 'toyingwithouremotions', 'flexible', \"dm'ing\", 'forum', 'tru', '//t.co/udpq0fliqo', 'memo', 'fusturated', 'tuck', 'miles/status', '//t.co/h6hn33jjje', 'washingtondc', 'edinburgh', 'cutoff', 'nt', 'unitedagainstunited', '//t.co/g00saozgtv', '//t.co/xpm98igqjn', 'whatajoke', 'unanticipated', 'mco-', 'msy-dca', 'swa=mistake', 'cite', 'rise', 'q4', 'financial', '//t.co/lfs4pefe6y', 'shawn', 'spectacular', '79', 'lhrdfw', 'susan', 'engage', 'adult', 'montana', 'attendants', 'embarrassing', '732', 'elwoodblues77', '//t.co/dajwzhlvyu', '2851', 'bleh', 'hamster', 'rabbit', 'unhappycustomer', 'gtsvyb', '.4', 'hirasmusbidragi', 'try..', '9:25', '883', 'multiplier', 'transatlantic', 'prioritize', 'help/info', '//t.co/khzrccyp2a', 'maarten', '8544484', 'bcn', 'svcs', 'investigate', 'cozy', 'helpmeplease', 'anyonethere', 'label', 'musical', 'aweful', 'unacceptable.i', 'skies', 'prank', 'mistakes', '👍👌', 'do..', '//t.co/7z3gqebfk2', 'help..', 'member..', 'profits', 'marxsterbcow', 'eh', 'shanese', 'bryant-melton', 'hard-working', 'grandmother', 'sport', 'walked', 'showed', 'panicked', 'flighted.still', '10voucherwhatajoke', '//t.co/sxvagbrtli', 'agent-what', '//t.co/pfsenjk5pw', 'needed', 'breast', 'pump', 'freeflight', 'help/complaint', 'applies', '1691', '//t.co/p7fsluxegw', 'no-show', 'scoot', 'waives', 'gives', 'jana', 'acosta', '//t.co/dkzl57upqi', 'shampoo', 'deodorant', 'flatiron', 'freakin', 'frontrunner', 'oscars2016', 'volleyball', '//t.co/tn5cxcld6m', 'screakjmf', '//t.co/xijyrpslzk', 'gay', 'ragandisney', '1558', '//t.co/fy6f9rzb9k', 'york', 'ops', 'rich', 'westagard', 'att', 'nancy', 'airport.held', '1027', 'customersfirst', 'exicted', 'ontarmac', '1881', 'donaldaroberts1', 'del', 'preferably', 'ewr-bru-del', 'absorber', 'fargo', 'fargoairport', 'amazings', 'southwestrally', 'bestemployees', 'swaculture', '//t.co/jtxyhqhfjj', 'virginmedia', 'seductive', '//t.co/ahlxhhkiyn', 'businessfirst', 'aa363', 'ord-lga', 'temper', 'jane', 'rncahill', 'wow..just', 'active', 'feels', 'passive', 'blackberry10', 'album', 'addition', 'gaga', 'carrie', 'columbian', '//t.co/pg96ys9asw', 'usdelay-ways', \"'paperwork\", 'letsgoalready', '10x9x17', '20x15.7x8.7', 'taller', 'packermama1', 'christinebpc', '738', 'adopting', 'ethiopia', \"c'mon\", '11am', 'empathize', 'capitalize', 'lowercase', 'f*cking', 'comcast', '2hrs35minonhold', 'patiently', 'nogood', 'dca-dsm', '1041', '3359', 'bmi', 'upload', 'on-demand', 'listing', 'waitinginphilly', 'flight838', 'incompetency', '✈', 'authority', '620', 'aa2334', 'sleet', 'oc', '5534', '1265', '1138', 'alwayshappensthere', 'angrytraveler', 'brothaaaaaa', '800-335-2247', 'loved', 'hourdelay', 'multipledooropeningandclosing', 'dangerofgettingsnowedin', 'vx399', 'gso', '240', 'km', '737-800', 'interior', 'newplanesmell', '//t.co/djjjn9slht', 'relay', 'how/why', 'allowabl', 'dtv', '10yr', 'maybemange', 'alittlebetter', 'howisthatpossible', 'strandedattheairport', 'scl-', 'iha', '17.', '21l', '425pm', 'whatgives', 'dullessucks', 'me-right', '//t.co/enxv64rkbu', 'maiden', 'doc', 'deactivate', 'knowledge', '528', 'starving', 'pissed', 'prchase', 'retailer', '6-8', 'wks', 'l8', 'keepmy', '//t.co/xhsuupheze', '88.9', 'ketr', '//t.co/ssuvwwkyhh', 'ear', 'worm', 'necessary', 'unprofessionalism', '122', 'pbi-boston', 'delays/cancelled', '❄️', 'shulemstern', 'shannon', 'fl382', '//t.co/q16xvwg0l6', 'refrain', 'downtown', 'los', 'angeles', 'hollywood', 'rain', 'mountain', '//t.co/dw5nf0ibtr', 'ineligible', 'cool..', 'nowhere', 'watched', '//t.co/lyoocx5msh', 'livepersonplease', 'ua1550', 'chantilly', 'france', '//t.co/9v8tmusjvu', 'nocommunication', 'nocrew', '//t.co/hfjyn2vtvj', 'fairly', 'oldplanes', 'damageluggage', '362', 'grnd', 'enuf', '25/bag', 'mbr', 'nas-bwi', '8273993', '15min', '//t.co/p8xfhq4kps', 'ba1551', 'noooo', '😩rt', '//t.co/lsxji0ouvr', 'hollymais', 'fmjtyl', 'dest', 'blizzard', '20minutes', '800-433-7300', 'speaks', 'realistically', 'skywest', 'ua469', 'expectation', 'cruz', 'sentinel', '//t.co/qm9dqbai6g', 'auto-reflight', '52', '//t.co/giennyqn22', 'ho', 'booklet', 'marry', 'lamp', 'desperate', 'handshake', 'chocolate', 'problemsolvers', '//t.co/vxn2j36m7v', '1142', '4275', '//t.co/rxmjwoo7qi', '😍👌', 'adore', 'kathryn', 'sotelo', 'historical', 'bio', 'heading', 'develop', 'ding', 'chrome/firefox', 'swell', '//t.co/pxdel1nq3l', '460', 'woof', '//t.co/iidrblnoox', 'peanuts/nuts', 'contradictory', 'anaphylaxis', 'abassinet', 'visor', 'gin', 'tonic', 'reschedule/replane', 'youcandobetter', 'jokerunning', '1274', 'aa5411', '//t.co/i7vdi9wqsf', 'pre-purchase', 'veg', 'brazil', 'angrybird', \"where'smybag\", 'skiing', 'c-team', 'notevenjv', 'lowdown', 'dumps', '//t.co/dzg99jfiik', 'baejet', 'amirite', 'terrybrokebad', 'pgashow', 'taxiway', '//t.co/4ponj3jide', '//t.co/3dcwerz1kr', 'c-130', 'rubber', 'invest', 'buyback', 'houston-bogota', 'energy', 'home/family', '👏👍', '36min', 'flatter', 'repeating', '1019', '24hr', 'wervirgin', 'awe1701', 'err', 'flightlation-', '10:30a', '4:00a', 'lengthy', 'taxi-ing', '2plains', '2fails', '4333', 'bademployeeproblem', 'dotnetnate', 'exps', 'week..', '7-day', '4:05', 'erie', 'onelove', 'assistant', '5283', 'intercom', 'kiss', 'snacks.thank', '//t.co/nklozcntto', 'revers', 'swoop', 'restore', 'flight1797', 'nd', 'rem', 'pale', 'comparison', 'wage', 'lisapal', 'brizzyberg27', 'buenos', 'are', 'sre', 'fluid', 'ahoy', 'allyoucanjetpass', 'havana', 'supporter', 'jesus', 'portrayed', 'homosexual', 'judas', 'performs', 'boycott', 'expansion', 'gonnabealongnight', 'glow', 'sparkle', 'nokidhungry', 'rainy', 'merging', 'dividendmiles', 'yield', '_exact_', 'navigate', 'launder', 'gettingoffplane', 'notpghtimothy', 'dpt', '5:59pm', 'dpted', '8:30pm', '-checked', 'ua3645', '-shameful', '7:54pm', 'states', 'tickets', 'allan', 'kmm24999563v99860l0km', '8719519', 'frankly', 'defines', 'indian', 'aunty', 'aruna', '//t.co/aypyaduy6a', 'reunite', 'venetia', 'crook', 'steamboat', 'woaw', '2-8', 'franks105', 'hashtag', 'lucycat', 'delinquent', 'homeward', '68', 'dumas2ttg', 'tamara', 'can.', 'noxtralegroom', 'nocoatcloset', 'results', 'ua1534', 'providing', '3/19-3/23', 'justwrong', 'forced', '//t.co/hhoxqpsuba', '135', 'acpt', 'consumer', 'delighted', 'fri.', 'monetary', '1pm10:15', '..what', '6491', 'rollaboard', '715', '//t.co/5xvnnmltiw', 'resending', 'westpalmbeachbound', '🌞✈️👸', 'explains', '//t.co/wdyekvb1ze', '1657', 'eff', 'flyyow', 'barrel', '600mph', 'shittydeal', 'notimpressed', '525', 'travelers', 'urge', 'yoga', 'storage', 'container', 'green', '18gal', 'tote', '//t.co/mjtk2sfuhg', 'badbadbad', 'dfw-lax', 'complaint/questions', '5001', 'rumor', 'tv/movie', 'instal', 'iamtedking', '1152', 'c4', 'stoke', 'dunkin', 'hazard', 'thingsyoucantmakeup', 'switch2sbux', '304min', '//t.co/dnmsblzumr', 'itis', 'poorcustumerservice', 'wknd', 'england', '~50k', 'calendar', 'easter', 'regardless', 'hint', 'smallest', 'smoothest', 'alabama', 'b777-200er', 'malpensa', '7apr', '28mar', 'exit-row', 'shade', 'rj-145s', '//t.co/aoeaeszdlx', 'pleasehurryup', 'answerphone', 'reschedulemyflight', 'misinformation', 'credibility', 'observe', 'fwiw', 'malhoit', '//t.co/8dqzlrjo9p', '768', 'gong', 'enforcement', 'bins', 'came', 'essentially', 'classy', '3970', 'bna-rdu', 'backroads', 'f/as', 'you.3860', 'cincy.just', 'landed.you', 'account..', '1032', 'entered', 'cst', '2:26', 'ua4904', 'nxt', 'onboad', '110', 'volt', 'kathrynsotelo', '9c', '//t.co/9skrlyrz1o', 'v', '17-month-old', 'fold-up', 'crib', '8:41am', '8:57am', 'jetgreen', 'jetred', 'covered', 'dakota', '//t.co/wowxhpu5qv', '6170', 'idk', 'combination', 'plt', 'digg', 'wichita', 'falls', \"'customer\", 'bible', 'samsonite', 'broad', '//t.co/clob5qwmxr', 'clunky', 'unitedairlinessucks', '1562', '//t.co/hg7veqhghy', '👍👍👍', '//t.co/67k4n9eq6e', 'pound', '//t.co/dn1if2cgwe', 'mellani', 'superstar', '1642', '8:30am', 'unproductive', '3526665682', 'flightlation.you', 'therefore', 'un-delay', '//t.co/seulpvfn95', 'sum1', '4035', 'pitts', 'painless', 'effortless', 'tory', 'already-got', '*on', 'brink', 'bankruptcy', '//t.co/01ldxn3qqq', 'hemophilia', '.1000', 'idaho', 'paul', 'apathy', 'dtw-ase', 'oct', '25-oct', '11:20', '‘', '//t.co/89gkyuf1qh', 'consumermarketing', 'tailfinthursday', '//t.co/nc0es6e4lf', 'seg', 'falseadvertising', 'detroit', 'caution', 'rad', 'hemispheresmag', '8thtime5monthsold', '//t.co/kcqnwixucm', 'cop', 'tighter', 'weve', 'oxgen', 'tank', 'emeyerson', 'ggreenwald', 'walmart', 'accelerate', 'smisek', 'disloyal', 'workers', '//t.co/0cevy3p42b', 'huffpostbiz', '1pm', 'letsgohome', 'troubleshot', 'paranoid', 'hidden', 'hole', '1261', 'tus/dfw', 'w/cx', '5th', 'shocker', 'sliver', 'tahiti', 'considerable', 'confusion', 'joking', 'blowing', 'proportion', 'significantly', 'potable', '//t.co/beqotlnugc', '//t.co/jhau4k48yv', '2139', 'taiwan', '//t.co/nbz45jcd1r', 'us733', 'robert', 'weather/flight', 'attendant.can', 'this-green', 'acu', '//t.co/0jutcdrljl', 'battierccipuppy', '👏👏', 'wn3946', 'san-sfo', 'rita', 'bettween', '71a', '73', 'bait', 'sandiego', 'rotten', 'nocareforcustomers', 'bze', '//t.co/awgjkjiiac', 'citi', 'available..', 'tweeter', 'clarence', '😜😂', 'nickcunningham1', 'supposed', 'natca', 'atct', '//t.co/hpsieaokwh', '2601', '10/15', '1870', 'contactcej', 'pushing', '//t.co/ths10ldy2a', 'aa1401', '8:55pm', 'nochill', '//t.co/esd3xd5v1r', 'congratulations', '1-800-433-7300', 'instantly', 'avenue', '//t.co/a68d5fulmh', '//t.co/geg4nghmie', 'cory', 'greatcustomerservice✈☺', 'flutter', 'fullprice', 'needtocatchmynextflight', 'alreadyrebookedonce', 'nofood', 'nodrinks', 'nohelp', 'reveal', 'hunky-dory', 'eatgregeat', 'wow~thx', 'greg', 'teamnkh', 'dlewis2412', 'inflght', 'to.', 'tight', 'jabevan221', '//t.co/g3uy6w28qh', '😩😭💔', '😷', '4467', '152', '503', '2/26th', 're-staff', 'commence', '//t.co/8jcediky9u', 'curbside', 'teamusa', 'churn', '//t.co/wjyas2d94n', '2016', 'unemployment', '105', 'ass', 'inconsistent', 'brussels', 'more..', 'skilled', 'norway', 'shrug', 'rampers', 'door..only', 'fuel.', 'pullin', 'sh**', 'obj_3', '//t.co/av2rffhmcv', '//t.co/marcnocwzn', 'oregon', 'tennis', 'supposedly', 'hgeronemus', 'installation', '//t.co/sgckbopata', 'rip', 'fuckoff', 'elp', 'emb145', 'elpaso', '//t.co/9meozbo4xl', 'luggage.cancelled', 'flydelta', 'need2know', 'today.rather', 'maf', '//t.co/gvgkhbx1rb', '2293', 'measurement', 'tia', 'tinman2ironman', 'meggersrocks', 'life.stop', 'tiday', '//t.co/kjkuvj6cmo', 'blackmailed', '£130', 'nullified', '3078', 'risk', 'steep', \"'crashing\", 'irony', 'barking', 'cocktail', 'it-problems', 'mistaken', 'scarf', 'ua978', '57', 'leopolds_ic', 'phillip', 'heller', 'ifc', 'delicious', '3729', 'weatherless', 'houston-bush', 'british_airways', 'ua63', 'madrid', 'mass', 'fro', 'maryjo', '261633561838', 'days', 'pastmypatienceexpirationdate', 'bride', 'together..', \"'noooo\", '😘', '2070', 'glassdoor', 'places', 'notsurprising', 'luvthem', '7min', '//t.co/oktukjy92o', 'elizabeth', 'gluten', 'bgr1061', 'aa3688', 'sunrise', 'ual212', 'lax-jfk', 'g8', 'c17', 'exercise', 'miserably', 'pool', 'contribution-to-pool', 'spam', 'suntoshi', 'range', '_defcon_', 'time-rest', 'leigh_emery', 'jamie', 'mckinnie', 'own', 'exhausted', '//t.co/larkc8vc4s', '//t.co/tpzhjx7hbt', '919-675-0985', 'lagos', 'nigeria', 'ou', '//t.co/2npxb6obmr', 'devotedyyours', '3.', 'trend', '581', 'grind', 'buffaloairport', 'victim', '691', '//t.co/voxcghciji', 'fudgin', 'justwantmybed', 'nature', 'preciation', '✈️tampa', '🔵🔵🔵', '1230am', '230am', '4125', 'comeon', '2202', 'id-', '9º', 'anticipation', 'blow', 'overchging', 'bg', 'herd', 'cattle2slaughter', '//t.co/izfofgjzui', 'michelle', 't1', '//t.co/7ujt8vtcpa', 'oldseatnocushion', 'nohelponboard', 'sexual', 'assult', 'xx', 'expedia-there', 'bwi_airport', '//t.co/cvba4olcbl', '//t.co/wta5px70a5', 'aftr', 'bng', 'hstg', 'refsd', 'fnd', 'cnceld', '360', 'amarillo', 'cxld/protection', '290', '//t.co/cyprhe5gok', 'perfect..', 'fete', '1600', 'pre-boards', 'trip*', 'ua1510', 'pressure', 'cooker', 'unpleased', 'hahahaha', 'inefficiency', '70min', 'viraltech', 'creates', 'institutional', 'predictive', 'analytics', 'koa-lax-phl-ord', '1-way', 'savr', 'awrd', 'chnge', 'koa-lax-phx-ord', '*does', 'memorial', '😬', 'bicycle', '50lbs', 'criterion', '75/each', 'faq', 'modelodenegocio', 'innovacion', 'businessmodel', '1098', '7:16', 'blank', 'lick', 'tab', '//t.co/pivxean3jy', 'thnkx', 'bt', 'sux', 'zakkohane', 'happytohelp', 'rldelahunty', 'oaaret', 'williams', 'edit', 'observation', 'newburgh', 'dallaslovefield-', '//t.co/6rlz0ebk2x', 'usatoday', 'cri', '619-', 'lug', 'severally', 'chairmanlove', 'learning', 'sxu', '//t.co/xaspqdsqhe', 'grandcayman', '//t.co/gx7qbtckbr', 'rajuchinthala', 'earphone', 'cdn', 'town', 'customerappreciation', 'gaincustomers', 'keepem2', 'cflanagian', 'ms.', 'winston', 'cpus', 'jfk-lax', 'detective', 'quintana', 'roo', 'adopt', 'inept', 'tonight-', '5:26', 'vrm', 'tip', 'workaround', 'customer-friendly', 'accessible', 'owen', '//t.co/hrvuktpvn1', '//t.co/my3dnvbzaz', 'envoy', 'honour', 'ey', 'children', 'honolulu', 'appalling', 'waspaid', 'outtage', 'eagle', 'dca-pit', '//t.co/jaskyplwt5', 'mall', '//t.co/n7exdbcrhg', 'trace', 'giannilee', 'vxsafetydance', 'evolve', 'knee', '//t.co/fornpf69ky', 'overload', '**five**', '//t.co/vpqem31xuq', '78', 'ru', '1.5lb', 'w/8', '*g', 'a3', 'hoagy10', 'circuit', 'breaker', 'name..', 'thanksjetblue', 'recvd', '.this', 'sucks.i', '40k', '125', 'tckt', 'alt', 'snapchat', 'imessage', 'myr-clt-ord', 'problematic', '1089', '_austrian', 'experience//', 'stone', 'giant', 'saying', '//t.co/uczzp9yphk', 's/a', 'ua1118', 'cleanliness', 'cyncyn661', '763s', 'dfw/ord', '2yr', '😘🙌', 'ua3710', 'meetings/interviews', 'writes', '3/27-4/2', '2/11', '//t.co/hovuaisg16', '😂😂😂😂', 'alleviate', 'eqp', 'ment', 'quoting', 'effective', 'wontflyagainwithyou', 'subscription', '1:45', '1:40pm', 'smoothie', 'pop-', 'responsive', 'mqxc64', 'mpwnc2', 'days..', 'southwestfail', 'iwas', '12am.sound', 'nix', 'voucher/miles', 'ethic', 'sir', 'day/', 'voicemail', 'manuel', 'advis', '-winter', 'weather-', 'connectns', 'hotl', 'yow', 'yxu', '1401', '25a', '//t.co/n2fvelcygz', 'mia-ewr', '384', '😄😄😄', 'ewr-iad', '3589', '😡😡😡', 'ua6076', 'taylorlumsden', 'responsiveness', 'confidence', '16hr', '55mins', '1665', 'difficulties-what', 'robcnyc', '//t.co/gbiw9ugfnm', '3/5', '4helped', 'pamgrout', 'loft', '//t.co/hy0vrfhjht', 'horriblecustomerservice', 'flyeia', 'spam/junk', 'case—nothing', 'den-phx', 'lax/sna', 'grt', 'right-', '38', 'opaque', '//t.co/cqmm7nue9m', 'livewelltraveled', 'sytycd', '⭐️', 'sac', '3866', '25mins', '30mins', \"'perks\", '5lbs', 'hospice', '4532', 'embassy', 'suites', 'herndon', '4007', 'av-8b', 'xw', 'fluster', 'emaleesugano', 'courier', 'appears', 'flaw', 'dissapointment', 'amiltx3', 'forgiven', '^ll', '03.03', 'cmh-iad', 'bag..could', 'wack', 'bueno', 'jezziegoldz', '//t.co/haqc7gdg7c', 'hangup', 'inconvience', '5223', 'reclaim', 'more👺', '+the', 'height', 'guinea', '//t.co/27aitzl6nd', 'flight4592', 'extraordinary', 'goingforgreat', 'eve-did', '8:10', 'dm-still', 'waiting.so', '2/emailed', \"'flight\", '//t.co/mjkpgvxmpc', 'iwoulddoanythingforlove', '//t.co/yx1dqjn8nl', \"'y\", 'nyc-jfk', 'jeanette', 'miserablemorning', '1800-flowers', 'portal', '//t.co/huclxluv5h', '//t.co/o4zr27qpcr', 'cargo', 'arrogant', 'buy/transfer', 'miles.the', '//t.co/zzps5ywve2', 'loganex', '343', '😒👺', '2053', 'fr1/5/2015', 'sr', '256746438028', 'service/care', 'away.now', 'mintyfresh', 'selfies', 'dca-ewr', '4372', '//t.co/3nsusfsbpv', 'newark-london', 'panynj', 'boeingairplanes', 'froschtravel', '//t.co/rdj1mwflg1', 'ebhset', 'fistfight', '4040', 'espn_coachmack', 'divide', '//t.co/rkwugmanm9', 'pura', 'vida', '//t.co/l0i8fnz3ku', 'aaron', 'accomplish', 'chose', 'imo', 'work..', 'dissatisfaction', 'pre-booked', 'hoping/praying', 'again😞', '40-50', '11:50pm', 'gregm528', 'noaccountability', 't5sparrow', 'megentripodi', 'jordnnicole7', 'deceive', 'reprehensible', 'maneuver', 'lizaapproved', 'unitedworstever', 'trappedhouston', 'faulty', 'coming', 'worstairlineinamerica', '757-300', 'lax.when', 'screens', 'unitedfirst', '899', 'subsequently', '11:40am', '10:01pm', '2/22/14', 're-interview', 'sole', '6166', 'blatantly', 'stable', '3113', 'expert', '//t.co/mplio6dygn', '.other', 'louder', '//t.co/n7psuejdc8', 'pdw', 'ilovejetblue', '//t.co/cyoonzftdc', 'custy', 'pvr', 'sap-', '1504', '1102', 'lmfao', 'highlight', 'bumper', 'remembers', 'excuse.geez', 'coffeeneeded', 'ago…still', 'mean…it', 'awfulness', '5-8pm', 'discrimination', '12:30', 'competitively', '179', '324', 'identical', 'warmer', '6373', 'transparency', 'tiredofwaiting', 'jetblue👌☺️', 'that..', 'nosecuritylines', '4016', '529557', 'gate..', 'uppp', 'imtired', 'wannagohome', 'could/wanted', '_emmaclifford', 'w/delays', '1106', 'spruce', 'moose', 'canada', 'ua125', 'americant', 'fwd', '//t.co/lxwbsfxfj0', '//t.co/901hlngbtx', 'answerthis', '757', '//t.co/1tfh2v0a7z', 'roadtrip', '😆', 'cue', '1808', '2:45', 'connecticut❄️', 'weblink', 'notgoodenough', '//t.co/wsgyckciio', 'unknowledgeable', 'fiancé', 'frontier', '//t.co/uaywrr45as', 'pittsburg', 'americanone', '4016688561', 'mga', '👉🚪rt', '//t.co/dsdebodmel', 'onlyinamerica', 'customerservices', 'example-', '4/20', 'role-model', 'x____x', '//t.co/y39yzdpbvu', 'equally', 'seemless', 'pleeeeease', '//t.co/sl6bdrxfn8', 'pride', 'justgetmehome', 's/o', 'clutch', '🙌🙌', '5:44pm', 'skycap', 'accuse', 'fruit', 'mistreatment', 'austic', 'mllovelace', '//t.co/u6duw27mde', '//t.co/pkfi9bttzf', 'aircargo', '//t.co/bbj6kmtyul', 'serenitynow', 'walkway', 'mood', 'point🙌', 'reclining', 'kickin', 'feet💤', '3659', 'yul-ord', 'flights..', 'chef', 'miguel', 'allende', '//t.co/7t1rdrcre6', '1776', 'ua6465', 'ccndjp/', 'segway', 'infographic', 'mor', 'parhetic', 'subscribe', 'royally', 'samantha', 'japan', 'sukhdeep', '😋i', '//t.co/w1aakjumxa', 'astounds', '11:21p', 'robinreda', 'banana', 'nakedmeetings', 'toll', 'gs', 'cp', '80th', 'theme', '0530', 'screaming', 'bigger', '3xweekly', 'embraersa', '19jun-6sep', 'muzak', '472', '//t.co/dqjl8vz2h2', 'patiencerunningout', '//t.co/lug4mfvwsa', 'yearly', 'ubetter', 'smth', '45minutes', 'recheck', 'dig', 'heel', 'novel', 'lbb', 'tripofalifetime', 'bos-sf', 'flexibility/compassion', 'gla-mco', 'firefighter', '3618', 'nasdaq', 'reaches', 'streetwise', '//t.co/c7tpdkqulm', 'nationwide', 'spotify', 'guiltypleasures', 'stickingtodelta', '10-hour', '4146', 'phi', 'staffed', 'freecomedyshow', 'newlifetimecustomer', 'guacamole', '15-hr', 'w/broken', 'dreamliner', 'mental', 'donthavehighhopes', 'chilly', '😮', 'dialup', 'theend', 'goodday', 'westjet', 'luggage-', '//t.co/xijifymvqp', 'ua3466', 'trickle', '//t.co/4kbtzvju3b', 'tfgreenairport', '3880', 'customs', 'ericbradleypt', '//t.co/j6hb4jdver', 'briansumers', 'pilyoc', 'thefutureisweird', 'responsibility..too', 'simultaneously', 'wishmyflightwaslonger', 'blah', '.you', 'shoulda', 'burningman', '1861', '8:20pm', '10:35', '9:20', 'lruns4cupcakes', 'clarkhoward', 'issues', '3750', '5000', '//t.co/hdoxim6nz2', '2324', '😈', 'celebrates', '15-year', '//t.co/u5hxri6crx', 'prefference', 'nottrue', '//t.co/3oq1t4ohjl', '//t.co/46n9kdcsxu', 'den-ewr', 'birder', \"6'2\", 'dullestostatecollege', 'runningonthreehoursofsleep', 'delayedovernight', '6:05pm', 'ease', '//t.co/duhbj41jhx', 'hold-', 'phone-', '1914', 'buggy', '2017', '486', 'stillnobags', '2417', 'mario', 'bros', 'gameboy', 'janet', 'datingrev', 'lag', '555phltoslc', 'grant', 'melt', '//t.co/jjdosfyibm', 'weds', 'that..lol', 'chkd', 'lessen', 'geeeeezzzzz', 'skillful', 'flightness', 'snafu', '//t.co/ypvpvdltys', '9:30', '11:47', 'aa1344', '2.23', '623/544', '2.24', 'adding', 'alan_bledsoe', 'alan.', 'lve', 'w/open', '👠👠👠', 'colo.', '129', 'utmost', 'thehipmunk', 'site—it', 'correctness', 'pita', 'dxb', '//t.co/ync2zut4zz', 'preggo', 'hormone', 'sa_craig', 'abandonment', '6-year-old', '33036', 'ase24766m', 'renhotels', 'marriottrewards', 'strandedinnashville', 'getmorehands', '386', '2330', 'sleepless', 'quantas', 'auckland', 'unaware', 'vip', '10:50am', 'tmm', 'cache', 'usaireays', '//t.co/vu5lbzxtrx', '2301', '7a', 'loosing', 'barclays', 'compensates', '//t.co/96apr35qan', 'cbarrows', 'non-stop', 'lucia', 'prolong', 'prds', 'usairwayssuck', 'lax-nyc', '190', 'wow..', 'dulles.we', 'on.multiple', 'goddamn', 'sponsorship', '//t.co/q6xedzvhh9', 'silicon', 'valley', 'terminology', 'brings', 'verbiage', 'loudly', 'throug', 'resulting', 'ua381', 'overselling', 'flights=', 'eservice', 'united.com', 'bg0kwm', 'narayanan', 'shame..', '24hours', 'flight919', 'saveus', '//t.co/pkaxunyfn2', '505', 'bradley', '=unamerican', 'plane-wide', 'interrogate', 'poorform', 'snowforce', '11:35', '1856', '849', 'subsequent', 'guidance', 'execplat', 'lost..', 'row-', 'curb-side', 'self-check', 'ended', 'inquiry', 'universally', 'time..i', '1050', 'momma', '8.', 'terrifyingly', 'jwa', '😐', '//t.co/qavvlaxlkl', '😡😡😡😡😤😤😤', 'my8yb4', 'clarita', 'jaramillo', 'mejia', 'pereira', 'colombia', 'cartago', '3hours', 'twenty', 'minutes', '__rwg__', 'inconveniently', 'out/in', '//t.co/1esmmnizek', '689', 'freezing', 'sexy', 'tattoo', '//t.co/ox4w6ktsgi', 'ref.8441639', 'twist', 'plot', 'unsecured', 'bernhardtjh', '445', 'phf', '//t.co/zqutus7epw', 'chasefoster', 'celebs', 'youth', '*not*', 'commit', 'applause', 'pedophile', 'sympathize', '4-minute', '//t.co/obqiro1buj', 'ellahenderson', 'lft5', 'get2', 'competent', 'hdsportsguy', '2/29', '150000', 'i❤usair', 'no2jetblue', 'danahajek', 'potentially', 'diffuse', 'kconti44', 'opposite', 'berlin', 'lan', 'milageplus', 'allowing', 'singapore', '1572', 'internjohnradio', 'mrerickv', 'beatriz', 'verbal', 'aa2402', 'gross.the', 'jackpot', '//t.co/zo2iceg4li', 'huston', 'nice/dismissive', 'hours-', 'non-service', '🙌✈️', 'dwell', 'encouragement', 'w/that', '781', '879', '4505', 'rudest', 'full-year', 'net', 'atwonline', '//t.co/tvb5zbzvhg', 'havin', 'injured', 'thatthis', 'amateurish', 'bouncer', 'sub-par', \"'mile\", 'mastercard', '2962', 'cll', '0600', 'importantflight', 'descent', 'ua1150', 'geraghty', '//t.co/meoalcipdd', 'darrel', '//t.co/hbsj2sf17h', '👏👏👏', 'bethonors', 'pancho_joe', 'mixtape', 'canister', 'powder', 'formula', 'divider', 'weepysweetmonty', 'compartment', 'ua4636', 'ua82', 'delhi', '😳', '1427', 'moved', '333', '37,000ft', 'sea✈️bos', 'colo', 'unfamiliar', 'outcome', 'toiletry', '//t.co/wny9tzsr8n', '2298', 'suffer', 'extent', '4hrs', 'fvf9yw', 'swrr', '298033455', 'medicine', 'orphanage', '//t.co/pgoeuxnspi', '//t.co/epqqonho2h', 'kristy', 'letting', 'furnish', 'b40', 'marshal', 'attdt', 'decides', '2066', 'relax', '//t.co/j4cj0lrf2d', '//t.co/dtlguq1kak', '//t.co/jbdkxd6efz', 'overreact', 'swag', 'dispatcher', 'fasten', '😎', '+restr', '//t.co/rhkamx9vf5', '//t.co/pyalebgkjt', 'oui', 'awesomeee', '694', '2gether', 'budget', 'birthdate', '11/13/2012', 'thisiscoach', '🆖', 'sees', 'decline', '//t.co/lzfgutxiyn', 'needcoffee', 'customerservicewin', 'itravelalot', '//t.co/z5znfwkkwp', '//t.co/vahdekvoke', 'ifthe80sneverstopped', 'chart-topping', 'cot', 'preparation', 'depending', 'loooooong', 'lostandforgotten', 'wiggle', 'velcro', 'csm', 'daryl', '1/4', 'hosp.3', 'sys', 'hlp', '❄️❄️', 'whether', 'replied', 'readded', 'asha', 'lovetotravel', 'chaching', 'admiralsclub', 'brrr', 'care/respond', 'ada', 'worrisome', 'w/aa', 'conv', 'nicole', 'quito', 'professional/nice', '4827', 'elm', 'correct—i', '1553', '//t.co/lv9hwqdk9a', '✌️', '//t.co/knuvuovhub', 'jameswester', 'james', 'rollercoaster', 'noob', 'sendambien', 'andchexmix', 'at-gate', '.may❤❤❤😍🌏', 'portsmouth', 'hotter', 'puerto', 'earring', '3252', 'manchester-bwi', '1565', 'adv', 'empl', 'greatjob', 'thecandacesmith', 'candace', 'ride.', 'retroactively', 'flights/miles/points', 'waitingforbags', 'tomorro', 'bozo', 'absoulutely', 'lowest', '//t.co/ugfckermrw', '//t.co/o3srl1hfho', 'patronize', 'americanair..still', 'stlouis', '//t.co/rcdh183q1j', 'untrue', 'allready', 'ultimately', 'jeanine', '669', 'countless', 'dirtiest', 'scumbag', 'aal65', 'declare', 'squawking', '7700', 'pleasecomeback', '//t.co/glxfwp6nqh', 'canadaair', '//t.co/9eueyxawcv', '-nyc', 'c68ld9', 'nomorevirgin', 'glance', 'starboard', 'amenity', 'aa1679', 'successful', 'ua1470', 'stair', 'april/may', 'flow', '😏', 'dublinairport', 'loveloughneagh', '20,000', '//t.co/frd0cay6da', 'synonymous', 'european', 'fabrice', 't-minus', 'freeneversucks', '😃👍', '3.10.0', 'dustyob', 'mx', 'emerald', 'emilylyonss', 'av_duffy', 'qqbmug', 'reticketed', '6377', 'profitbeforepeople', '2020', '//t.co/brcsjbxg2s', 'moneynotspentonunited', 'crummyservice', 'whydidntiflysouthwest', 'goodluckamericanair', 'fsz4yo', 'hardtodo', 'aa1119', 'aa157', 'killing', 'hungry', 'desirable', 'undies', '4/9/14', 'dsm', 'dm-', 'woulda', '//t.co/8o3scr5efw', 'childish', '1708', 'phx-', 'igotmonte', 'hopin', 'truck', '657', 'candice', 'inpolite', '132', 'afraid', 'cinedrones', 'aa1691', 'patheticcx', 'dkyde6', '4583', '3636', '4404', 'bullying', 'workforce', 'youragentshavenoclue', '//t.co/a37n3ohokl', '//t.co/mthm9waobu', 'stpatricksfoundation', 'rotary', 'wrestle', 'united\\u200b', '23rd', 'ua5631', 'burbank', 'tsaprecheck', 'dependent', 'phone/inperson', '70+', 'vocab', 'stressed', 'delyd', 'las-den', 'yelling', 'discovered', '3:30pm', 'americanairlnes', '0316', 'depression', '25.00', '1140', 'plate', 'abounds', 'noted', 'lin', 'flyana_official', 'pleasantly', 'transpacific', 'unbelievably', 'prolly', 'tryna', 'fulfill', 'passngr', 'physically', 'capable', '~30', 'bashing', 'aus-cun', '//t.co/4urzvbpjko', 'way-i', 'youd', 'given', 'w/reservations', 'corpgreed', 'nevertakeno', '//t.co/6mbvjflpbm', '//t.co/u69fafqhsf', 'unclear', 'call-back', '1715', 'cinci', 'tic', '50,000', 'ua4727', 'turrible', '918', 'immediate', 'suspect', 'long-term', 'issue/not', 'ski/bootbag', 'ozs', 'dai_president', 'markets', 'bureau', '//t.co/apy3zlsquu', 'unsettle', '381', 'ua1731', '//t.co/cehroeurc5', 'fred', 'flintstone', '//t.co/gkgkzlawpr', 'precludes', 'unsat', 'cnx', '//t.co/2boh2mh3cb', '1200', 'insta', 'finale', '👏', 'irreplaceable', 'milestone', 'repaid', 'sba', '2:20', '15+', '4914', 'gains', 'skyw', '//t.co/p2hum7lxur', 'fuk', 'salad', 'overpriced', 'fuking', 'wjere', 'recharge', '//t.co/lft7qd23sy', 'agents…no', 'sentimental', 'heartbroken', 'masters', 'smf', '19b', '1943', '//t.co/haj5lkqjw4', 'irina', 'flip-side', 'eatup', 'cafe', 'argh', 'jetways', 'plane.', 'pisspoor', 'reinforcement', '//t.co/pxexilsjbs', '.great', 'mke..', 'worstservice', '-not', 'bttr', '//t.co/7xmav13g2w', '//t.co/ela7tntcir', 'gone-now', 'charleston-very', 'pricy', 'shows', '//t.co/g9b6e0a2sz', 'barcodes', 'swipe', 'improvetheprocess', 'bucketobolts', 'time/money', 'hours..', 'bandwidth', 'ping', 'il', 'network', 'operations', 'centerl', '//t.co/lio6ocpteq', 'sing', 'lovesouthwestair', '1016', '6:55am', 'laguardia/dal', 'sourhwest', '..off', '//t.co/aygaoeb6uu', 'w/this', '1/27', '^mn', '2-1/2', '//t.co/kigfkvxxdq', '1046', '-today', 'logistically', '//t.co/44zhmfdiw6', 'unitedwithivy', 'mp', 'humphrey', '//t.co/mavigetbbw', '160', 'itover', 'peterpiatetsky', 'ummmm', 'continental/united', 'exclusively', 'fl1289sfo/ewr', 'getmeoffrhisfuckinplane', 'leather', 'ay', 'eliz', '673', 'crosswind', 'clarkey_19', 'biggie', '//t.co/i9s86kihge', '2012', 'badges', 'cnnbrk', 'emrey35', 'blast', 'obnoxious', '//t.co/ryxbplgmnk', 'church-mouse', 'grown', 'pasta', 'taste', 'consumption', 'tempt', 'sodone', '//t.co/f2lfulcbq7', '//t.co/wbhbljjks7', 'developer', 'negligence', 'westchester', 'c12', 'solid', 'reebooked', 'lv-dfw', '810', '12.50pm', 'needlessly', 'vmsg', '9148445695', 'sche', 'genious', 'laissez', 'faire', 'bz', 'sld', 'programmer', 'ua1157', '1348', 'full-fare', 'gsa', 'missing.stollen', 'ua1568', 'ua1543', 'uplink', 'reveals', 'travelpulse', '//t.co/fttfyfmvco', 'barclay', 'answerthephone', 'oh-ing', 'entitle', 'jackass', '1613/2440', 'usairway', 'campaign', '//t.co/yh1kzkyzrr', '//t.co/wmo6tkqhxp', 'usatodaytravel', 'anna', 'medal', '0.21mbps', '//t.co/sjveelween', 'cookjaycook123', 'hopeless', 'shotwest', 'pn', '320008a', 'deflator', 'specify', 'chapter', 'b787', 'amm', '//t.co/oilncfweyg', 'subtlety', 'cream', 'adam_karren', 'zj76', 'snowboard', 'prem.gold', 'avp', 'tgif', '//t.co/wxowzhpgfl', 'eb', 'a30', 'rethinking', 'brisk', 'vx363', '//t.co/rmznivgmg6', 'phl-ord', 'nrt', 'blegh', '//t.co/yqhk8ljabn', 'familiar', 'unhappytraveler', '//t.co/n8winfu6c5', 'for40', 'for4', 'available.your', 'ux', 'awe', 'getmeoffthisplane', 'ineedabeer', 'whatstatus', 'kdepetro313', '.what', '//t.co/n3lrfo4uay', 'flt1727', '//t.co/w3xs6tvpzg', '//t.co/lkfh9hyhw8', 'remorse', '//t.co/cfi1e3kxa9', '2275', 'pp', 'shin', 'sprinting', 'changes=', 'travelfail', 'refused', 'brendanpshannon', 'brendan', '^rs', '1580', 'thrown', 'see.very', 'silly', 'pesky', 'sacintlairport', 'bestinclass', '30000ft', 'takemehome', 'active_aly', 'iberia', 'ua5282', 'eri', 'unitedairlinessux', '.thnx', \"'improvement\", 'attain', '//t.co/5cdx2roae6', 'tmw', 'probls', 'w/comm', 'rtrn', '28', 'documentation', 'shaky', 'while..', '-huge', '1623', 'sjo-iad', 'handed', 'keeping', 'tradition', 'counterpart', '4-50', 'overfill', 'marcus', 'personable', 'aa375', '02/23', 'cncled', 'slice', 'bread', 'bafore', 'destin-', 'walton', '//t.co/2ikbp8gxwi', 'promised', 'svllindia', 'india', 'mumbai', 'surat', 'navimumbai', '27…', '580815', '4/24/15', '11:31', '12:08', '❄️❄️❄️', 'absurdly', '//t.co/2z3jv73ilw', 'vía', 'suntimes', 'photography', 'cameragear', 'saveface', 'showup', 'abigailedge', '//t.co/mvyoizrpde', 'service.open', '154', 'underserved', 'ideserveareward', '//t.co/l7hsnlgie2', 'grandbabies', '6:18', '6:07', '0167560070877', 'fsqthg', 'marvinatorsb', 'thnk', 'w/other', 'us-', 'snowfall', '//t.co/aprzspxige', 'karabuxthomps', 'maui', 'seattlebound', 'hour.flight', '//t.co/sdm2wvr3zr', '//t.co/erzht75kqz', 'air..', 'agent-booked', 'pregnantwithtwins', 'apathetic', 'towed', 'corrupt', 'reliable/friendly', 'rep/exper', 'surliness', 'coworkers', 'foxnews', 'cnbc', 'bloombergradio', '//t.co/hpgxyzrw8o', 'inedible', 'shrimp', '//t.co/sotl8xqsrp', '464', '3574', 'globe', 'warmth', 'sand', 'trees..', 'tarmac..', 'notwheelsup', '//t.co/uygew2nosr', 'boooo', '🍅🍅🍅🍅', '//t.co/0wbjawx7xd', '759', 'retailbagholder', 'hahaha', 'nbsnewsr', 'aa65', 'zurich-new', 'flgt', 'purchase.error.invalid_loyalty_member_account_status', 'orange', '//t.co/na5g5eakpa', '683', '//t.co/vo61lme5ja', '//t.co/atwyifh6zy', 'eternally', '͡°', '͜ʖ', 'flt5127..keeping', 'greatcustomerservice', 'cty', '//t.co/ji7xks2jkk', 'inhumane', 'lostrevenue', 'angryandsober', 'bachelorpartymishap', '02/14', 'bulb', '45.5', 'artisanal', 'thickens', 'mysteriously', '//t.co/sjqemdtqma', '😢😢', 'peaches275', '4285', 'promising', 'activate', 'surf', 'uctraveladvisor', 'mltple', '106', '104', 'house👋', 'delayed-no', '559', 'ord-seriously', 'valentine', \"9'8\", 'surfboard', 'bqn', 'cable', 'portable', '//t.co/qw1til96ya', 'cabine', 'sao', 'ex-boyfriend', 'benjaminokeefe', '❄️⛄️', 'werenotincalianymore', '//t.co/v8sb0rbicx', 'w/25', '3825', 'grandcanyon', '//t.co/d7pqouatdf', '//t.co/ac6zwmuoon', 'flysaa', 'baggage…', 'guru', 'adolfo', 'garcia', 'income', '5594', '3937', '3xdaily', 'evansville', '4jun', 'transferable', 'luxurious', '//t.co/lednocdqee', 'ua1665', '914-329-0185', 'meerikangas', 'temporary', 'geg', 'hughes', 'automobile', 'ch_mom', 'crewmember', 'wait.', 'us2118', 'misconnected', '157', 'heartlanta', '//t.co/nrpwmgyv3e', 'tos', 'nascar', '1at', '1sttimeflyer', 'groan', '11:45am', 'delayed-thats', 'illiterate', '//t.co/t4gcks2bh5', 'horribleattitudes', '9hr', 'tyr', '3200', 'mike', 'reek', 'goingforgreatnessfail', 'curt', 'eternal', 'mergerdisaster', 'lga-', 'deal-', 'according', 'uneventful', 'panic', 'neurosurgery', 'icu', 'promotions/codes', 'nashville-denver', 'tlh', 'accompany', 'brain', 'w/customer', 'droped', 'line..', 'needs', 'tryagain', 'stiiiil', 'scheduled', 'p.m', '10:45pm', 'jimtrotter_nfl', 'comps', 'ftlauderdalesun', 'orlandosentinel', '//t.co/1ateafnc6r', 'rack', 'latte', 'flyjetblue', 'theyareallbetter', 'acces', '1,5', 'aa1224', 'beatsmusic', 'respectful', '5hourwait', '3hrdelay', 'wait.about', '1per/hr', 'bye', 'prof_solutions', '//t.co/clvlhfguzw', '2302', 'wd', 'sens', 'bean', 'ud', 'retrn', 'pickng', 'phone.only', 'amen', '1217', '317', '955', '//t.co/uhumaskldv', '4469', '6a', '1620', '//t.co/x4rsvagijn', 'followed', '\\u200b', 'sil', \"'thanks\", 'selection', 'botch', 'absurdity', 'costs', 'restrictions', 'hotlanta', '//t.co/x5zqssjtrb', '2495/1170', '1229', 'w/connection', '1120am', '**were', 'difficulties**', 'caexhibitions', 'incompetence/understaffing', 'supvsr', '17a', 'gnight', '6.5hr', '1172', '3:22', 'rechecked', 'arminrosen', 'f/a', 'dehydrate', 'fuyukaidesuyo', 'shes', 'hugeeeee', '209', '☺👍👍', '//t.co/3lpvfhky2f', '4hr', 'getyourlife', 'flights/airports', 'bwi-ewr-mco', 'antigua', 'mwangbickler', 'michael', '-got', '//t.co/hez4jk4zsk', '~huh', 'thatisall', '702', 'tryn', 'comping', '//t.co/o1u96xc3bo', 'lon', 'prescreen', 'mild', 'poison', 'ua5', 'lhr-iah', 'nathankillam', 'condolence', 'lightyears', 'efficiency', 'frighten', 'snowbound', '5187', 'choppy', 'gusty', 'w/a', 'w/the', 'windchill', '-8', '//t.co/1sywlmtzek', 'wondering', 'disguise', '//t.co/uh6uwuosc0', '2955', 'shatter', '//t.co/oaflfr7wxb', '3403', '8hr', 'murphyjulie', '//t.co/nwf2fka8fy', 'fixyourstuff', 'priv', 'air-miles', 'theairhelper', 'blushing', 'ezemanalyst', 'impersonal', 'impatient', ':15', 'aa3390', '😒👎', '1:23', '//t.co/dphqrgkdoa', 'redo', 'overtime', 'phew', 'wheeze', '//t.co/zpz78poeon', 'sloooooow', 'grandparent', 'ella', '//t.co/nbzkhizf3v', 'uncertainty', 'undue', \"req'ing\", 'flexibility', '//t.co/rinzysk6ki', 'body', 'down', 'starting', 'meat', 'punishedforflying', '5:00', '5hs', '20yr', 'nofunatall', 'probability', '1330', 'crâpe', 'ua1207', 'biscuit', '//t.co/gz9gqdt7jj', 'fsd', '2.19-2.21', 'twice.got', 'uninformed', 'unapologetic', 'disneyland', '//t.co/nkafbjyari', 'batman', 'speeds', 'insanely', 'myvxexperience', 'magical', 'am.i', 'livid', '//t.co/t3gnk2n7ld', 'groupa', 'honey', 'moon', 'not-friendly', \"'please\", 'ethan', 'revive', 'laundry', 'labor', 'poteettj', '3104', '1212', '//t.co/nw7vx7dgmf', 'rookie', 'prom', 'loudspeaker', 'timed-out', 'clearvision', 'tv4u', '//t.co/q9byn9pctf', 'ouch', 'ewk', 'pseudo-voucher', 'daysinn', 'grief', '0400', 'pre-flight', '//t.co/rkprxtgvfl', 'jim', 'compton', 'ua6', 'seatback', 'ua1260', '518,758', 'usairwaysfflyer', '4278', '//t.co/9xbo5dakak', '1181', 'whammie', 'substantial', '8fkqw', 'hearts..', 'ha…', 'rob', '1579', 'wink', 'turkish', 'grumpy', 'julian', '1228', '640', 'fingerscrossed', 'pleasegod', 'missmykids', 'bass', 'useable', '8x7xvm', 'tsanightmare', 'make/change', 'sch', '530', 'barely-expired', 'rapidrewards', 'closet/overhead', 'lem', '😭😭😭', 'university', '1855', '//t.co/hlzahxkdsn', 'iflyoakland', '*i*', '//t.co/vmquurzupw', 'portcolumbuscmh', 'unserved', 'tiks', '😱❤️im', '1225', 'delayforwhat', 'russelneiss', '//t.co/a7nvbj8ipx', 'smiles', 'miles.thank', 'ord.we', 'jfk-sfo', '45min-hour', '😤', 'hyperlinked', '//t.co/ih5w9nfkz2', 'marciaveronicaa', 'uncle', 'considerate', 'boat', 'ggqzqd', 'balls', 'evry', 'lastflightofthenight', 'breakup', 'tcmparty', 'ce3k', '31daysofoscar', 'montrose', 'agreement', '1531', 'opened', 'aboout', 'aaaand', 'hotel-how', 'hoom', 'ruined', 'additonal', 'flight2149', 'labyrinth', 'swindle', '2065', '//t.co/xggcntco8m', '//t.co/qll48r57ep', 'friendliest', 'thrill', 'vulnerable', 'thief', 'twa', 'unheard', 'ticked', 'wether', '1636', '//t.co/kcqebeej7s', 'tomvh', 'upsell-laden', 'strength', 'mauererpower', 'number.phone', '//t.co/yzh4zrqm0i', 'petty', 'buyer', 'punish', 'ranked', 'aa3074', 'lga.sat', 'us1951+us874.do', 'red-eye', '..back', 'xox', '1081', '11:30am', 'sw900001-vyil1xklrog24fs-918j_a', 'gold/sapphire', 'guc', 'fifth', 'persistence', 'watching..', 'pigeon', '^ah', '3hrs-', 'justynmoro', 'perform', 'placed/ranked', 'sinus', 'contend', 'landing', 'preregistration', 'priorities', '.attempt', '//t.co/wbmhrl3bvl', '4009', 'nws', 'bostonbbb', 'wheresthepilot', 'flt1088', 'flt1999', '//t.co/lycarltfhl', 'federal', 'thereisafirstforeverything', 'much-needed', '417', 'synch', 'expecting', 'prettyplease', 'sock', '//t.co/755vpym4mv', 'requested-', 'losing', 'teem', 'moron', 'greatly', '😭😭💔💔💔💔💔💔💔', '~10', '//t.co/axpn28xiqb', 'breaks', 'guitars', '//t.co/zv6cfpohl5', '2934', '8000', '2am', 'airpt', 'jaipur', 'dehli', 'dissaponted', 'nippon', '4438', 'gth239', 'doumented', 'abc11_wtvd', 'colonist', '//t.co/nzdxrvszwv', '/i', 'lou', 'ourguest', '//t.co/p8vcz4xthm', 'dispatchalerts', '4302', 'ua1270', 'descend', 'farce', 'mccaren', 'cracker-jack', '//t.co/hi6fl1ax9e', 'bangkok', '//t.co/of7pfvqpoy', 'ing', 'burroughs', 'yourairlinesucks', '4-6hrs', '20hrs', 'authorize', 'flowers', 'smfh', 'comin', 'h8', 'thankjesus', 'thankme', 'demote', 'golds.', 'spousal.discrimination/angry', 'grk13575m', 'tmr', 'la-la', '162', 'approximate', 'okee', 'troubleshoot', 'aa2227', 'miatoiah', 'priceline', 'accumulation', '🚫', '↔️', 'directs', 'okcdirects', 'okcprofessionals', 'possibility', 'philly-', 'sxm-clt', 'missedconnection', 'forcedovernight', 'lodging/food', 'andyellwood', 'delk', 'half-thought', 'lowered', 'vetr', 'inc.', 'mideast', '//t.co/ymmh9k4cbr', 'tooooo', 'chain', 'typically', 'delay/missed', '.and', 'comedian', 'stage', 'vcp', 'shortcut', 'peanut/treenut', 'sudden', 'intlcheckin', 'nashinmypants', 'fiscal', '//t.co/ay1gidcfa4', '//t.co/yc7v2s0iod', 'tried-', '03', 'gatwick', 'nostalgic', 'ewr-pdx', 'gpu', 'frequently', 'bull', 'teyana', 'performing', 'medusafridays', '2.27', 'till11', '//t.co/qwfmoq0dql', '//t.co/kbb0b5fxmk', 'themenofbusiness', 'ffl', 'signup', 'congest', 'dissapointing', 'evenmorespace', 'evenmoreview', '//t.co/dxux6dbfd3', 'dignity', '192', 'rndtrp', '4/30-5/5', 'djq_kc', 'djimpact', 'jockeying', '340', 'beingsuckontarmacsucks', '2224', '94', 'jacquelyn', '2251', 'promotions', 'avon', 'dcoadavon', '871', 'denverairport', 'professionalism', 'upgd', '299', 'chasing', 'after2', 'ejacqui', 'exhorbitantfees', 'promos', '✈️anywhere', 'fly=130', 'unamericanairlines', '//t.co/w5nl0ay9bl', '813', '826', 'mbj', '816', 'maintain', 'letitgo', '//t.co/qxteqzm3yz', '3/4', '2/4', '200/trip', 'flashlight', '//t.co/qw2ebeemvg', '//t.co/sllyibe2vq', 'pek', '2218', 'us2218', 'airportcardio', '//t.co/5t4fpcgrej', '😭🙏', 'off..', '//t.co/lchvjolidg', 'gang', '//t.co/vuxf4r4unu', '29', 'money..', 'unexplained', 'entrust', '1058', \"dest'n\", 'seeing', '2mins', '600117', 'yrs.', '//t.co/jm4geyxby5', 'hugely', 'itscostingmeincome', 'gentleman', '//t.co/eeqwvammiy', '//t.co/oa2drfaoq2', '//t.co/lwwdac2khx', '9,000', 'twiiter', '631', '891-5722', 'netneutrality', 'misspell', 'imdetermined', '//t.co/oxm6cwgab7', '//t.co/laiggef9kj', 'drone', 'keambleam', '856.81', 'honululu', '4471', '1318', '118', 'carol', 'lightning', 'think/do', 'language', '10/31', 'ichangedyourdiaper', 'baggage.find', 'tweak', '-any', 'skip', 'extravaganza', 'dobetter', '//t.co/v8pvphmtzc', '8602947', 'jon', '//t.co/58tutgli0d', 'medication', '4days', 'appal', '💔😪', 'bubbly', '//t.co/0jjt4x3yxg', 'e.g', 'muc', 'heavenlychc9', 'disaster..', '3345', 'bringbackrealstaff', 'moments', 'lister', 'filing', '//t.co/rkorhvr9z1', 'contentmarketing', '3-10', 'yikes', 'thxu', 'olive201', 'shipping', 'comeonpeople', '3322', 'planb', '*wanted*', 'consult', '0372389047497', 'casual', '//t.co/jieycat1ek', 'helpless', 'pregame', 'kentuckymbb', 'b15', 'ack', '//t.co/qrxvzfrd1z', '//t.co/ymftw1uyhr', 'sharktank', '1418', '30k/', '//t.co/f5ixyw8xyb', '//t.co/fefhpmfple', 'interesting-agent', 'chocked', 'unmet', 'cantblametheweather', '4461', 'braving', 'amongst', 'educate', 'bohol', 'w/all', 'excruciatingly', '🌞✈', 'arbitrarily', 'bluetiful', 'lifeneedsfrosting', '5202', '14hrs', 'ser', 'stdby', 'ua23', 'shamble', '763', 'executiveplatinummeansnothing', 'iwantcoffee', '2917', 'cid-dfw', 'be/is', \"'priority\", 'terrible..', 'smelly', 'unresolved', 'feelingtheluv', 'sylvie75015', 'sylvie', 'yourock', 'mxo42', 'henrikwagner73', 'jetbluerocks', 'reachable', 'awwweesssooomee', '454', 'frequentflyer', 'c11', 'n559jb', '//t.co/qeada92mw6', 'grievance', 'animal', '👏👏👏👏', 'hepl', 'extortion', '//t.co/fvyzjldton', '🚶🚶🚶🚶', 'decorum', 'revisit', '//t.co/x1eqyahfvz', 'freeconcert', 'sloppy', 'us4485', 'nas', 'pumped', 'throwing', 'reachingnewlows', 'qro', 'alwaysdelayed', 'guyana', 'user-perceived', 'flightncy', '645', 'deboards', '2069', 'hsv', 'z1', 'wewantcomps', 'postpone', 'milage', 'bos-mco', 'missedwork', 'clientnothappy', '//t.co/suprlfoi8t', 'agts', '🙏🙏🙏🙏🙏🙏🙏🙏🙏🙏🙏😢😢😢😢😢😢😢😢🙏🙏🙏🙏🙏🙏🙏🙏🙏🙏🙏🙏🙏🙏🙏🙏🙏🙏🙏🙏🙏', 'squawk', '//t.co/r8p2zy3fe4', 'pacificbiznews', '//t.co/vw4p4t4tlh', 'd.', 'americanforlife', '4097', '8:50', 'clue.could', 'clearing', 'rollerboards', 'art', 're-scheduled', '//t.co/ltf2qud3xc', '4210', 'bradley_airport', 'danihampton', 'dani', 'bwahahaha', 'tf', 'zrh', '2:45hrs', 'pbi-jfk', '2.5hours', 'hatch..', '1337', 'mtn', 'site/complicated', 'ijustwanttobeinboston', 'thanksdc', 'uncvsduke', 'criminal', '//t.co/qgtcao1j2u', 'nuts', 'winterstorm2015', 'whichisworsedenordfw', '5347', 'epicfailure', 'albeit', 'newsvp', '407', '1758', 'vacate', 'findanothergate', 'united-', 'connections-', 'time-not', '//t.co/fxnv618b1a', 'time2switch', '//t.co/ch0nmjymgh', '2031', 'regretting', 'hotterandlongerthanhell', 'specialolympics', '48', 'islands', 'vallarta', '4840', 'alb', 'hep', 'functionally', 'feck', '353', 'flight~please', '3472', 'whereisthelove', 'whybeaaff', 'litter', '29.1.15', '10.2.15', 'soda', '//t.co/xhlc30mtff', 'incorrect', '4841', 'points/mileage', 'pleaseeeeee', 'uno_baseball', 'luvintheair', 'messaged', 'lastflightwithyouever', 'iah-hnl', 'reactive', '6,000', '1605', '6/25', '6/28', 'reasonably', '3:50', '4124', '//t.co/96ftlzwtvo', 'replying-i', '☺️✈️', '3466', 'atl-ord', 'designed', 'deter', 'latter', '//t.co/3ubcoasyws', 'timing', 'wise', 'reduction', 'e+', '737-900s', 'salted', 'dread', '😖', '//t.co/rhw78ktqfo', 'humiliate', 'grumpykim', 'jeffsmisek', 'robertfor39', 'fioretti2ndward', 'garcia4chicago', 'wk', '//t.co/jvj73zza4a', 'yyzua70435', 'electrical', 'whyjeff', 'daytonabeach', 'february.…', '//t.co/oyllrzqu5m', '0510', 'informs', 'exceed', 'the16', 'safetyconcerns', '//t.co/ztrdwv0n4l', '6:48', 'chronological', 'mis-purchase', '16a', '4:40pm', '//t.co/pr3oebc2n2', 'wut', 'regards', \"'on\", '.again', 'tiredofthis', 'twitter/dm', 'manufacture', 'quirkiness', 'mmm', 'signed', '-captiveaudience', 'watson', 'jennings', 'natural', 'beefjerky', 'snacks😉', '//t.co/oylgeao7y8', 'ua1740', '4.5', 'thelodge', 'yeniettelswood', 'andrewbiga', 'codycleverly', 'heidimacey', 'motherpollock', 'arbitrary', 'willneverflywithyou', 'claudia', 'tilleymonsta', 'george', '//t.co/4gr39s91dl', 'indianapolis', '11c', 'grrrrrr', 'cheerupdates', 'unorganized', 'craziness', 'unmanned', 'hanging', '1:30am', 'issues.she', 'tedious', 'kewl', 'abbreve', 'repaint', '3870', '41cgqueen', 'vow', 'smoothtransition', 'transparent', 'induce', 'no-one', '3months', 'badcustomersrvice', 'whereismybag', 'vipliveinthevieyard', '*anything*', '307', 'reseat', 'la😄flying', 'realizing', 'mask', 'lga-bwi', '6600', 'seet', 'upgrade😉', 'keepitup', '//t.co/bkmfey7qol', 'expiration', 'dca-stl', '4972', 'aa977', 'mia-cur', 'pr-friendly', 'mr.', '//t.co/nvlnglnmgn', 'min+', 'helped', 'travelportland', 'hood', '//t.co/y3sahvx3zk', 'ex', 'condescension', 'annnnnd', 'hardworking', 'first..both', 'singer', 'blacklivesmatter', 'jacquie', 'plitt', 'manana', 'tricities', 'whoot', 'in', '4348', 'paulgordonbrown', '//t.co/lt1pykfvrq', 'originate', 'outpost', '~1m', 'vodkatonics', 'flight🍸', 'opt-in', 'verified', 'sxsw', 'sooooooo', 'ridiculously', '730', '470', 'conn', 'aug', 'roanoke', 'sous', 'dividends', '👍👍👍👍👍', '//t.co/aau9mka6zy', 'niece', 'airport-wide', 'unlucky', 'regina', 'argg', 'ea', 'fixthis', 'hs', 'ithaca', 'xld', 'rulesshouldbend', 'sgf', 'vanessaannz', 'inclemental', 'disruption', 'gray', 'embarrassment', 'worldwide', 'shameonyou', '-thx', '..alone', '9h', 'know-', 'appropriately', 'fakesincerity', 'disabledtraveler', 'fustrated', 'english/spanish', 'fay', '1601', 'drvrugby', 'partly', 'dimension', 'drinking', 'briefing', 'cartagena', 'pact', 'showsomerespect', 'monopoly', 'dogbuckeye', 'txfd', 'interim', 'flighting/delaying', 'redeem-points', 'magically', '10:01', 'baitandswitch', 'marccopely', 'discourteous', 'frequentflyers', \"'trained\", 'please..', 'expeditious', 'onechildfourbags', 'crutch', 'nawww', 'construction', 'os', 'category', 'bonnie', 'reunion', 'organize', 'breeze', '//t.co/uoaryq98pu', '//t.co/gdzadxzbya', 'gobankrupt', '//t.co/am9cuiewo4', 'faundation', 'judeo', 'cristian', 'ideologias', '//t.co/mwbk68k0a3', '//t.co/sfjduahx9z', 'skift', '1278', 'bsuxlu', 'poorlyhandled', 'usairheads', '//t.co/18fmr06mn6', 'enjoyed', 'hannah', 'requires.she', 'help.pls', 'donate/rt', '//t.co/v4zvugmkjw', 'crate', 'would-be', 'murraysawchuck', '//t.co/ufbdr5axeo', 'efficencies', 'latrice', 'h.', 'ignored', 'inappropriately', 'connects', '3487', '54', '⤵for', '//t.co/ef4p0hishb', '//t.co/e0r0nto4tr', '//t.co/vudwjm1lyb', 'u😻😻😻', 'marriage', 'barclaycardus', 'controller', 'popped', 'amin_aur', 'guys..', 'jdhadp', 'header.elevateuser.numofpointsavailable', '||', \"'0\", 'tomo', 'swapic', 'n.', '4651', 'cometoaustin', 'cosmopolitan', 'blacklist', 'underweight', 'gooutofbusiness', 'smaller/thinner', 'concentrate', 'gerri_elliott', 'xoxo', 'willie', 'nelson', 'impersonator', 'sang', 'peanutsandtoons', '//t.co/kcddod7uff', 'hahah', '😂👌👌👌', '//t.co/7vee44macm', 'bestfriend', '//t.co/2nzh3qoazo', 'author', 'fiction', 'ua5037', '//t.co/t78k7abtwf', 'rifle', 'pistol', '11.5', 'sour', 'nixchangefees', 'sailor', '1130', '//t.co/ut5grrwaaa', 'pres/ceo', 'therofo', 'cbsbaltimore', '//t.co/oi32uq2ttz', 'ail', 'wheresthecustomerserviceat', '//t.co/phi2ifnjit', '//t.co/ucvnilmb4x', 'ryand2285', 'happybirthday', '456', 'investment', 'greyhoundbus', 'denise', 'dgruber1700', 'shuck', 'truthful', '795', 'cac', 'chicagomidway', 'mgmt', 'idontwannalivewithoutyourlove', '//t.co/i9kcgaxxfa', 'itwasminttobe', 'bestinclasssocial', '//t.co/tmccexyaaq', 'robocalls', 'nomoaa', 'frowny', '15.99', 'wireless', '6.99', 'piggy', 'you…i', 'spain', 'boss', '//t.co/sbgbn7ouxy', '//t.co/liqwoblfbt', '10p', 'rick', 'clifton', 'sea-hou', 'handbag', 'jannasaurusrex', 'janna', 'weappreciateyou', 'jetbluefame', 'au', 'on-going', 'ltaljx', 'goodthingscome', 'burrito', 'craving..', '1119', 'rats', 'midoexhibition', 'mid', 'robot', 'yuck', 'rates', 'fransico', 'evacuate', 'triple', 'loop', '//t.co/6tz6imqzlg', 'usair4603', '4591', 'unempathetic', 'jacket', 'full.do', '2386', 'board/deplane', 'ua6255', 'winnipeg', 'ua1059', 'tightconnection', 'sivi', 'stewart', 'farelock', 'doublestandards', 'double/triple', 'republic', '10:00pm', '2100', 'ticket,12h', 'wifi.missed', 'meeting,7', 'chkout', 'patience.', '3127', '//t.co/n7osjz8a59', 'airbusintheus', 'aruba_airport', 'warmweather', '//t.co/kaej9g0chd', 'veterans', 'mco.keep', 'bur', 'gettingbetter', 'abroad', '//t.co/w9bqiw0aou', 'instance', 'unsuccessful', 'nonperformance', '7hrs', '😅', '//t.co/mha3xxaed5', '6mos', 'assigned', 'las2buf', 'daddyshome', 'rebooks', 'wikipearl', 'natprodexpo', 'expowest', 'hahahahaha', 'segs', 'ant_kneee', '^jj', '0016', '964012', '964077', '964078', 'on.easy', 'kristie', 'sp', 'gate4', 'promotethatgirl', 'a-list-ey', 'theworstairlineever', 'holz', 'forever-anyone', 'yellow', 'her-', 'failingyourcustomer', 'november', 'w/companies', 'foru', 'fidencio', '👌👌👌', '7:40pm', 'jessicajaymes', 'kids', 'hd', 'ua1037', 'ord-sfo', '9abc-def', '//t.co/elhxuv0uj1', '//t.co/xfwxsrwkha', 'emotional', '//t.co/kfd4wqrklw', '3:05pm', '7:40', '1hour', '3349', '402', 'too😊😊', 'greatest', 'luz', 'calderon', 'king', 'mardigras2015', 'ehsanismpowered', 'haa', '//t.co/qdljhsloi5', '//t.co/qgmfcb7yt4', 'home..', 'yxe', 'ua6136', '//t.co/4jdvk8tcqx', 'monitoring', 'fakeawards', 'luvisbetter', 'keithlaw', 'proposition', '.true', 'creditcardsales', 'interviewed', 'recruiter', '14a', 'ua895', 'stubbornly', 'dresparkles', 'theworstairline', 'c/s', 'julesdameron', 'accessibility', 'equality', '.the', '4424', 'flyrepublicair', 'n813ma', '//t.co/osc9oflol3', 'unexpected', 'golfunited', 'satisfactorily', 'justsayin', 'hotspot', 'txt', '9:04', 'alfamilyoffour', '.for', 'clt-nyc', 'notion', 'retook', '//t.co/hqhdad7fvk', 'sellmypointssoon', 'shift', 'rap', 'contactless', 'chaperone', 'lost/found', 'delightful', 'miami-phl', '//t.co/e1mex0t6q5', 'breavement', 'graduation', 'acc', 'uncompromising', 'blindside', 'killeen', 'serf', 'notsatisfied', 'poor/non-communication', 'unaccounted', 'kicked', 'ralph', 'nader', '//t.co/o0745apiau', '1447', 'n351jb', 'county', '//t.co/xx2m2jxqep', 'regains', 'karma', 'sweaty', 'l_burley11', 'kitchen', 'inchecking', 'netherlands', 'am', 'goodness', 'nwk', 'sf..', 'slacksoft_uk', 'colour', 'dontmakemegooutside', 'unhappy..spend', 'time😡😡😡', 'sitter', 'superb', 'rave', '2672', 'coltsmissingbags', 'rebook-please', 'working', 'good-humored', 'minefits', 'beought', 'unexpactable', 'tlc', 'universalorl', 'communist', 'russia', 'begrudgingly', 'rivet', 'getconnected', 'aa2416', '681', 'nikon', 'obj', 'lmaooo', 'down..thanks', 'boofin', '9:50', 'students', '~80-100', '8.20', '9.50', '8.10', 'tks', '2013', '//t.co/1ywxrfn0gr', 'pb', 'gvn', 'rented', '//t.co/nxqijcojnj', 'ua1116', 'mug', 'wrongiswrong', 'unansweredquestions', 'started', '4:30am', 'unavoidable', 'controllable', 'sundays', 'genuine', '45.', '4:00', '//t.co/zcbjyo6lsn', 'austin-bergstrom', '2334', '11:40', '//t.co/nlzs1ehnee', 'hoo', '🎉🎉🎉', 'spf', 'noreply', 'usairwaysmobile.com', 'filter', 'dns', 'admin', 'idnumber8569822', 'hopetogetanswersoon', 'ua1023', 'visibly', '611', 'inputted', 'sittingontheplane', 'southwestverity', 'align', 'connecting', '80°', 'mobay', '11:15p', 'support-', 'sadden', 'straightend', 'roundtrips', '//t.co/pzal4wtrez', '.in', 'w/class', 'sfo-jfk', 'out..', 'n/a', '779', '389.50', 'means', 'tanked', 'sine', '9:50pm', 'wail', 'unfair', 'infrastructure', 'massivefail', 'failphone', '253', 'periolodicly', '//t.co/qxww1p09a0', 'idonotcare', '//t.co/iitojhuikh', 'distinguish', '//t.co/wcsazzqpae', 'reservation/change', 'laughter', 'usairwis', 'ciscojimfrench', 'cobedien', '//t.co/g4wwr6vbrq', 'telaviv', 'impolite', 'cramming', 'plane.no', '350pm', 'wishing', 'snap', 'immensely', 'pqms', 'pqds', 'sector', 'whereby', '5431', 'earlybirdmeansnothing', 'abcnews', 'msnbc', 'inaccessibility', 'bked', 'anchorage', 'fairbanks', '//t.co/fjkvqmbmas', 'qsvgru', 'bdsm', 'porn', '//t.co/uqgw6qsffu', 'dungeon', '//t.co/pl9sop5ihu', '704', 'bwi-boston', 'dc9', '3797', 'direction', '//t.co/imrlau77ih', 'template', '//t.co/4oje523ptw', 'xtra', 'donotflyusair', '4315', 'n231wn', 'fly_nashville', '//t.co/idra8kenoh', 'sweat', '//t.co/cxttxv2lmp', '1689', '2118', 'there..', 'revision', 'ezee', 'born', 'wilson', 'reassess', 'zambia', 'on-plane', 'deployment', 'escort', 'prebooked', 'und', 'unserviceable', 'equalizer', 'wtw', 'claudoakeshott', 'bein', '//t.co/ucf0b0bq8r', 'please.my', 'stafford', '//t.co/vqmdmzafuj', 'bs.have', '4:45pm', 'bos-bna', 'staticy', 'ithelpsabit', 'angriest', 'angst-iest', 'tasha', 'dad_or_alive', 'slip', '//t.co/oqukso3s2o', 'now.', 'display', 'things…', 'upfare', 'continentalairlines', 'communicationfail', 'unconscionable', '//t.co/1incncav4n', '8088', 'thestarter', 'flight.flew', 'lga-cle-den', 'byod', 'worksnicely', 'bila', 'a321', 'jfk-sea', 'core', 'config', 'kinder', 'a-', 'analystdoc', '//t.co/nfaqhhr09j', 'northern', '//t.co/nm4vnnf8kb', 'build', '//t.co/mpi4yuo9jr', 'restructure', 'brotha', 'patrichruben', 'maximization', 'dinosaur', '.your', 'flight7', '4473', 'campus', 'minimum', '409', '0671', '😡😤😖😲😩', '//t.co/h11jglw74l', 'ayyy', 'recording', 'bringyourown', 'kleankanteen', '//t.co/daaa0rqbxw', '//t.co/quzvmk2rtr', '//t.co/t5mrj5yw6i', 'society', '4565', 'pid', 'southwestoliver', 'worstcustservice', 'closure', 'mpls', 'jdbwaffles', 'golfwithwoody', 'woody', 'pre-rookie', 'plunder', 'hard-earned', '3494', 'ewr-ord', '5491', 'ord-ywg', 'ct.', '5644', 'connex', 'at😳', '//t.co/pa7dcjxlzl', 'fam😭😭', '//t.co/2pujvcelng', 'attendents', 'ua1022', 'maker', 'mindset', '//t.co/dqnn0rf1v8', 'winterstorm', 'ua871', 'fyvrfn', '..due', 'tickt', 'did-', 'journalist', '2646', '1857', '6232', 'tbd', 'usd', 'quotation', 'bkk', 're-boarded', 'baftz', 'joke-', 'lovedflyingwiththem', 'notanymore', 'badpolicy', '😋', 'tongue-in-cheek', 'etiquette', '//t.co/gguaa1jvdf', 'nigga..', 'forty', 'g6455c', 'quarter', 'shortstaffed', '578', '//t.co/m81rv0blxs', 'nationalairpor', 'nothin.i', 'ghettofab', '//t.co/maqw2nlniu', '//t.co/tlgoihqkvs', 'helping', 'wonderfully', '//t.co/irixaifjjx', 'intent', 'l.a.', '//t.co/yccitaep3s', 'uggh', 'wmass', '0/3', '👎👎', 'heartless', '745', '815', 'getmeontop', 'weeks', 'appeal', 'stahp', '😂😂😭😭😭😭', '//t.co/bm2unraoni', 'discipline', 'foodallergy', '3076', 'burn', 'internship', 'dice', 'solo', 'w.', 'saipan', 'guam', 'adventure', 'capeair', 'tick', '.😃', 're-unite', 'capital', 'unitedvusa', '//t.co/rbn7stuij1', 'sanitizer', 'woeful', 'elmira', 'oy', 'day.i', '175', 'ventilation', 'hiltonworldwide', 'caravannyc', 'maysvillenyc', 'nyc…as', '//t.co/egaejtrglb', 'versa', '😂😂😂😂😂omg', 'bored', 'convo..', 'complt', '295.lav', 'pln', 'lnded', 'nite', 'luke_mcintosh68', 'faail', '.giving', '12.45am', '138', '//t.co/ps9q9rpsil', '382', 'wretched', 'geez', 'flt2417', 'wd40', 'a319', '634', 'squeak', 'ua3426', 'sadie4406', '//t.co/mraw3qdw4d', 'fox8news', 'kristi_capel', 'fla.', 'ripoffs', 'pricediscrimination', 'learned', '//t.co/mfssh2uhue', 'itsthelittlethings', '1180', 'asking', 'pgfryz', 'z', 'refundable', 'convo', 'session', 'beloved', '//t.co/vv8cfyhkvb', 'joyadventuremom', 'breastfeeding', '//t.co/p6r5rt5ow5', 'rocker', 'knock', '🐩', '//t.co/vqtyza6mzu', 'patienceiswearingthin', 'fiancee', 'unspecified', 'wannaa', 'aal', 'abcnetwork', 'kgonzales89', 'scandal', 'voucher..', 'face..', '3763', 'iad-sat', 'outdoor', 'cricket', 'strandednyc', '3933', 'duped', 'sneaky', '.estimated', 'unmoving', '//t.co/asw6qwuf1z', 'usable', '87', '43rd', 'bugging', '//t.co/ju9rhz4rqc', 'reliability', 'downhill', 'particular', 'steel', 'fan-', 'el_ingeniero', 'w/others', 'peopleon', '//t.co/hfof33iyhi', 'oyu', 'moodlight', 'sciencebehindtheexperience', '//t.co/y7o0unxtqp', 'obey', 'insurance', 'diehardvirgin', 'achieve', '117', 'email/text', '2010', 'feat', 'caterobbie', '10:55pm', 'lindsay', 'parentsonboard', 'mclarren', 'exasperate', 'undergo', 'madhouse', '✈️😃👍', 'nyc-buenos', 'aires', '3.30pm', 'delayed/cancelled', 'emails/calls', 'rett', 'cavan', 'gofundme', 'ew', '//t.co/b4xhirugzv', 'accomidating', 'simplify', 'communications-', 'jp', '//t.co/aufm4xdaj2', '8004337300', '3231dtw', '4:45', 'essential', 'nashville.should', 'router', 'fuselage', 'pensacola', '3670', 'finishes', 'istanbul', 'dreadful', 'ua415', 'argentina', 'vacancy', '2,500', 'mcdonnell', 'douglas', 'goodnight', 'lea', 'stepup', 'makeitright', 'wewillsee', '200fee', 'connectfor', '60+min', '🌴🌴', '//t.co/ncguzdgdaq', 'gerne', 'updated', '//t.co/wrwqrublps', 'ubergizmo', 'ua647', 'improper', 'gill', 'wouldnt', 'mega', 'candy', '449', 'yaayy', '//t.co/dxicoyioxf', 'convince', 'junk/spam', 'mosiacfail', 'spin', '4/10', 'thur', 'measly', 'e-certificate', 'spiritairpr', 'chicagosmayor', 'noise', 'norahm', '//t.co/cfzdjmn0ui', 'jetbluehatesbtv', 'd/fw', '-.-', '//t.co/58b7swrpmq', '566.80', 'nosupport', '653', '2y', '🇺🇸', '🎀', 'positive..', 'tiredandwanttogohome', 'lilly', 'enrol', 'djevolutionhd', '125k+', '3hourdelay', 'vino', '🍷', 'bdindallas', 'msbgu', 'whiny', 'semantics', 'dictionary', 'equivalent', 'dirt', 'slow-fi', 'pre-tsa', '❤️✨', \"'missing\", 'gjt', 'precioustime', '//t.co/5hpsqvrjk8', 'businesstravel', 'goodenoughmother', 'vaca', '😊🌴', '//t.co/9trvfncedl', 'misread', 'sugar', '35k', 'rtb', 'way/way', 'back-', '//t.co/kvxs1lcqlp', 'alynewton', 'question..', 'tvs/music', 'short-shorts', 'strayed', '//t.co/96sctomh29', 'slowest', '50hrs', 'inflatable', 'savethoseseats', 'ind43728m', 'calls', 'investigated—my', '//t.co/0kn7pjelzl', 'leathery', '4251', 'fend4urself', 'actively', \"'footrest\", 'shelf', 'a330', '//t.co/zl4bvexmcj', 'itslaloca', 'cking', '❤️from', 'beatstheothers', '//t.co/tny9uipha5', '15:30', 'tmobile', '40,000', '//t.co/7x9usbj2fv', 'svu', '2.5hrs', 'mccarran', 'c16', 'class/write', 'midterm', '😠', '-rr', '1079871763', 'trite', '//t.co/k66srfnw77', '2102', 'suuuuper', 'backwards', '//t.co/aiyc9wv5oq', 'gets', 'ua862', 'bully', 'mentality', 'foster', 'inspiration', 'employeerelations', 'hinder', 'signing', 'credential', 'yday', '90min', 'drenched..', 'suree', '//t.co/avyqdmpi1y', '4595', 'hours.love', 'brush', '310', 'amypoehler', 'tk', 'spk', 'terror', 'angrycustomer', 'fromthefrontseat', 'anku', 'yaffasolin', 'possession', '5hr', 'cle-sfo', '1589', 'suite', 'veggie', 'olive', 'nose', 'flightglobal', '//t.co/yf9nhmwyff', '3-1/2', '159', '😑'])"
            ]
          },
          "metadata": {
            "tags": []
          },
          "execution_count": 361
        }
      ]
    },
    {
      "cell_type": "code",
      "metadata": {
        "id": "_RTta_dVoycI",
        "colab_type": "code",
        "colab": {}
      },
      "source": [
        "feature = []"
      ],
      "execution_count": 0,
      "outputs": []
    },
    {
      "cell_type": "code",
      "metadata": {
        "id": "dExG604nmjU7",
        "colab_type": "code",
        "colab": {}
      },
      "source": [
        "for i in init_features.keys():\n",
        "  #if(len(i)>2):\n",
        "    feature.append( (i , init_features[i]) )"
      ],
      "execution_count": 0,
      "outputs": []
    },
    {
      "cell_type": "code",
      "metadata": {
        "id": "wIzJKXnuhZrU",
        "colab_type": "code",
        "colab": {}
      },
      "source": [
        "from operator import itemgetter\n",
        "feature.sort(key = itemgetter(1),reverse=True)"
      ],
      "execution_count": 0,
      "outputs": []
    },
    {
      "cell_type": "code",
      "metadata": {
        "id": "B3nyA-I2pVas",
        "colab_type": "code",
        "colab": {}
      },
      "source": [
        "feature = feature[:7100]"
      ],
      "execution_count": 0,
      "outputs": []
    },
    {
      "cell_type": "code",
      "metadata": {
        "id": "L51SJK5BpeBc",
        "colab_type": "code",
        "colab": {}
      },
      "source": [
        "features = [ f[0] for f in feature]"
      ],
      "execution_count": 0,
      "outputs": []
    },
    {
      "cell_type": "code",
      "metadata": {
        "id": "B89frXuFq1qu",
        "colab_type": "code",
        "outputId": "9c10f634-4fd6-4183-8955-ed4ad9ac982c",
        "colab": {
          "base_uri": "https://localhost:8080/",
          "height": 34
        }
      },
      "source": [
        "len(features)"
      ],
      "execution_count": 0,
      "outputs": [
        {
          "output_type": "execute_result",
          "data": {
            "text/plain": [
              "7100"
            ]
          },
          "metadata": {
            "tags": []
          },
          "execution_count": 367
        }
      ]
    },
    {
      "cell_type": "code",
      "metadata": {
        "id": "kSn3fz-3hrWf",
        "colab_type": "code",
        "colab": {}
      },
      "source": [
        "def make_dict(words):\n",
        "  current_feature = {}\n",
        "  word = set(words)\n",
        "  for w in features:\n",
        "    current_feature[w] = w in word\n",
        "  return current_feature"
      ],
      "execution_count": 0,
      "outputs": []
    },
    {
      "cell_type": "code",
      "metadata": {
        "id": "KJyQ471lhquw",
        "colab_type": "code",
        "colab": {}
      },
      "source": [
        "train_fin = [ (make_dict(doc) , cat)  for doc , cat in train]"
      ],
      "execution_count": 0,
      "outputs": []
    },
    {
      "cell_type": "code",
      "metadata": {
        "id": "RDftvWMwi8mK",
        "colab_type": "code",
        "colab": {}
      },
      "source": [
        "test_fin = [ (make_dict(doc) , cat)  for doc , cat in test]"
      ],
      "execution_count": 0,
      "outputs": []
    },
    {
      "cell_type": "code",
      "metadata": {
        "id": "faV-3ZUqqLBj",
        "colab_type": "code",
        "colab": {}
      },
      "source": [
        "temp_fin = [ make_dict(doc)  for doc , cat in test]"
      ],
      "execution_count": 0,
      "outputs": []
    },
    {
      "cell_type": "code",
      "metadata": {
        "id": "gTJ12OxqjLX1",
        "colab_type": "code",
        "colab": {}
      },
      "source": [
        "from nltk import NaiveBayesClassifier as nb"
      ],
      "execution_count": 0,
      "outputs": []
    },
    {
      "cell_type": "code",
      "metadata": {
        "id": "ROzZAARtjLT4",
        "colab_type": "code",
        "colab": {}
      },
      "source": [
        "classifier = nb.train(train_fin)"
      ],
      "execution_count": 0,
      "outputs": []
    },
    {
      "cell_type": "code",
      "metadata": {
        "id": "_D9Gsdk2jLSX",
        "colab_type": "code",
        "outputId": "2998c92f-d9b4-4b9b-a4e8-ca79a60cdd7f",
        "colab": {
          "base_uri": "https://localhost:8080/",
          "height": 34
        }
      },
      "source": [
        "nltk.classify.accuracy(classifier , test_fin)"
      ],
      "execution_count": 0,
      "outputs": [
        {
          "output_type": "execute_result",
          "data": {
            "text/plain": [
              "0.7712204007285974"
            ]
          },
          "metadata": {
            "tags": []
          },
          "execution_count": 103
        }
      ]
    },
    {
      "cell_type": "code",
      "metadata": {
        "id": "KTal3JWCq7g7",
        "colab_type": "code",
        "outputId": "a629c1d6-aa3d-4433-fe32-4ad371655515",
        "colab": {
          "base_uri": "https://localhost:8080/",
          "height": 34
        }
      },
      "source": [
        "np.savetxt('res.csv',res,fmt='%s')"
      ],
      "execution_count": 0,
      "outputs": [
        {
          "output_type": "execute_result",
          "data": {
            "text/plain": [
              "2745"
            ]
          },
          "metadata": {
            "tags": []
          },
          "execution_count": 70
        }
      ]
    },
    {
      "cell_type": "code",
      "metadata": {
        "id": "Ju_jJT4Xi0uf",
        "colab_type": "code",
        "outputId": "2ad40927-bb9d-427b-92b0-bec1cee0c0a8",
        "colab": {
          "base_uri": "https://localhost:8080/",
          "height": 289
        }
      },
      "source": [
        "classifier.show_most_informative_features(15)"
      ],
      "execution_count": 0,
      "outputs": [
        {
          "output_type": "stream",
          "text": [
            "Most Informative Features\n",
            "                   kudos = True           positi : negati =     51.9 : 1.0\n",
            "               fantastic = True           positi : negati =     34.2 : 1.0\n",
            "                favorite = True           positi : negati =     34.2 : 1.0\n",
            "             outstanding = True           positi : negati =     29.1 : 1.0\n",
            "                 helpful = True           positi : neutra =     25.4 : 1.0\n",
            "                   flyfi = True           positi : negati =     24.1 : 1.0\n",
            "                   thank = True           positi : negati =     23.0 : 1.0\n",
            "                 awesome = True           positi : negati =     22.6 : 1.0\n",
            "                    hold = True           negati : positi =     22.3 : 1.0\n",
            "               beautiful = True           positi : negati =     21.5 : 1.0\n",
            "                      hr = True           negati : positi =     21.4 : 1.0\n",
            "                   daily = True           neutra : negati =     20.6 : 1.0\n",
            "                  street = True           neutra : negati =     20.6 : 1.0\n",
            "               wonderful = True           positi : negati =     20.1 : 1.0\n",
            "                  online = True           negati : positi =     20.1 : 1.0\n"
          ],
          "name": "stdout"
        }
      ]
    },
    {
      "cell_type": "code",
      "metadata": {
        "id": "fkzLd53nrZBV",
        "colab_type": "code",
        "colab": {}
      },
      "source": [
        "df_test = pd.read_csv(\"test.csv\")\n",
        "y_test = pd.DataFrame()"
      ],
      "execution_count": 0,
      "outputs": []
    },
    {
      "cell_type": "code",
      "metadata": {
        "id": "gsnDGXWSrY7r",
        "colab_type": "code",
        "colab": {}
      },
      "source": [
        "y_test['input'] = df_test['text']"
      ],
      "execution_count": 0,
      "outputs": []
    },
    {
      "cell_type": "code",
      "metadata": {
        "id": "kqBLx61YrYvd",
        "colab_type": "code",
        "colab": {}
      },
      "source": [
        "sentiment = np.array(y_test)"
      ],
      "execution_count": 0,
      "outputs": []
    },
    {
      "cell_type": "code",
      "metadata": {
        "id": "Y01jPjzarYte",
        "colab_type": "code",
        "colab": {}
      },
      "source": [
        "senti_test = [ (word_tokenize(word[0])) for word in sentiment]"
      ],
      "execution_count": 0,
      "outputs": []
    },
    {
      "cell_type": "code",
      "metadata": {
        "id": "Q0G5MW4brYoy",
        "colab_type": "code",
        "colab": {}
      },
      "source": [
        "finale = [ clean(docs)  for docs in senti_test ]"
      ],
      "execution_count": 0,
      "outputs": []
    },
    {
      "cell_type": "code",
      "metadata": {
        "id": "eUhNYozTxNil",
        "colab_type": "code",
        "colab": {}
      },
      "source": [
        "test_fin = [ make_dict(doc)  for doc in finale]"
      ],
      "execution_count": 0,
      "outputs": []
    },
    {
      "cell_type": "code",
      "metadata": {
        "id": "1s5kgA3TvwKC",
        "colab_type": "code",
        "colab": {}
      },
      "source": [
        "res=[]"
      ],
      "execution_count": 0,
      "outputs": []
    },
    {
      "cell_type": "code",
      "metadata": {
        "id": "TAC8m7OexM4Q",
        "colab_type": "code",
        "outputId": "47fbb550-c647-4180-db08-782cb9909d31",
        "colab": {
          "base_uri": "https://localhost:8080/",
          "height": 629
        }
      },
      "source": [
        "x=0\n",
        "for i in test_fin:\n",
        "  x+=1\n",
        "  if(x%100==0):\n",
        "    print(x)\n",
        "  res.append(classifier.classify(i))"
      ],
      "execution_count": 0,
      "outputs": [
        {
          "output_type": "stream",
          "text": [
            "100\n",
            "200\n",
            "300\n",
            "400\n",
            "500\n",
            "600\n",
            "700\n",
            "800\n",
            "900\n",
            "1000\n",
            "1100\n",
            "1200\n",
            "1300\n",
            "1400\n",
            "1500\n",
            "1600\n",
            "1700\n",
            "1800\n",
            "1900\n",
            "2000\n",
            "2100\n",
            "2200\n",
            "2300\n",
            "2400\n",
            "2500\n",
            "2600\n",
            "2700\n",
            "2800\n",
            "2900\n",
            "3000\n",
            "3100\n",
            "3200\n",
            "3300\n",
            "3400\n",
            "3500\n",
            "3600\n"
          ],
          "name": "stdout"
        }
      ]
    },
    {
      "cell_type": "code",
      "metadata": {
        "id": "t_Ww3Ry-xMwn",
        "colab_type": "code",
        "colab": {}
      },
      "source": [
        "np.savetxt('res.csv',res,fmt='%s')"
      ],
      "execution_count": 0,
      "outputs": []
    },
    {
      "cell_type": "code",
      "metadata": {
        "id": "vEvbv5t9xMSi",
        "colab_type": "code",
        "outputId": "b5f36daf-071f-4505-d682-b2d82cb23a3d",
        "colab": {
          "base_uri": "https://localhost:8080/",
          "height": 34
        }
      },
      "source": [
        "!ls"
      ],
      "execution_count": 0,
      "outputs": [
        {
          "output_type": "stream",
          "text": [
            "datalab  nltk_data  res.csv  test.csv  train.csv\r\n"
          ],
          "name": "stdout"
        }
      ]
    },
    {
      "cell_type": "code",
      "metadata": {
        "id": "-FP5uSs2q_kj",
        "colab_type": "code",
        "colab": {}
      },
      "source": [
        "from google.colab import files\n",
        "files.download('res.csv')"
      ],
      "execution_count": 0,
      "outputs": []
    },
    {
      "cell_type": "code",
      "metadata": {
        "id": "zBlUXekZu38m",
        "colab_type": "code",
        "colab": {}
      },
      "source": [
        "from nltk.classify.scikitlearn import SklearnClassifier as sc"
      ],
      "execution_count": 0,
      "outputs": []
    },
    {
      "cell_type": "code",
      "metadata": {
        "id": "LQo46YFXu37G",
        "colab_type": "code",
        "colab": {}
      },
      "source": [
        "from sklearn.svm import SVC"
      ],
      "execution_count": 0,
      "outputs": []
    },
    {
      "cell_type": "code",
      "metadata": {
        "id": "3-DhfmWCu33j",
        "colab_type": "code",
        "colab": {}
      },
      "source": [
        "svc = SVC()\n",
        "clf_svm = sc(svc)"
      ],
      "execution_count": 0,
      "outputs": []
    },
    {
      "cell_type": "code",
      "metadata": {
        "id": "NI1hem3Wu30Q",
        "colab_type": "code",
        "outputId": "c4e55dd9-69d3-4d05-d5d1-18aa898118c6",
        "colab": {
          "base_uri": "https://localhost:8080/",
          "height": 85
        }
      },
      "source": [
        "clf_svm.train(train_fin)"
      ],
      "execution_count": 0,
      "outputs": [
        {
          "output_type": "execute_result",
          "data": {
            "text/plain": [
              "<SklearnClassifier(SVC(C=1.0, cache_size=200, class_weight=None, coef0=0.0,\n",
              "  decision_function_shape='ovr', degree=3, gamma='auto', kernel='rbf',\n",
              "  max_iter=-1, probability=False, random_state=None, shrinking=True,\n",
              "  tol=0.001, verbose=False))>"
            ]
          },
          "metadata": {
            "tags": []
          },
          "execution_count": 388
        }
      ]
    },
    {
      "cell_type": "code",
      "metadata": {
        "id": "YXrphPGrzSUS",
        "colab_type": "code",
        "outputId": "fe6a13b9-2048-4163-9f3c-131628b32497",
        "colab": {
          "base_uri": "https://localhost:8080/",
          "height": 34
        }
      },
      "source": [
        "clf_svm.classify(test_fin[0])"
      ],
      "execution_count": 0,
      "outputs": [
        {
          "output_type": "execute_result",
          "data": {
            "text/plain": [
              "'negative'"
            ]
          },
          "metadata": {
            "tags": []
          },
          "execution_count": 400
        }
      ]
    },
    {
      "cell_type": "code",
      "metadata": {
        "id": "67zeGW3ekZ7m",
        "colab_type": "code",
        "outputId": "39e3c788-a26b-47ee-d509-8ee4606a1716",
        "colab": {
          "base_uri": "https://localhost:8080/",
          "height": 629
        }
      },
      "source": [
        "res=[]\n",
        "x=0\n",
        "for i in test_fin:\n",
        "  x+=1\n",
        "  if(x%100==0):\n",
        "    print(x)\n",
        "  res.append(clf_svm.classify(i))"
      ],
      "execution_count": 0,
      "outputs": [
        {
          "output_type": "stream",
          "text": [
            "100\n",
            "200\n",
            "300\n",
            "400\n",
            "500\n",
            "600\n",
            "700\n",
            "800\n",
            "900\n",
            "1000\n",
            "1100\n",
            "1200\n",
            "1300\n",
            "1400\n",
            "1500\n",
            "1600\n",
            "1700\n",
            "1800\n",
            "1900\n",
            "2000\n",
            "2100\n",
            "2200\n",
            "2300\n",
            "2400\n",
            "2500\n",
            "2600\n",
            "2700\n",
            "2800\n",
            "2900\n",
            "3000\n",
            "3100\n",
            "3200\n",
            "3300\n",
            "3400\n",
            "3500\n",
            "3600\n"
          ],
          "name": "stdout"
        }
      ]
    },
    {
      "cell_type": "code",
      "metadata": {
        "id": "m5MNrh5JvzBE",
        "colab_type": "code",
        "colab": {}
      },
      "source": [
        "np.savetxt('res_svm.csv',res,fmt='%s')\n",
        "from google.colab import files\n",
        "files.download('res_svm.csv')"
      ],
      "execution_count": 0,
      "outputs": []
    },
    {
      "cell_type": "code",
      "metadata": {
        "id": "NSADNBOFvy88",
        "colab_type": "code",
        "colab": {}
      },
      "source": [
        "from sklearn.ensemble import RandomForestClassifier"
      ],
      "execution_count": 0,
      "outputs": []
    },
    {
      "cell_type": "code",
      "metadata": {
        "id": "-l75QVhNvy68",
        "colab_type": "code",
        "colab": {}
      },
      "source": [
        "rfc = RandomForestClassifier(verbose = 4 , warm_start=True)\n",
        "clf_random = sc(rfc)"
      ],
      "execution_count": 0,
      "outputs": []
    },
    {
      "cell_type": "code",
      "metadata": {
        "id": "KvnL9WOUvyrp",
        "colab_type": "code",
        "outputId": "d9a8012d-75d9-4dc6-85eb-61d2bc891bc3",
        "colab": {
          "base_uri": "https://localhost:8080/",
          "height": 357
        }
      },
      "source": [
        "clf_random.train(train_fin)"
      ],
      "execution_count": 0,
      "outputs": [
        {
          "output_type": "stream",
          "text": [
            "building tree 1 of 10\n",
            "building tree 2 of 10\n"
          ],
          "name": "stdout"
        },
        {
          "output_type": "stream",
          "text": [
            "[Parallel(n_jobs=1)]: Done   1 out of   1 | elapsed:    0.2s remaining:    0.0s\n",
            "[Parallel(n_jobs=1)]: Done   2 out of   2 | elapsed:    0.3s remaining:    0.0s\n"
          ],
          "name": "stderr"
        },
        {
          "output_type": "stream",
          "text": [
            "building tree 3 of 10\n",
            "building tree 4 of 10\n"
          ],
          "name": "stdout"
        },
        {
          "output_type": "stream",
          "text": [
            "[Parallel(n_jobs=1)]: Done   3 out of   3 | elapsed:    0.4s remaining:    0.0s\n"
          ],
          "name": "stderr"
        },
        {
          "output_type": "stream",
          "text": [
            "building tree 5 of 10\n",
            "building tree 6 of 10\n",
            "building tree 7 of 10\n",
            "building tree 8 of 10\n",
            "building tree 9 of 10\n",
            "building tree 10 of 10\n"
          ],
          "name": "stdout"
        },
        {
          "output_type": "stream",
          "text": [
            "[Parallel(n_jobs=1)]: Done  10 out of  10 | elapsed:    1.6s finished\n"
          ],
          "name": "stderr"
        },
        {
          "output_type": "execute_result",
          "data": {
            "text/plain": [
              "<SklearnClassifier(RandomForestClassifier(bootstrap=True, class_weight=None, criterion='gini',\n",
              "            max_depth=None, max_features='auto', max_leaf_nodes=None,\n",
              "            min_impurity_decrease=0.0, min_impurity_split=None,\n",
              "            min_samples_leaf=1, min_samples_split=2,\n",
              "            min_weight_fraction_leaf=0.0, n_estimators=10, n_jobs=1,\n",
              "            oob_score=False, random_state=None, verbose=4, warm_start=True))>"
            ]
          },
          "metadata": {
            "tags": []
          },
          "execution_count": 408
        }
      ]
    },
    {
      "cell_type": "code",
      "metadata": {
        "id": "08wYBfF7vym6",
        "colab_type": "code",
        "colab": {}
      },
      "source": [
        "res=[]\n",
        "x=0\n",
        "for i in test_fin:\n",
        "  x+=1\n",
        "  if(x%100==0):\n",
        "    print(x)\n",
        "  res.append(clf_random.classify(i))"
      ],
      "execution_count": 0,
      "outputs": []
    },
    {
      "cell_type": "code",
      "metadata": {
        "id": "cONqWXtevyk2",
        "colab_type": "code",
        "colab": {}
      },
      "source": [
        "np.savetxt('res_random.csv',res,fmt='%s')\n",
        "from google.colab import files\n",
        "files.download('res_random.csv')"
      ],
      "execution_count": 0,
      "outputs": []
    },
    {
      "cell_type": "code",
      "metadata": {
        "id": "cSI4DmeEVir7",
        "colab_type": "code",
        "outputId": "13a5f769-b191-4912-9846-1a4b9b414471",
        "colab": {
          "base_uri": "https://localhost:8080/",
          "height": 187
        }
      },
      "source": [
        "import nltk\n",
        "nltk.download('punkt')\n",
        "nltk.download('wordnet')\n",
        "nltk.download('averaged_perceptron_tagger')\n",
        "nltk.download('stopwords')"
      ],
      "execution_count": 0,
      "outputs": [
        {
          "output_type": "stream",
          "text": [
            "[nltk_data] Downloading package punkt to /content/nltk_data...\n",
            "[nltk_data]   Unzipping tokenizers/punkt.zip.\n",
            "[nltk_data] Downloading package wordnet to /content/nltk_data...\n",
            "[nltk_data]   Unzipping corpora/wordnet.zip.\n",
            "[nltk_data] Downloading package averaged_perceptron_tagger to\n",
            "[nltk_data]     /content/nltk_data...\n",
            "[nltk_data]   Unzipping taggers/averaged_perceptron_tagger.zip.\n",
            "[nltk_data] Downloading package stopwords to /content/nltk_data...\n",
            "[nltk_data]   Unzipping corpora/stopwords.zip.\n"
          ],
          "name": "stdout"
        },
        {
          "output_type": "execute_result",
          "data": {
            "text/plain": [
              "True"
            ]
          },
          "metadata": {
            "tags": []
          },
          "execution_count": 17
        }
      ]
    },
    {
      "cell_type": "code",
      "metadata": {
        "id": "7JxC9b3DWh0C",
        "colab_type": "code",
        "colab": {}
      },
      "source": [
        ""
      ],
      "execution_count": 0,
      "outputs": []
    }
  ]
}